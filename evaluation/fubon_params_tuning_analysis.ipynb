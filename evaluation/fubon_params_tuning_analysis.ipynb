{
 "cells": [
  {
   "cell_type": "code",
   "execution_count": 119,
   "id": "0add21bb",
   "metadata": {},
   "outputs": [],
   "source": [
    "import pandas as pd\n",
    "import dask.dataframe as dd\n",
    "import numpy as np\n",
    "import plotly.io as pio\n",
    "\n",
    "pd.options.plotting.backend = 'plotly'\n",
    "pio.templates.default = 'plotly_dark'\n",
    "pd.set_option('display.float_format', '{:.3f}'.format)"
   ]
  },
  {
   "cell_type": "markdown",
   "id": "b9c15928",
   "metadata": {},
   "source": [
    "### Fubon Real Transaction Statistics"
   ]
  },
  {
   "cell_type": "code",
   "execution_count": null,
   "id": "4a86925a",
   "metadata": {},
   "outputs": [],
   "source": [
    "data = pd.read_pickle('../data/fubon_transactions_real.pkl')"
   ]
  },
  {
   "cell_type": "code",
   "execution_count": null,
   "id": "dac38c29",
   "metadata": {},
   "outputs": [],
   "source": [
    "df = pd.DataFrame(data)\n",
    "# Export transaction data to `.csv`\n",
    "df['buy_val'] = df['buy'] * df['price']\n",
    "df['sell_val'] = df['sell'] * df['price']\n",
    "df['net_flow'] = df['buy_val'] - df['sell_val']\n",
    "(df.groupby('date')[['net_flow']]\n",
    " .sum()\n",
    " .reset_index()\n",
    " .rename(columns={\n",
    "     'date': 'Date',\n",
    "    'net_flow': 'primary_flow_vnd'\n",
    " })\n",
    " .to_csv('../data/transaction_data.csv', index=False))"
   ]
  },
  {
   "cell_type": "code",
   "execution_count": 122,
   "id": "d559cfd5",
   "metadata": {},
   "outputs": [
    {
     "data": {
      "application/vnd.plotly.v1+json": {
       "config": {
        "plotlyServerURL": "https://plot.ly"
       },
       "data": [
        {
         "hovertemplate": "variable=ticker<br>date=%{x}<br>value=%{y}<extra></extra>",
         "legendgroup": "ticker",
         "line": {
          "color": "#636efa",
          "dash": "solid"
         },
         "marker": {
          "symbol": "circle"
         },
         "mode": "lines",
         "name": "ticker",
         "orientation": "v",
         "showlegend": true,
         "type": "scatter",
         "x": [
          "2022-05-13",
          "2022-05-16",
          "2022-05-17",
          "2022-05-18",
          "2022-05-19",
          "2022-05-23",
          "2022-05-24",
          "2022-05-25",
          "2022-05-27",
          "2022-05-30",
          "2022-05-31",
          "2022-06-01",
          "2022-06-02",
          "2022-06-06",
          "2022-06-07",
          "2022-06-08",
          "2022-06-09",
          "2022-06-14",
          "2022-06-15",
          "2022-06-16",
          "2022-06-17",
          "2022-06-21",
          "2022-06-22",
          "2022-06-23",
          "2022-06-24",
          "2022-06-27",
          "2022-07-01",
          "2022-07-06",
          "2022-07-07",
          "2022-07-11",
          "2022-07-18",
          "2022-07-19",
          "2022-07-20",
          "2022-07-21",
          "2022-07-22",
          "2022-07-25",
          "2022-07-29",
          "2022-08-01",
          "2022-08-05",
          "2022-08-12",
          "2022-08-15",
          "2022-08-16",
          "2022-08-17",
          "2022-08-19",
          "2022-08-25",
          "2022-08-26",
          "2022-09-05",
          "2022-09-13",
          "2022-09-14",
          "2022-09-15",
          "2022-09-16",
          "2022-09-20",
          "2022-09-21",
          "2022-09-22",
          "2022-10-03",
          "2022-10-04",
          "2022-10-05",
          "2022-10-06",
          "2022-10-07",
          "2022-10-11",
          "2022-10-12",
          "2022-10-13",
          "2022-10-17",
          "2022-10-18",
          "2022-10-19",
          "2022-10-24",
          "2022-10-25",
          "2022-10-27",
          "2022-10-31",
          "2022-11-01",
          "2022-11-03",
          "2022-11-04",
          "2022-11-07",
          "2022-11-08",
          "2022-11-09",
          "2022-11-10",
          "2022-11-11",
          "2022-11-14",
          "2022-11-15",
          "2022-11-16",
          "2022-11-17",
          "2022-11-18",
          "2022-11-29",
          "2022-11-30",
          "2022-12-01",
          "2022-12-02",
          "2022-12-05",
          "2022-12-06",
          "2022-12-07",
          "2022-12-08",
          "2022-12-09",
          "2022-12-13",
          "2022-12-14",
          "2022-12-15",
          "2022-12-16",
          "2022-12-20",
          "2022-12-21",
          "2022-12-22",
          "2022-12-23",
          "2022-12-27",
          "2022-12-28",
          "2022-12-29",
          "2022-12-30",
          "2023-01-03",
          "2023-01-04",
          "2023-01-05",
          "2023-03-16",
          "2023-03-17",
          "2023-03-20",
          "2023-03-21",
          "2023-03-22",
          "2023-03-23",
          "2023-03-24",
          "2023-03-27",
          "2023-03-28",
          "2023-03-29",
          "2023-03-31",
          "2023-04-18",
          "2023-04-19",
          "2023-04-25",
          "2023-05-08",
          "2023-06-08",
          "2023-06-14",
          "2023-06-19",
          "2023-06-20",
          "2023-06-21",
          "2023-07-10",
          "2023-07-11",
          "2023-07-24",
          "2023-08-01",
          "2023-08-08",
          "2023-08-10",
          "2023-08-14",
          "2023-08-16",
          "2023-08-17",
          "2023-08-18",
          "2023-08-21",
          "2023-08-22",
          "2023-08-23",
          "2023-08-25",
          "2023-08-29",
          "2023-08-30",
          "2023-08-31",
          "2023-09-05",
          "2023-09-06",
          "2023-09-07",
          "2023-09-08",
          "2023-09-11",
          "2023-09-13",
          "2023-09-14",
          "2023-09-15",
          "2023-09-18",
          "2023-09-19",
          "2023-09-20",
          "2023-09-26",
          "2023-09-28",
          "2023-10-04",
          "2023-10-05",
          "2023-10-11",
          "2023-10-13",
          "2023-10-16",
          "2023-10-17",
          "2023-10-18",
          "2023-10-19",
          "2023-10-20",
          "2023-10-23",
          "2023-10-25",
          "2023-10-27",
          "2023-10-30",
          "2023-10-31",
          "2023-11-01",
          "2023-11-02",
          "2023-11-03",
          "2023-11-06",
          "2023-11-10",
          "2023-11-15",
          "2023-11-17",
          "2023-12-12",
          "2023-12-13",
          "2023-12-15",
          "2023-12-18",
          "2023-12-20",
          "2023-12-22",
          "2023-12-27",
          "2023-12-28",
          "2024-01-08",
          "2024-02-19",
          "2024-02-22",
          "2024-02-27",
          "2024-03-04",
          "2024-03-05",
          "2024-03-06",
          "2024-03-07",
          "2024-03-13",
          "2024-03-14",
          "2024-03-15",
          "2024-03-18",
          "2024-03-19",
          "2024-03-20",
          "2024-03-21",
          "2024-03-22",
          "2024-03-25",
          "2024-03-26",
          "2024-03-27",
          "2024-03-28",
          "2024-04-01",
          "2024-04-02",
          "2024-04-03",
          "2024-04-08",
          "2024-04-09",
          "2024-04-10",
          "2024-04-11",
          "2024-04-12",
          "2024-04-15",
          "2024-04-26",
          "2024-05-02",
          "2024-05-03",
          "2024-05-06",
          "2024-05-07",
          "2024-05-08",
          "2024-05-13",
          "2024-05-14",
          "2024-05-15",
          "2024-05-20",
          "2024-05-21",
          "2024-05-22",
          "2024-05-24",
          "2024-05-28",
          "2024-05-29",
          "2024-05-30",
          "2024-05-31",
          "2024-06-06",
          "2024-06-07",
          "2024-06-13",
          "2024-06-14",
          "2024-06-17",
          "2024-06-18",
          "2024-06-19",
          "2024-06-20",
          "2024-06-24",
          "2024-06-25",
          "2024-06-26",
          "2024-06-27",
          "2024-06-28",
          "2024-07-03",
          "2024-07-04",
          "2024-07-08",
          "2024-07-09",
          "2024-07-10",
          "2024-07-11",
          "2024-07-12",
          "2024-07-15",
          "2024-07-16",
          "2024-07-26",
          "2024-07-29",
          "2024-07-31",
          "2024-08-01",
          "2024-08-05",
          "2024-08-06",
          "2024-08-07",
          "2024-08-08",
          "2024-08-12",
          "2024-08-13",
          "2024-08-14",
          "2024-08-15",
          "2024-08-16",
          "2024-08-19",
          "2024-08-21",
          "2024-08-22",
          "2024-08-23",
          "2024-08-26",
          "2024-08-27",
          "2024-08-28",
          "2024-08-29",
          "2024-08-30",
          "2024-09-04",
          "2024-09-05",
          "2024-09-06",
          "2024-09-09",
          "2024-09-11",
          "2024-09-12",
          "2024-09-13",
          "2024-09-16",
          "2024-09-18",
          "2024-09-20",
          "2024-09-23",
          "2024-09-25",
          "2024-09-30",
          "2024-10-01",
          "2024-10-11",
          "2024-10-16",
          "2024-10-21",
          "2024-10-24",
          "2024-12-11",
          "2024-12-12",
          "2024-12-19",
          "2024-12-20",
          "2024-12-27",
          "2025-01-09",
          "2025-01-17",
          "2025-02-05",
          "2025-02-11",
          "2025-02-21",
          "2025-02-25",
          "2025-02-27",
          "2025-03-04",
          "2025-03-05",
          "2025-03-07",
          "2025-03-10",
          "2025-03-11",
          "2025-03-12",
          "2025-03-13",
          "2025-03-14",
          "2025-03-17",
          "2025-03-18",
          "2025-03-19",
          "2025-03-20",
          "2025-03-21",
          "2025-03-25",
          "2025-03-26",
          "2025-03-27",
          "2025-03-28",
          "2025-03-31",
          "2025-04-01",
          "2025-04-02",
          "2025-04-08",
          "2025-04-11",
          "2025-04-14",
          "2025-04-15",
          "2025-04-16",
          "2025-04-18",
          "2025-04-21",
          "2025-04-25",
          "2025-05-15",
          "2025-05-16"
         ],
         "xaxis": "x",
         "y": {
          "bdata": "AwMDAwMDAwMDBgYFBgUGAQYGBgYGBgIGBgYFBQUBAgYGBgYGBgYGBQUGBgYGBQUFBAMGBwEGAwYFBgYGBgYGBQYGBgYGBgcHBwcHBwcHCQEIAQcHBwQHAQgEBwgIAQcIBwcHBwoJCAgBAgQJBAkDCAgICAgICAcICAoCAQELCgsLCwsLCwsKCwsLCwsLCwsLCwsLCwgKAwsLAwsLCwsLCgsLCwsKCwsLCwsMCwsLCwsJCQoLCwsLCwsLCwsLCwsLCwgICgQPDQ0NDRgNDA4ODg4RDQ4BDg4NDQ0NDQ0KDA0NDQ0NDAsMDAwNDQ0MDQ0NDQ0NDQwNDQ0NDQ0NDA0NDA0NDQ0NDQ0NDQ0NDA0NDA0MDQ0NDQwNDQ0NDQ0BDA4NDQEBDQ0ODgENDg4ODg4ODg0NDg4ODg4ODg4ODgQODQ0NDQwNDQoNDw0MDQ0NDg4=",
          "dtype": "i1"
         },
         "yaxis": "y"
        }
       ],
       "layout": {
        "legend": {
         "title": {
          "text": "variable"
         },
         "tracegroupgap": 0
        },
        "template": {
         "data": {
          "bar": [
           {
            "error_x": {
             "color": "#f2f5fa"
            },
            "error_y": {
             "color": "#f2f5fa"
            },
            "marker": {
             "line": {
              "color": "rgb(17,17,17)",
              "width": 0.5
             },
             "pattern": {
              "fillmode": "overlay",
              "size": 10,
              "solidity": 0.2
             }
            },
            "type": "bar"
           }
          ],
          "barpolar": [
           {
            "marker": {
             "line": {
              "color": "rgb(17,17,17)",
              "width": 0.5
             },
             "pattern": {
              "fillmode": "overlay",
              "size": 10,
              "solidity": 0.2
             }
            },
            "type": "barpolar"
           }
          ],
          "carpet": [
           {
            "aaxis": {
             "endlinecolor": "#A2B1C6",
             "gridcolor": "#506784",
             "linecolor": "#506784",
             "minorgridcolor": "#506784",
             "startlinecolor": "#A2B1C6"
            },
            "baxis": {
             "endlinecolor": "#A2B1C6",
             "gridcolor": "#506784",
             "linecolor": "#506784",
             "minorgridcolor": "#506784",
             "startlinecolor": "#A2B1C6"
            },
            "type": "carpet"
           }
          ],
          "choropleth": [
           {
            "colorbar": {
             "outlinewidth": 0,
             "ticks": ""
            },
            "type": "choropleth"
           }
          ],
          "contour": [
           {
            "colorbar": {
             "outlinewidth": 0,
             "ticks": ""
            },
            "colorscale": [
             [
              0,
              "#0d0887"
             ],
             [
              0.1111111111111111,
              "#46039f"
             ],
             [
              0.2222222222222222,
              "#7201a8"
             ],
             [
              0.3333333333333333,
              "#9c179e"
             ],
             [
              0.4444444444444444,
              "#bd3786"
             ],
             [
              0.5555555555555556,
              "#d8576b"
             ],
             [
              0.6666666666666666,
              "#ed7953"
             ],
             [
              0.7777777777777778,
              "#fb9f3a"
             ],
             [
              0.8888888888888888,
              "#fdca26"
             ],
             [
              1,
              "#f0f921"
             ]
            ],
            "type": "contour"
           }
          ],
          "contourcarpet": [
           {
            "colorbar": {
             "outlinewidth": 0,
             "ticks": ""
            },
            "type": "contourcarpet"
           }
          ],
          "heatmap": [
           {
            "colorbar": {
             "outlinewidth": 0,
             "ticks": ""
            },
            "colorscale": [
             [
              0,
              "#0d0887"
             ],
             [
              0.1111111111111111,
              "#46039f"
             ],
             [
              0.2222222222222222,
              "#7201a8"
             ],
             [
              0.3333333333333333,
              "#9c179e"
             ],
             [
              0.4444444444444444,
              "#bd3786"
             ],
             [
              0.5555555555555556,
              "#d8576b"
             ],
             [
              0.6666666666666666,
              "#ed7953"
             ],
             [
              0.7777777777777778,
              "#fb9f3a"
             ],
             [
              0.8888888888888888,
              "#fdca26"
             ],
             [
              1,
              "#f0f921"
             ]
            ],
            "type": "heatmap"
           }
          ],
          "histogram": [
           {
            "marker": {
             "pattern": {
              "fillmode": "overlay",
              "size": 10,
              "solidity": 0.2
             }
            },
            "type": "histogram"
           }
          ],
          "histogram2d": [
           {
            "colorbar": {
             "outlinewidth": 0,
             "ticks": ""
            },
            "colorscale": [
             [
              0,
              "#0d0887"
             ],
             [
              0.1111111111111111,
              "#46039f"
             ],
             [
              0.2222222222222222,
              "#7201a8"
             ],
             [
              0.3333333333333333,
              "#9c179e"
             ],
             [
              0.4444444444444444,
              "#bd3786"
             ],
             [
              0.5555555555555556,
              "#d8576b"
             ],
             [
              0.6666666666666666,
              "#ed7953"
             ],
             [
              0.7777777777777778,
              "#fb9f3a"
             ],
             [
              0.8888888888888888,
              "#fdca26"
             ],
             [
              1,
              "#f0f921"
             ]
            ],
            "type": "histogram2d"
           }
          ],
          "histogram2dcontour": [
           {
            "colorbar": {
             "outlinewidth": 0,
             "ticks": ""
            },
            "colorscale": [
             [
              0,
              "#0d0887"
             ],
             [
              0.1111111111111111,
              "#46039f"
             ],
             [
              0.2222222222222222,
              "#7201a8"
             ],
             [
              0.3333333333333333,
              "#9c179e"
             ],
             [
              0.4444444444444444,
              "#bd3786"
             ],
             [
              0.5555555555555556,
              "#d8576b"
             ],
             [
              0.6666666666666666,
              "#ed7953"
             ],
             [
              0.7777777777777778,
              "#fb9f3a"
             ],
             [
              0.8888888888888888,
              "#fdca26"
             ],
             [
              1,
              "#f0f921"
             ]
            ],
            "type": "histogram2dcontour"
           }
          ],
          "mesh3d": [
           {
            "colorbar": {
             "outlinewidth": 0,
             "ticks": ""
            },
            "type": "mesh3d"
           }
          ],
          "parcoords": [
           {
            "line": {
             "colorbar": {
              "outlinewidth": 0,
              "ticks": ""
             }
            },
            "type": "parcoords"
           }
          ],
          "pie": [
           {
            "automargin": true,
            "type": "pie"
           }
          ],
          "scatter": [
           {
            "marker": {
             "line": {
              "color": "#283442"
             }
            },
            "type": "scatter"
           }
          ],
          "scatter3d": [
           {
            "line": {
             "colorbar": {
              "outlinewidth": 0,
              "ticks": ""
             }
            },
            "marker": {
             "colorbar": {
              "outlinewidth": 0,
              "ticks": ""
             }
            },
            "type": "scatter3d"
           }
          ],
          "scattercarpet": [
           {
            "marker": {
             "colorbar": {
              "outlinewidth": 0,
              "ticks": ""
             }
            },
            "type": "scattercarpet"
           }
          ],
          "scattergeo": [
           {
            "marker": {
             "colorbar": {
              "outlinewidth": 0,
              "ticks": ""
             }
            },
            "type": "scattergeo"
           }
          ],
          "scattergl": [
           {
            "marker": {
             "line": {
              "color": "#283442"
             }
            },
            "type": "scattergl"
           }
          ],
          "scattermap": [
           {
            "marker": {
             "colorbar": {
              "outlinewidth": 0,
              "ticks": ""
             }
            },
            "type": "scattermap"
           }
          ],
          "scattermapbox": [
           {
            "marker": {
             "colorbar": {
              "outlinewidth": 0,
              "ticks": ""
             }
            },
            "type": "scattermapbox"
           }
          ],
          "scatterpolar": [
           {
            "marker": {
             "colorbar": {
              "outlinewidth": 0,
              "ticks": ""
             }
            },
            "type": "scatterpolar"
           }
          ],
          "scatterpolargl": [
           {
            "marker": {
             "colorbar": {
              "outlinewidth": 0,
              "ticks": ""
             }
            },
            "type": "scatterpolargl"
           }
          ],
          "scatterternary": [
           {
            "marker": {
             "colorbar": {
              "outlinewidth": 0,
              "ticks": ""
             }
            },
            "type": "scatterternary"
           }
          ],
          "surface": [
           {
            "colorbar": {
             "outlinewidth": 0,
             "ticks": ""
            },
            "colorscale": [
             [
              0,
              "#0d0887"
             ],
             [
              0.1111111111111111,
              "#46039f"
             ],
             [
              0.2222222222222222,
              "#7201a8"
             ],
             [
              0.3333333333333333,
              "#9c179e"
             ],
             [
              0.4444444444444444,
              "#bd3786"
             ],
             [
              0.5555555555555556,
              "#d8576b"
             ],
             [
              0.6666666666666666,
              "#ed7953"
             ],
             [
              0.7777777777777778,
              "#fb9f3a"
             ],
             [
              0.8888888888888888,
              "#fdca26"
             ],
             [
              1,
              "#f0f921"
             ]
            ],
            "type": "surface"
           }
          ],
          "table": [
           {
            "cells": {
             "fill": {
              "color": "#506784"
             },
             "line": {
              "color": "rgb(17,17,17)"
             }
            },
            "header": {
             "fill": {
              "color": "#2a3f5f"
             },
             "line": {
              "color": "rgb(17,17,17)"
             }
            },
            "type": "table"
           }
          ]
         },
         "layout": {
          "annotationdefaults": {
           "arrowcolor": "#f2f5fa",
           "arrowhead": 0,
           "arrowwidth": 1
          },
          "autotypenumbers": "strict",
          "coloraxis": {
           "colorbar": {
            "outlinewidth": 0,
            "ticks": ""
           }
          },
          "colorscale": {
           "diverging": [
            [
             0,
             "#8e0152"
            ],
            [
             0.1,
             "#c51b7d"
            ],
            [
             0.2,
             "#de77ae"
            ],
            [
             0.3,
             "#f1b6da"
            ],
            [
             0.4,
             "#fde0ef"
            ],
            [
             0.5,
             "#f7f7f7"
            ],
            [
             0.6,
             "#e6f5d0"
            ],
            [
             0.7,
             "#b8e186"
            ],
            [
             0.8,
             "#7fbc41"
            ],
            [
             0.9,
             "#4d9221"
            ],
            [
             1,
             "#276419"
            ]
           ],
           "sequential": [
            [
             0,
             "#0d0887"
            ],
            [
             0.1111111111111111,
             "#46039f"
            ],
            [
             0.2222222222222222,
             "#7201a8"
            ],
            [
             0.3333333333333333,
             "#9c179e"
            ],
            [
             0.4444444444444444,
             "#bd3786"
            ],
            [
             0.5555555555555556,
             "#d8576b"
            ],
            [
             0.6666666666666666,
             "#ed7953"
            ],
            [
             0.7777777777777778,
             "#fb9f3a"
            ],
            [
             0.8888888888888888,
             "#fdca26"
            ],
            [
             1,
             "#f0f921"
            ]
           ],
           "sequentialminus": [
            [
             0,
             "#0d0887"
            ],
            [
             0.1111111111111111,
             "#46039f"
            ],
            [
             0.2222222222222222,
             "#7201a8"
            ],
            [
             0.3333333333333333,
             "#9c179e"
            ],
            [
             0.4444444444444444,
             "#bd3786"
            ],
            [
             0.5555555555555556,
             "#d8576b"
            ],
            [
             0.6666666666666666,
             "#ed7953"
            ],
            [
             0.7777777777777778,
             "#fb9f3a"
            ],
            [
             0.8888888888888888,
             "#fdca26"
            ],
            [
             1,
             "#f0f921"
            ]
           ]
          },
          "colorway": [
           "#636efa",
           "#EF553B",
           "#00cc96",
           "#ab63fa",
           "#FFA15A",
           "#19d3f3",
           "#FF6692",
           "#B6E880",
           "#FF97FF",
           "#FECB52"
          ],
          "font": {
           "color": "#f2f5fa"
          },
          "geo": {
           "bgcolor": "rgb(17,17,17)",
           "lakecolor": "rgb(17,17,17)",
           "landcolor": "rgb(17,17,17)",
           "showlakes": true,
           "showland": true,
           "subunitcolor": "#506784"
          },
          "hoverlabel": {
           "align": "left"
          },
          "hovermode": "closest",
          "mapbox": {
           "style": "dark"
          },
          "paper_bgcolor": "rgb(17,17,17)",
          "plot_bgcolor": "rgb(17,17,17)",
          "polar": {
           "angularaxis": {
            "gridcolor": "#506784",
            "linecolor": "#506784",
            "ticks": ""
           },
           "bgcolor": "rgb(17,17,17)",
           "radialaxis": {
            "gridcolor": "#506784",
            "linecolor": "#506784",
            "ticks": ""
           }
          },
          "scene": {
           "xaxis": {
            "backgroundcolor": "rgb(17,17,17)",
            "gridcolor": "#506784",
            "gridwidth": 2,
            "linecolor": "#506784",
            "showbackground": true,
            "ticks": "",
            "zerolinecolor": "#C8D4E3"
           },
           "yaxis": {
            "backgroundcolor": "rgb(17,17,17)",
            "gridcolor": "#506784",
            "gridwidth": 2,
            "linecolor": "#506784",
            "showbackground": true,
            "ticks": "",
            "zerolinecolor": "#C8D4E3"
           },
           "zaxis": {
            "backgroundcolor": "rgb(17,17,17)",
            "gridcolor": "#506784",
            "gridwidth": 2,
            "linecolor": "#506784",
            "showbackground": true,
            "ticks": "",
            "zerolinecolor": "#C8D4E3"
           }
          },
          "shapedefaults": {
           "line": {
            "color": "#f2f5fa"
           }
          },
          "sliderdefaults": {
           "bgcolor": "#C8D4E3",
           "bordercolor": "rgb(17,17,17)",
           "borderwidth": 1,
           "tickwidth": 0
          },
          "ternary": {
           "aaxis": {
            "gridcolor": "#506784",
            "linecolor": "#506784",
            "ticks": ""
           },
           "baxis": {
            "gridcolor": "#506784",
            "linecolor": "#506784",
            "ticks": ""
           },
           "bgcolor": "rgb(17,17,17)",
           "caxis": {
            "gridcolor": "#506784",
            "linecolor": "#506784",
            "ticks": ""
           }
          },
          "title": {
           "x": 0.05
          },
          "updatemenudefaults": {
           "bgcolor": "#506784",
           "borderwidth": 0
          },
          "xaxis": {
           "automargin": true,
           "gridcolor": "#283442",
           "linecolor": "#506784",
           "ticks": "",
           "title": {
            "standoff": 15
           },
           "zerolinecolor": "#283442",
           "zerolinewidth": 2
          },
          "yaxis": {
           "automargin": true,
           "gridcolor": "#283442",
           "linecolor": "#506784",
           "ticks": "",
           "title": {
            "standoff": 15
           },
           "zerolinecolor": "#283442",
           "zerolinewidth": 2
          }
         }
        },
        "title": {
         "text": "Number of traded stock - Daily"
        },
        "xaxis": {
         "anchor": "y",
         "domain": [
          0,
          1
         ],
         "title": {
          "text": "date"
         }
        },
        "yaxis": {
         "anchor": "x",
         "domain": [
          0,
          1
         ],
         "title": {
          "text": "value"
         }
        }
       }
      }
     },
     "metadata": {},
     "output_type": "display_data"
    }
   ],
   "source": [
    "df.groupby('date')['ticker'].count().plot(title='Number of traded stock - Daily')"
   ]
  },
  {
   "cell_type": "code",
   "execution_count": 123,
   "id": "5f4e268e",
   "metadata": {},
   "outputs": [
    {
     "data": {
      "application/vnd.plotly.v1+json": {
       "config": {
        "plotlyServerURL": "https://plot.ly"
       },
       "data": [
        {
         "hovertemplate": "variable=value_million<br>date=%{x}<br>value=%{y}<extra></extra>",
         "legendgroup": "value_million",
         "line": {
          "color": "#636efa",
          "dash": "solid"
         },
         "marker": {
          "symbol": "circle"
         },
         "mode": "lines",
         "name": "value_million",
         "orientation": "v",
         "showlegend": true,
         "type": "scatter",
         "x": [
          "2022-05-13",
          "2022-05-16",
          "2022-05-17",
          "2022-05-18",
          "2022-05-19",
          "2022-05-23",
          "2022-05-24",
          "2022-05-25",
          "2022-05-27",
          "2022-05-30",
          "2022-05-31",
          "2022-06-01",
          "2022-06-02",
          "2022-06-06",
          "2022-06-07",
          "2022-06-08",
          "2022-06-09",
          "2022-06-14",
          "2022-06-15",
          "2022-06-16",
          "2022-06-17",
          "2022-06-21",
          "2022-06-22",
          "2022-06-23",
          "2022-06-24",
          "2022-06-27",
          "2022-07-01",
          "2022-07-06",
          "2022-07-07",
          "2022-07-11",
          "2022-07-18",
          "2022-07-19",
          "2022-07-20",
          "2022-07-21",
          "2022-07-22",
          "2022-07-25",
          "2022-07-29",
          "2022-08-01",
          "2022-08-05",
          "2022-08-12",
          "2022-08-15",
          "2022-08-16",
          "2022-08-17",
          "2022-08-19",
          "2022-08-25",
          "2022-08-26",
          "2022-09-05",
          "2022-09-13",
          "2022-09-14",
          "2022-09-15",
          "2022-09-16",
          "2022-09-20",
          "2022-09-21",
          "2022-09-22",
          "2022-10-03",
          "2022-10-04",
          "2022-10-05",
          "2022-10-06",
          "2022-10-07",
          "2022-10-11",
          "2022-10-12",
          "2022-10-13",
          "2022-10-17",
          "2022-10-18",
          "2022-10-19",
          "2022-10-24",
          "2022-10-25",
          "2022-10-27",
          "2022-10-31",
          "2022-11-01",
          "2022-11-03",
          "2022-11-04",
          "2022-11-07",
          "2022-11-08",
          "2022-11-09",
          "2022-11-10",
          "2022-11-11",
          "2022-11-14",
          "2022-11-15",
          "2022-11-16",
          "2022-11-17",
          "2022-11-18",
          "2022-11-29",
          "2022-11-30",
          "2022-12-01",
          "2022-12-02",
          "2022-12-05",
          "2022-12-06",
          "2022-12-07",
          "2022-12-08",
          "2022-12-09",
          "2022-12-13",
          "2022-12-14",
          "2022-12-15",
          "2022-12-16",
          "2022-12-20",
          "2022-12-21",
          "2022-12-22",
          "2022-12-23",
          "2022-12-27",
          "2022-12-28",
          "2022-12-29",
          "2022-12-30",
          "2023-01-03",
          "2023-01-04",
          "2023-01-05",
          "2023-03-16",
          "2023-03-17",
          "2023-03-20",
          "2023-03-21",
          "2023-03-22",
          "2023-03-23",
          "2023-03-24",
          "2023-03-27",
          "2023-03-28",
          "2023-03-29",
          "2023-03-31",
          "2023-04-18",
          "2023-04-19",
          "2023-04-25",
          "2023-05-08",
          "2023-06-08",
          "2023-06-14",
          "2023-06-19",
          "2023-06-20",
          "2023-06-21",
          "2023-07-10",
          "2023-07-11",
          "2023-07-24",
          "2023-08-01",
          "2023-08-08",
          "2023-08-10",
          "2023-08-14",
          "2023-08-16",
          "2023-08-17",
          "2023-08-18",
          "2023-08-21",
          "2023-08-22",
          "2023-08-23",
          "2023-08-25",
          "2023-08-29",
          "2023-08-30",
          "2023-08-31",
          "2023-09-05",
          "2023-09-06",
          "2023-09-07",
          "2023-09-08",
          "2023-09-11",
          "2023-09-13",
          "2023-09-14",
          "2023-09-15",
          "2023-09-18",
          "2023-09-19",
          "2023-09-20",
          "2023-09-26",
          "2023-09-28",
          "2023-10-04",
          "2023-10-05",
          "2023-10-11",
          "2023-10-13",
          "2023-10-16",
          "2023-10-17",
          "2023-10-18",
          "2023-10-19",
          "2023-10-20",
          "2023-10-23",
          "2023-10-25",
          "2023-10-27",
          "2023-10-30",
          "2023-10-31",
          "2023-11-01",
          "2023-11-02",
          "2023-11-03",
          "2023-11-06",
          "2023-11-10",
          "2023-11-15",
          "2023-11-17",
          "2023-12-12",
          "2023-12-13",
          "2023-12-15",
          "2023-12-18",
          "2023-12-20",
          "2023-12-22",
          "2023-12-27",
          "2023-12-28",
          "2024-01-08",
          "2024-02-19",
          "2024-02-22",
          "2024-02-27",
          "2024-03-04",
          "2024-03-05",
          "2024-03-06",
          "2024-03-07",
          "2024-03-13",
          "2024-03-14",
          "2024-03-15",
          "2024-03-18",
          "2024-03-19",
          "2024-03-20",
          "2024-03-21",
          "2024-03-22",
          "2024-03-25",
          "2024-03-26",
          "2024-03-27",
          "2024-03-28",
          "2024-04-01",
          "2024-04-02",
          "2024-04-03",
          "2024-04-08",
          "2024-04-09",
          "2024-04-10",
          "2024-04-11",
          "2024-04-12",
          "2024-04-15",
          "2024-04-26",
          "2024-05-02",
          "2024-05-03",
          "2024-05-06",
          "2024-05-07",
          "2024-05-08",
          "2024-05-13",
          "2024-05-14",
          "2024-05-15",
          "2024-05-20",
          "2024-05-21",
          "2024-05-22",
          "2024-05-24",
          "2024-05-28",
          "2024-05-29",
          "2024-05-30",
          "2024-05-31",
          "2024-06-06",
          "2024-06-07",
          "2024-06-13",
          "2024-06-14",
          "2024-06-17",
          "2024-06-18",
          "2024-06-19",
          "2024-06-20",
          "2024-06-24",
          "2024-06-25",
          "2024-06-26",
          "2024-06-27",
          "2024-06-28",
          "2024-07-03",
          "2024-07-04",
          "2024-07-08",
          "2024-07-09",
          "2024-07-10",
          "2024-07-11",
          "2024-07-12",
          "2024-07-15",
          "2024-07-16",
          "2024-07-26",
          "2024-07-29",
          "2024-07-31",
          "2024-08-01",
          "2024-08-05",
          "2024-08-06",
          "2024-08-07",
          "2024-08-08",
          "2024-08-12",
          "2024-08-13",
          "2024-08-14",
          "2024-08-15",
          "2024-08-16",
          "2024-08-19",
          "2024-08-21",
          "2024-08-22",
          "2024-08-23",
          "2024-08-26",
          "2024-08-27",
          "2024-08-28",
          "2024-08-29",
          "2024-08-30",
          "2024-09-04",
          "2024-09-05",
          "2024-09-06",
          "2024-09-09",
          "2024-09-11",
          "2024-09-12",
          "2024-09-13",
          "2024-09-16",
          "2024-09-18",
          "2024-09-20",
          "2024-09-23",
          "2024-09-25",
          "2024-09-30",
          "2024-10-01",
          "2024-10-11",
          "2024-10-16",
          "2024-10-21",
          "2024-10-24",
          "2024-12-11",
          "2024-12-12",
          "2024-12-19",
          "2024-12-20",
          "2024-12-27",
          "2025-01-09",
          "2025-01-17",
          "2025-02-05",
          "2025-02-11",
          "2025-02-21",
          "2025-02-25",
          "2025-02-27",
          "2025-03-04",
          "2025-03-05",
          "2025-03-07",
          "2025-03-10",
          "2025-03-11",
          "2025-03-12",
          "2025-03-13",
          "2025-03-14",
          "2025-03-17",
          "2025-03-18",
          "2025-03-19",
          "2025-03-20",
          "2025-03-21",
          "2025-03-25",
          "2025-03-26",
          "2025-03-27",
          "2025-03-28",
          "2025-03-31",
          "2025-04-01",
          "2025-04-02",
          "2025-04-08",
          "2025-04-11",
          "2025-04-14",
          "2025-04-15",
          "2025-04-16",
          "2025-04-18",
          "2025-04-21",
          "2025-04-25",
          "2025-05-15",
          "2025-05-16"
         ],
         "xaxis": "x",
         "y": {
          "bdata": "AQA8LvBnJEIAAOh5ZmAiQgAAbECWaR9C///ntUbRF0IAAAC1r5LyQQAAACoAZvVBAACQVLN9GEIAAABEyn74QQAApDybWhBCAADgrbmqLEIAAIBgEXYqQgAAAFzRwRBCAAAA4MwC/kEAAIA4GHsYQgAAAKm9HyBCAAAAehxnBkIAAACdtkH1QQAAAE4i+gdCAABAxR7wHUIAAND8nKw2QgAAoODTmzRCAAAADIvqLkIAAABAFwwKQgAAAPgWRAFCAQAAwEzJ6kEAAIA1bgkZQgEAAPgQLQVCAAAAKL3fDEIAAAD8jWYeQgAAAKLSLgFCAAAAwfmjFEIAAIBAYIMAQgEAgAG0VAtCAAAATQAGC0IAAACBZUL9QQAAgAMiSBJCAAAA96s6/UEBAACmRiv6QQAAAJ37A/NBAACAqL29EEIAAACdePj0Qf//f7GTywRCAAAA02KM9UEAAEAhzbUWQv///zj9JQdCAAAAsFpG/UEAAAAI0cnmQQAAEZ26SjJCZ2ZhqM4FJkKaGSh8mDMzQjMTP/ZRIldCAAA+okkbLkIAAIBDxZYCQgEATNEchhFCAABA/MZ2F0IAAHDVxx0cQgAABdFbxy9CAACawp9rF0JYOdP08DA0QgAABN45OTBCAQDw8fcHGkIAAAARSk8EQgAAAOOv0/ZBAAAAV/qWAkIAAAAtls79QQAAuJYbGCpC////RZNrD0IAAHDmzv4XQv///1nY5+xBAADAfZDMA0IAAMCP2JcXQgAAkksdMCVCAAB3NAc9N0IAAISRnVY8QnvUH1Dq4j5CZ2Y4FlQDNkLNzOZyzQ4+QgAAFgGMvj1CmplIppKDN0Kamd2fEEMQQgAA7BfIvhhCAADc66dcEkKaGVOqGwo6QjMzohQxbTtCAAAXXWd1MEIzM1ebVV0uQgAAH46nKjRCAAAA1m475kEAACawcVkgQgAAANeCPQhCAABgy4CbEkIBAFza9UsvQgAABC7dMiFCAACA6r6LCEIAAN/WtkQ7QgAAkm3GRSdCAACAXRax90EBABDi5LMTQv//J6qJfhpCAAB2iKOaNEIAAByJgVA2QjQzgGkOwz5CZ2bXWlB2N0LiegjjKj8gQpmZHd/G8gZCzcwEeQ04BUKamdZJEgY1QjMzEaSp71RCAACIOFd7QkIBgHUREwVPQmZmH03G3zpC//9/cAl6P0IAAI68RXIrQs3MdGkkAipCAAC0C8siJ0IAAHRbcScuQgAAAA+xuRJC////olm7/0EAAACoYAgHQv///xIsLwlCAQAAtsCjHEIAAAB4E6IIQgAAAKLaCfBBzeyb9dmuU0IAAKTKaHEKQgAAQdmXREpCAABAGO/ME0IAAAAuzMsRQgAAKd4stjZCAABHd7XONEIAAG5dzkQoQgAApmxOxyxCAAAWHtRpNEIAAESk5ywwQgAAPMGJJzZCzczBp0NXI0L//2sEQgotQgAABKxAyiFCAACAyaIeGEIAAOLLgnI2QgAA0lUMUDpCAAAAAqI8GkIAAEA6wRUoQgEALeucUT1CAAAMBtCBL0IAALCHkz5AQgAAYI9FJRxCAABmJlgPLEIAAC50JQVLQprZl6IXR0NCNLMokbVRT0IAACWdcdc3QgAA4deD/zFCAABwVXOZJ0IAAKAUCYAiQv///x96KhVCAACCXXb+OkL//38r/scAQgAAJKu+Mx9CAAC006uVIUIAAIJy4/4iQgAAkFB3+CJCAACAoqJuF0IAAE+4Bpk2QgAATNe9VxZCAACSgks7NEIAAGj87d8hQgAAWZ5H0zNCAQCuAMbJM0IAAN4DMftAQgAAZ7IkukhCAAAqh3NoREJnZkICv1YyQgAA/e+EpDFCAACG5fhrL0IAgKyI1JVDQgAA4I9aNCpCAAAISV2eL0IAADvBiNYzQgAAE2jTUklCAACM4wcMK0IAAK8dVU4zQgAAzAosnSZCAACIe0NCIkIAALh3wa8XQgAAgF0OBBpCAAA+dvVUK0IAACz+g5EVQgAA6AxH0jVCAACUWuqFHUL//2OY9ZweQs3MTGkoRQFC//9zhHuuGkIAgBiTw9NIQgCAaZU9xEpCAED4tnEeY0JmJmr6mfdVQszM0L8OUV5CAAAcyQPRM0IAAAXRfDIxQgEAPR0bxUFCAACh5LQCR0IAAJK2ZCc1QgAATbC9a0FCAABBV7DxPEIAAA6DKSE/QgAAakg37jpCAIBBRz22RUIAAAd0ZGowQpmZ+N8Y/DxCAACAyxHBP0IzsxLQjuczQgAAAFTFr9hBZmZJ5xWeMUIAAK4VFLAzQgAAzpDAbi9CAACcfxwqLkIBAGYZeVAvQv//JbdnUC9CAAAsh0giMEL///v0HNstQs3MvTiGui1CAAAO2EHdKkIAAP4ee90/QgCA2lVMPklCAAB3PiXuQEIzsyG3PWg4QgAAqLyZdhVCAADysIRXNEIAANAMyKQUQgAAgA4I5whCAADkFOO8IkJmZmS0IOwhQgCAbV7Zs0hC///CTfdETEIAABhodIQ1Qv///2zW2RJC//8/i3rBH0IAALhaq7ceQgAAjH4rnx1CAAD4dY1XEkIAADiaYU4WQgAAXNORchZC///fJkPaH0IAAEhGcdETQgAADM74mRZCAACuGK1+IEIAAMxRZv0jQgAApxPudz5CAAAlBQ2LM0IAAHCG+B0zQv//H6yRdxxCAADQJKPlFEIBAO1oFMgxQgAAVtmmXitCAABoYHAJBkIAAH7QVvMrQpmZydJcZgZCAAC4pEynCUIAACQsMD8TQgAAsKhZMx9CAQCkBu/NH0IAANyTP6kcQgAA6td7cyFCAADYTmElH0IAAAD3Hw4RQgAA1t4CuCFCAQAonx2EH0IAACCTV5YjQgAAVtvbXSZCAACojW1oGkIAAAoPDE4vQgAAx6MkUjBCAACynR6VI0IAAAoaSSEiQgEA9gnVAyBCAAAGzcdWOEIAAIxGtEwQQgAAUScZ7DNCAAD2v1bPIkIAAOQI3SUbQgAA4CkkhRZCAQAIyLd9AUIAgBkutR9JQgAAgO3u0RxCAAC3H2zQQUIAABhb2UgkQgAAtgcIqypCAABwFU4gIkIAAEBqxTEjQgAAgBSgQyRCAAAiCObFJUIAADTiQ1scQv//z3tPiBpCAAB049PPGkIAAL+gxYNEQgAAlGIPaRxCAADs9yRzG0IBACi1tWYYQgAA9JKs2htCAAAd4Ep/MEIAALxblX4ZQgAAinXqSSdCAAAs6krPIEIAACQZMrAgQgAAIPKfNTZCAABAHfPiL0IAAJ82oHM2QgAAZoZrfzBCAQCiXC/mMkIAAFKGHS4lQgAA2zYaOjNCAADuvHGtN0IBAKYpVe0uQgAAVnLyLTJCAACg5XLpI0IAQBBMaK1cQv9/+BZEFERC//+Bp7IqI0IAAMCkTbAwQgAAQKea7xpCAAD2EL3gJUIAAIy7+wctQgAAmQj9QTVCAAASeg4jI0IAAIh/T7UhQv//wRAliCpC//9MfZCHP0IAAB7CjesxQgAAsNSEMR1CAABEwIsvKUIAAIAPIg8KQgAAABKbOAVCAAB8KjVAIUIAABryE0cmQg==",
          "dtype": "f8"
         },
         "yaxis": "y"
        }
       ],
       "layout": {
        "legend": {
         "title": {
          "text": "variable"
         },
         "tracegroupgap": 0
        },
        "template": {
         "data": {
          "bar": [
           {
            "error_x": {
             "color": "#f2f5fa"
            },
            "error_y": {
             "color": "#f2f5fa"
            },
            "marker": {
             "line": {
              "color": "rgb(17,17,17)",
              "width": 0.5
             },
             "pattern": {
              "fillmode": "overlay",
              "size": 10,
              "solidity": 0.2
             }
            },
            "type": "bar"
           }
          ],
          "barpolar": [
           {
            "marker": {
             "line": {
              "color": "rgb(17,17,17)",
              "width": 0.5
             },
             "pattern": {
              "fillmode": "overlay",
              "size": 10,
              "solidity": 0.2
             }
            },
            "type": "barpolar"
           }
          ],
          "carpet": [
           {
            "aaxis": {
             "endlinecolor": "#A2B1C6",
             "gridcolor": "#506784",
             "linecolor": "#506784",
             "minorgridcolor": "#506784",
             "startlinecolor": "#A2B1C6"
            },
            "baxis": {
             "endlinecolor": "#A2B1C6",
             "gridcolor": "#506784",
             "linecolor": "#506784",
             "minorgridcolor": "#506784",
             "startlinecolor": "#A2B1C6"
            },
            "type": "carpet"
           }
          ],
          "choropleth": [
           {
            "colorbar": {
             "outlinewidth": 0,
             "ticks": ""
            },
            "type": "choropleth"
           }
          ],
          "contour": [
           {
            "colorbar": {
             "outlinewidth": 0,
             "ticks": ""
            },
            "colorscale": [
             [
              0,
              "#0d0887"
             ],
             [
              0.1111111111111111,
              "#46039f"
             ],
             [
              0.2222222222222222,
              "#7201a8"
             ],
             [
              0.3333333333333333,
              "#9c179e"
             ],
             [
              0.4444444444444444,
              "#bd3786"
             ],
             [
              0.5555555555555556,
              "#d8576b"
             ],
             [
              0.6666666666666666,
              "#ed7953"
             ],
             [
              0.7777777777777778,
              "#fb9f3a"
             ],
             [
              0.8888888888888888,
              "#fdca26"
             ],
             [
              1,
              "#f0f921"
             ]
            ],
            "type": "contour"
           }
          ],
          "contourcarpet": [
           {
            "colorbar": {
             "outlinewidth": 0,
             "ticks": ""
            },
            "type": "contourcarpet"
           }
          ],
          "heatmap": [
           {
            "colorbar": {
             "outlinewidth": 0,
             "ticks": ""
            },
            "colorscale": [
             [
              0,
              "#0d0887"
             ],
             [
              0.1111111111111111,
              "#46039f"
             ],
             [
              0.2222222222222222,
              "#7201a8"
             ],
             [
              0.3333333333333333,
              "#9c179e"
             ],
             [
              0.4444444444444444,
              "#bd3786"
             ],
             [
              0.5555555555555556,
              "#d8576b"
             ],
             [
              0.6666666666666666,
              "#ed7953"
             ],
             [
              0.7777777777777778,
              "#fb9f3a"
             ],
             [
              0.8888888888888888,
              "#fdca26"
             ],
             [
              1,
              "#f0f921"
             ]
            ],
            "type": "heatmap"
           }
          ],
          "histogram": [
           {
            "marker": {
             "pattern": {
              "fillmode": "overlay",
              "size": 10,
              "solidity": 0.2
             }
            },
            "type": "histogram"
           }
          ],
          "histogram2d": [
           {
            "colorbar": {
             "outlinewidth": 0,
             "ticks": ""
            },
            "colorscale": [
             [
              0,
              "#0d0887"
             ],
             [
              0.1111111111111111,
              "#46039f"
             ],
             [
              0.2222222222222222,
              "#7201a8"
             ],
             [
              0.3333333333333333,
              "#9c179e"
             ],
             [
              0.4444444444444444,
              "#bd3786"
             ],
             [
              0.5555555555555556,
              "#d8576b"
             ],
             [
              0.6666666666666666,
              "#ed7953"
             ],
             [
              0.7777777777777778,
              "#fb9f3a"
             ],
             [
              0.8888888888888888,
              "#fdca26"
             ],
             [
              1,
              "#f0f921"
             ]
            ],
            "type": "histogram2d"
           }
          ],
          "histogram2dcontour": [
           {
            "colorbar": {
             "outlinewidth": 0,
             "ticks": ""
            },
            "colorscale": [
             [
              0,
              "#0d0887"
             ],
             [
              0.1111111111111111,
              "#46039f"
             ],
             [
              0.2222222222222222,
              "#7201a8"
             ],
             [
              0.3333333333333333,
              "#9c179e"
             ],
             [
              0.4444444444444444,
              "#bd3786"
             ],
             [
              0.5555555555555556,
              "#d8576b"
             ],
             [
              0.6666666666666666,
              "#ed7953"
             ],
             [
              0.7777777777777778,
              "#fb9f3a"
             ],
             [
              0.8888888888888888,
              "#fdca26"
             ],
             [
              1,
              "#f0f921"
             ]
            ],
            "type": "histogram2dcontour"
           }
          ],
          "mesh3d": [
           {
            "colorbar": {
             "outlinewidth": 0,
             "ticks": ""
            },
            "type": "mesh3d"
           }
          ],
          "parcoords": [
           {
            "line": {
             "colorbar": {
              "outlinewidth": 0,
              "ticks": ""
             }
            },
            "type": "parcoords"
           }
          ],
          "pie": [
           {
            "automargin": true,
            "type": "pie"
           }
          ],
          "scatter": [
           {
            "marker": {
             "line": {
              "color": "#283442"
             }
            },
            "type": "scatter"
           }
          ],
          "scatter3d": [
           {
            "line": {
             "colorbar": {
              "outlinewidth": 0,
              "ticks": ""
             }
            },
            "marker": {
             "colorbar": {
              "outlinewidth": 0,
              "ticks": ""
             }
            },
            "type": "scatter3d"
           }
          ],
          "scattercarpet": [
           {
            "marker": {
             "colorbar": {
              "outlinewidth": 0,
              "ticks": ""
             }
            },
            "type": "scattercarpet"
           }
          ],
          "scattergeo": [
           {
            "marker": {
             "colorbar": {
              "outlinewidth": 0,
              "ticks": ""
             }
            },
            "type": "scattergeo"
           }
          ],
          "scattergl": [
           {
            "marker": {
             "line": {
              "color": "#283442"
             }
            },
            "type": "scattergl"
           }
          ],
          "scattermap": [
           {
            "marker": {
             "colorbar": {
              "outlinewidth": 0,
              "ticks": ""
             }
            },
            "type": "scattermap"
           }
          ],
          "scattermapbox": [
           {
            "marker": {
             "colorbar": {
              "outlinewidth": 0,
              "ticks": ""
             }
            },
            "type": "scattermapbox"
           }
          ],
          "scatterpolar": [
           {
            "marker": {
             "colorbar": {
              "outlinewidth": 0,
              "ticks": ""
             }
            },
            "type": "scatterpolar"
           }
          ],
          "scatterpolargl": [
           {
            "marker": {
             "colorbar": {
              "outlinewidth": 0,
              "ticks": ""
             }
            },
            "type": "scatterpolargl"
           }
          ],
          "scatterternary": [
           {
            "marker": {
             "colorbar": {
              "outlinewidth": 0,
              "ticks": ""
             }
            },
            "type": "scatterternary"
           }
          ],
          "surface": [
           {
            "colorbar": {
             "outlinewidth": 0,
             "ticks": ""
            },
            "colorscale": [
             [
              0,
              "#0d0887"
             ],
             [
              0.1111111111111111,
              "#46039f"
             ],
             [
              0.2222222222222222,
              "#7201a8"
             ],
             [
              0.3333333333333333,
              "#9c179e"
             ],
             [
              0.4444444444444444,
              "#bd3786"
             ],
             [
              0.5555555555555556,
              "#d8576b"
             ],
             [
              0.6666666666666666,
              "#ed7953"
             ],
             [
              0.7777777777777778,
              "#fb9f3a"
             ],
             [
              0.8888888888888888,
              "#fdca26"
             ],
             [
              1,
              "#f0f921"
             ]
            ],
            "type": "surface"
           }
          ],
          "table": [
           {
            "cells": {
             "fill": {
              "color": "#506784"
             },
             "line": {
              "color": "rgb(17,17,17)"
             }
            },
            "header": {
             "fill": {
              "color": "#2a3f5f"
             },
             "line": {
              "color": "rgb(17,17,17)"
             }
            },
            "type": "table"
           }
          ]
         },
         "layout": {
          "annotationdefaults": {
           "arrowcolor": "#f2f5fa",
           "arrowhead": 0,
           "arrowwidth": 1
          },
          "autotypenumbers": "strict",
          "coloraxis": {
           "colorbar": {
            "outlinewidth": 0,
            "ticks": ""
           }
          },
          "colorscale": {
           "diverging": [
            [
             0,
             "#8e0152"
            ],
            [
             0.1,
             "#c51b7d"
            ],
            [
             0.2,
             "#de77ae"
            ],
            [
             0.3,
             "#f1b6da"
            ],
            [
             0.4,
             "#fde0ef"
            ],
            [
             0.5,
             "#f7f7f7"
            ],
            [
             0.6,
             "#e6f5d0"
            ],
            [
             0.7,
             "#b8e186"
            ],
            [
             0.8,
             "#7fbc41"
            ],
            [
             0.9,
             "#4d9221"
            ],
            [
             1,
             "#276419"
            ]
           ],
           "sequential": [
            [
             0,
             "#0d0887"
            ],
            [
             0.1111111111111111,
             "#46039f"
            ],
            [
             0.2222222222222222,
             "#7201a8"
            ],
            [
             0.3333333333333333,
             "#9c179e"
            ],
            [
             0.4444444444444444,
             "#bd3786"
            ],
            [
             0.5555555555555556,
             "#d8576b"
            ],
            [
             0.6666666666666666,
             "#ed7953"
            ],
            [
             0.7777777777777778,
             "#fb9f3a"
            ],
            [
             0.8888888888888888,
             "#fdca26"
            ],
            [
             1,
             "#f0f921"
            ]
           ],
           "sequentialminus": [
            [
             0,
             "#0d0887"
            ],
            [
             0.1111111111111111,
             "#46039f"
            ],
            [
             0.2222222222222222,
             "#7201a8"
            ],
            [
             0.3333333333333333,
             "#9c179e"
            ],
            [
             0.4444444444444444,
             "#bd3786"
            ],
            [
             0.5555555555555556,
             "#d8576b"
            ],
            [
             0.6666666666666666,
             "#ed7953"
            ],
            [
             0.7777777777777778,
             "#fb9f3a"
            ],
            [
             0.8888888888888888,
             "#fdca26"
            ],
            [
             1,
             "#f0f921"
            ]
           ]
          },
          "colorway": [
           "#636efa",
           "#EF553B",
           "#00cc96",
           "#ab63fa",
           "#FFA15A",
           "#19d3f3",
           "#FF6692",
           "#B6E880",
           "#FF97FF",
           "#FECB52"
          ],
          "font": {
           "color": "#f2f5fa"
          },
          "geo": {
           "bgcolor": "rgb(17,17,17)",
           "lakecolor": "rgb(17,17,17)",
           "landcolor": "rgb(17,17,17)",
           "showlakes": true,
           "showland": true,
           "subunitcolor": "#506784"
          },
          "hoverlabel": {
           "align": "left"
          },
          "hovermode": "closest",
          "mapbox": {
           "style": "dark"
          },
          "paper_bgcolor": "rgb(17,17,17)",
          "plot_bgcolor": "rgb(17,17,17)",
          "polar": {
           "angularaxis": {
            "gridcolor": "#506784",
            "linecolor": "#506784",
            "ticks": ""
           },
           "bgcolor": "rgb(17,17,17)",
           "radialaxis": {
            "gridcolor": "#506784",
            "linecolor": "#506784",
            "ticks": ""
           }
          },
          "scene": {
           "xaxis": {
            "backgroundcolor": "rgb(17,17,17)",
            "gridcolor": "#506784",
            "gridwidth": 2,
            "linecolor": "#506784",
            "showbackground": true,
            "ticks": "",
            "zerolinecolor": "#C8D4E3"
           },
           "yaxis": {
            "backgroundcolor": "rgb(17,17,17)",
            "gridcolor": "#506784",
            "gridwidth": 2,
            "linecolor": "#506784",
            "showbackground": true,
            "ticks": "",
            "zerolinecolor": "#C8D4E3"
           },
           "zaxis": {
            "backgroundcolor": "rgb(17,17,17)",
            "gridcolor": "#506784",
            "gridwidth": 2,
            "linecolor": "#506784",
            "showbackground": true,
            "ticks": "",
            "zerolinecolor": "#C8D4E3"
           }
          },
          "shapedefaults": {
           "line": {
            "color": "#f2f5fa"
           }
          },
          "sliderdefaults": {
           "bgcolor": "#C8D4E3",
           "bordercolor": "rgb(17,17,17)",
           "borderwidth": 1,
           "tickwidth": 0
          },
          "ternary": {
           "aaxis": {
            "gridcolor": "#506784",
            "linecolor": "#506784",
            "ticks": ""
           },
           "baxis": {
            "gridcolor": "#506784",
            "linecolor": "#506784",
            "ticks": ""
           },
           "bgcolor": "rgb(17,17,17)",
           "caxis": {
            "gridcolor": "#506784",
            "linecolor": "#506784",
            "ticks": ""
           }
          },
          "title": {
           "x": 0.05
          },
          "updatemenudefaults": {
           "bgcolor": "#506784",
           "borderwidth": 0
          },
          "xaxis": {
           "automargin": true,
           "gridcolor": "#283442",
           "linecolor": "#506784",
           "ticks": "",
           "title": {
            "standoff": 15
           },
           "zerolinecolor": "#283442",
           "zerolinewidth": 2
          },
          "yaxis": {
           "automargin": true,
           "gridcolor": "#283442",
           "linecolor": "#506784",
           "ticks": "",
           "title": {
            "standoff": 15
           },
           "zerolinecolor": "#283442",
           "zerolinewidth": 2
          }
         }
        },
        "title": {
         "text": "Total Transaction Value - Daily"
        },
        "xaxis": {
         "anchor": "y",
         "domain": [
          0,
          1
         ],
         "title": {
          "text": "date"
         }
        },
        "yaxis": {
         "anchor": "x",
         "domain": [
          0,
          1
         ],
         "title": {
          "text": "value"
         }
        }
       }
      }
     },
     "metadata": {},
     "output_type": "display_data"
    }
   ],
   "source": [
    "df.groupby('date')['value_million'].sum().mul(1_000_000).plot(title='Total Transaction Value - Daily')"
   ]
  },
  {
   "cell_type": "code",
   "execution_count": 124,
   "id": "869433ad",
   "metadata": {},
   "outputs": [
    {
     "data": {
      "application/vnd.plotly.v1+json": {
       "config": {
        "plotlyServerURL": "https://plot.ly"
       },
       "data": [
        {
         "hovertemplate": "variable=0<br>date=%{x}<br>value=%{y}<extra></extra>",
         "legendgroup": "0",
         "line": {
          "color": "#636efa",
          "dash": "solid"
         },
         "marker": {
          "symbol": "circle"
         },
         "mode": "lines",
         "name": "0",
         "orientation": "v",
         "showlegend": true,
         "type": "scatter",
         "x": [
          "2022-05-13",
          "2022-05-16",
          "2022-05-17",
          "2022-05-18",
          "2022-05-19",
          "2022-05-23",
          "2022-05-24",
          "2022-05-25",
          "2022-05-27",
          "2022-05-30",
          "2022-05-31",
          "2022-06-01",
          "2022-06-02",
          "2022-06-06",
          "2022-06-07",
          "2022-06-08",
          "2022-06-09",
          "2022-06-14",
          "2022-06-15",
          "2022-06-16",
          "2022-06-17",
          "2022-06-21",
          "2022-06-22",
          "2022-06-23",
          "2022-06-24",
          "2022-06-27",
          "2022-07-01",
          "2022-07-06",
          "2022-07-07",
          "2022-07-11",
          "2022-07-18",
          "2022-07-19",
          "2022-07-20",
          "2022-07-21",
          "2022-07-22",
          "2022-07-25",
          "2022-07-29",
          "2022-08-01",
          "2022-08-05",
          "2022-08-12",
          "2022-08-15",
          "2022-08-16",
          "2022-08-17",
          "2022-08-19",
          "2022-08-25",
          "2022-08-26",
          "2022-09-05",
          "2022-09-13",
          "2022-09-14",
          "2022-09-15",
          "2022-09-16",
          "2022-09-20",
          "2022-09-21",
          "2022-09-22",
          "2022-10-03",
          "2022-10-04",
          "2022-10-05",
          "2022-10-06",
          "2022-10-07",
          "2022-10-11",
          "2022-10-12",
          "2022-10-13",
          "2022-10-17",
          "2022-10-18",
          "2022-10-19",
          "2022-10-24",
          "2022-10-25",
          "2022-10-27",
          "2022-10-31",
          "2022-11-01",
          "2022-11-03",
          "2022-11-04",
          "2022-11-07",
          "2022-11-08",
          "2022-11-09",
          "2022-11-10",
          "2022-11-11",
          "2022-11-14",
          "2022-11-15",
          "2022-11-16",
          "2022-11-17",
          "2022-11-18",
          "2022-11-29",
          "2022-11-30",
          "2022-12-01",
          "2022-12-02",
          "2022-12-05",
          "2022-12-06",
          "2022-12-07",
          "2022-12-08",
          "2022-12-09",
          "2022-12-13",
          "2022-12-14",
          "2022-12-15",
          "2022-12-16",
          "2022-12-20",
          "2022-12-21",
          "2022-12-22",
          "2022-12-23",
          "2022-12-27",
          "2022-12-28",
          "2022-12-29",
          "2022-12-30",
          "2023-01-03",
          "2023-01-04",
          "2023-01-05",
          "2023-03-16",
          "2023-03-17",
          "2023-03-20",
          "2023-03-21",
          "2023-03-22",
          "2023-03-23",
          "2023-03-24",
          "2023-03-27",
          "2023-03-28",
          "2023-03-29",
          "2023-03-31",
          "2023-04-18",
          "2023-04-19",
          "2023-04-25",
          "2023-05-08",
          "2023-06-08",
          "2023-06-14",
          "2023-06-19",
          "2023-06-20",
          "2023-06-21",
          "2023-07-10",
          "2023-07-11",
          "2023-07-24",
          "2023-08-01",
          "2023-08-08",
          "2023-08-10",
          "2023-08-14",
          "2023-08-16",
          "2023-08-17",
          "2023-08-18",
          "2023-08-21",
          "2023-08-22",
          "2023-08-23",
          "2023-08-25",
          "2023-08-29",
          "2023-08-30",
          "2023-08-31",
          "2023-09-05",
          "2023-09-06",
          "2023-09-07",
          "2023-09-08",
          "2023-09-11",
          "2023-09-13",
          "2023-09-14",
          "2023-09-15",
          "2023-09-18",
          "2023-09-19",
          "2023-09-20",
          "2023-09-26",
          "2023-09-28",
          "2023-10-04",
          "2023-10-05",
          "2023-10-11",
          "2023-10-13",
          "2023-10-16",
          "2023-10-17",
          "2023-10-18",
          "2023-10-19",
          "2023-10-20",
          "2023-10-23",
          "2023-10-25",
          "2023-10-27",
          "2023-10-30",
          "2023-10-31",
          "2023-11-01",
          "2023-11-02",
          "2023-11-03",
          "2023-11-06",
          "2023-11-10",
          "2023-11-15",
          "2023-11-17",
          "2023-12-12",
          "2023-12-13",
          "2023-12-15",
          "2023-12-18",
          "2023-12-20",
          "2023-12-22",
          "2023-12-27",
          "2023-12-28",
          "2024-01-08",
          "2024-02-19",
          "2024-02-22",
          "2024-02-27",
          "2024-03-04",
          "2024-03-05",
          "2024-03-06",
          "2024-03-07",
          "2024-03-13",
          "2024-03-14",
          "2024-03-15",
          "2024-03-18",
          "2024-03-19",
          "2024-03-20",
          "2024-03-21",
          "2024-03-22",
          "2024-03-25",
          "2024-03-26",
          "2024-03-27",
          "2024-03-28",
          "2024-04-01",
          "2024-04-02",
          "2024-04-03",
          "2024-04-08",
          "2024-04-09",
          "2024-04-10",
          "2024-04-11",
          "2024-04-12",
          "2024-04-15",
          "2024-04-26",
          "2024-05-02",
          "2024-05-03",
          "2024-05-06",
          "2024-05-07",
          "2024-05-08",
          "2024-05-13",
          "2024-05-14",
          "2024-05-15",
          "2024-05-20",
          "2024-05-21",
          "2024-05-22",
          "2024-05-24",
          "2024-05-28",
          "2024-05-29",
          "2024-05-30",
          "2024-05-31",
          "2024-06-06",
          "2024-06-07",
          "2024-06-13",
          "2024-06-14",
          "2024-06-17",
          "2024-06-18",
          "2024-06-19",
          "2024-06-20",
          "2024-06-24",
          "2024-06-25",
          "2024-06-26",
          "2024-06-27",
          "2024-06-28",
          "2024-07-03",
          "2024-07-04",
          "2024-07-08",
          "2024-07-09",
          "2024-07-10",
          "2024-07-11",
          "2024-07-12",
          "2024-07-15",
          "2024-07-16",
          "2024-07-26",
          "2024-07-29",
          "2024-07-31",
          "2024-08-01",
          "2024-08-05",
          "2024-08-06",
          "2024-08-07",
          "2024-08-08",
          "2024-08-12",
          "2024-08-13",
          "2024-08-14",
          "2024-08-15",
          "2024-08-16",
          "2024-08-19",
          "2024-08-21",
          "2024-08-22",
          "2024-08-23",
          "2024-08-26",
          "2024-08-27",
          "2024-08-28",
          "2024-08-29",
          "2024-08-30",
          "2024-09-04",
          "2024-09-05",
          "2024-09-06",
          "2024-09-09",
          "2024-09-11",
          "2024-09-12",
          "2024-09-13",
          "2024-09-16",
          "2024-09-18",
          "2024-09-20",
          "2024-09-23",
          "2024-09-25",
          "2024-09-30",
          "2024-10-01",
          "2024-10-11",
          "2024-10-16",
          "2024-10-21",
          "2024-10-24",
          "2024-12-11",
          "2024-12-12",
          "2024-12-19",
          "2024-12-20",
          "2024-12-27",
          "2025-01-09",
          "2025-01-17",
          "2025-02-05",
          "2025-02-11",
          "2025-02-21",
          "2025-02-25",
          "2025-02-27",
          "2025-03-04",
          "2025-03-05",
          "2025-03-07",
          "2025-03-10",
          "2025-03-11",
          "2025-03-12",
          "2025-03-13",
          "2025-03-14",
          "2025-03-17",
          "2025-03-18",
          "2025-03-19",
          "2025-03-20",
          "2025-03-21",
          "2025-03-25",
          "2025-03-26",
          "2025-03-27",
          "2025-03-28",
          "2025-03-31",
          "2025-04-01",
          "2025-04-02",
          "2025-04-08",
          "2025-04-11",
          "2025-04-14",
          "2025-04-15",
          "2025-04-16",
          "2025-04-18",
          "2025-04-21",
          "2025-04-25",
          "2025-05-15",
          "2025-05-16"
         ],
         "xaxis": "x",
         "y": {
          "bdata": "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",
          "dtype": "f8"
         },
         "yaxis": "y"
        }
       ],
       "layout": {
        "legend": {
         "title": {
          "text": "variable"
         },
         "tracegroupgap": 0
        },
        "template": {
         "data": {
          "bar": [
           {
            "error_x": {
             "color": "#f2f5fa"
            },
            "error_y": {
             "color": "#f2f5fa"
            },
            "marker": {
             "line": {
              "color": "rgb(17,17,17)",
              "width": 0.5
             },
             "pattern": {
              "fillmode": "overlay",
              "size": 10,
              "solidity": 0.2
             }
            },
            "type": "bar"
           }
          ],
          "barpolar": [
           {
            "marker": {
             "line": {
              "color": "rgb(17,17,17)",
              "width": 0.5
             },
             "pattern": {
              "fillmode": "overlay",
              "size": 10,
              "solidity": 0.2
             }
            },
            "type": "barpolar"
           }
          ],
          "carpet": [
           {
            "aaxis": {
             "endlinecolor": "#A2B1C6",
             "gridcolor": "#506784",
             "linecolor": "#506784",
             "minorgridcolor": "#506784",
             "startlinecolor": "#A2B1C6"
            },
            "baxis": {
             "endlinecolor": "#A2B1C6",
             "gridcolor": "#506784",
             "linecolor": "#506784",
             "minorgridcolor": "#506784",
             "startlinecolor": "#A2B1C6"
            },
            "type": "carpet"
           }
          ],
          "choropleth": [
           {
            "colorbar": {
             "outlinewidth": 0,
             "ticks": ""
            },
            "type": "choropleth"
           }
          ],
          "contour": [
           {
            "colorbar": {
             "outlinewidth": 0,
             "ticks": ""
            },
            "colorscale": [
             [
              0,
              "#0d0887"
             ],
             [
              0.1111111111111111,
              "#46039f"
             ],
             [
              0.2222222222222222,
              "#7201a8"
             ],
             [
              0.3333333333333333,
              "#9c179e"
             ],
             [
              0.4444444444444444,
              "#bd3786"
             ],
             [
              0.5555555555555556,
              "#d8576b"
             ],
             [
              0.6666666666666666,
              "#ed7953"
             ],
             [
              0.7777777777777778,
              "#fb9f3a"
             ],
             [
              0.8888888888888888,
              "#fdca26"
             ],
             [
              1,
              "#f0f921"
             ]
            ],
            "type": "contour"
           }
          ],
          "contourcarpet": [
           {
            "colorbar": {
             "outlinewidth": 0,
             "ticks": ""
            },
            "type": "contourcarpet"
           }
          ],
          "heatmap": [
           {
            "colorbar": {
             "outlinewidth": 0,
             "ticks": ""
            },
            "colorscale": [
             [
              0,
              "#0d0887"
             ],
             [
              0.1111111111111111,
              "#46039f"
             ],
             [
              0.2222222222222222,
              "#7201a8"
             ],
             [
              0.3333333333333333,
              "#9c179e"
             ],
             [
              0.4444444444444444,
              "#bd3786"
             ],
             [
              0.5555555555555556,
              "#d8576b"
             ],
             [
              0.6666666666666666,
              "#ed7953"
             ],
             [
              0.7777777777777778,
              "#fb9f3a"
             ],
             [
              0.8888888888888888,
              "#fdca26"
             ],
             [
              1,
              "#f0f921"
             ]
            ],
            "type": "heatmap"
           }
          ],
          "histogram": [
           {
            "marker": {
             "pattern": {
              "fillmode": "overlay",
              "size": 10,
              "solidity": 0.2
             }
            },
            "type": "histogram"
           }
          ],
          "histogram2d": [
           {
            "colorbar": {
             "outlinewidth": 0,
             "ticks": ""
            },
            "colorscale": [
             [
              0,
              "#0d0887"
             ],
             [
              0.1111111111111111,
              "#46039f"
             ],
             [
              0.2222222222222222,
              "#7201a8"
             ],
             [
              0.3333333333333333,
              "#9c179e"
             ],
             [
              0.4444444444444444,
              "#bd3786"
             ],
             [
              0.5555555555555556,
              "#d8576b"
             ],
             [
              0.6666666666666666,
              "#ed7953"
             ],
             [
              0.7777777777777778,
              "#fb9f3a"
             ],
             [
              0.8888888888888888,
              "#fdca26"
             ],
             [
              1,
              "#f0f921"
             ]
            ],
            "type": "histogram2d"
           }
          ],
          "histogram2dcontour": [
           {
            "colorbar": {
             "outlinewidth": 0,
             "ticks": ""
            },
            "colorscale": [
             [
              0,
              "#0d0887"
             ],
             [
              0.1111111111111111,
              "#46039f"
             ],
             [
              0.2222222222222222,
              "#7201a8"
             ],
             [
              0.3333333333333333,
              "#9c179e"
             ],
             [
              0.4444444444444444,
              "#bd3786"
             ],
             [
              0.5555555555555556,
              "#d8576b"
             ],
             [
              0.6666666666666666,
              "#ed7953"
             ],
             [
              0.7777777777777778,
              "#fb9f3a"
             ],
             [
              0.8888888888888888,
              "#fdca26"
             ],
             [
              1,
              "#f0f921"
             ]
            ],
            "type": "histogram2dcontour"
           }
          ],
          "mesh3d": [
           {
            "colorbar": {
             "outlinewidth": 0,
             "ticks": ""
            },
            "type": "mesh3d"
           }
          ],
          "parcoords": [
           {
            "line": {
             "colorbar": {
              "outlinewidth": 0,
              "ticks": ""
             }
            },
            "type": "parcoords"
           }
          ],
          "pie": [
           {
            "automargin": true,
            "type": "pie"
           }
          ],
          "scatter": [
           {
            "marker": {
             "line": {
              "color": "#283442"
             }
            },
            "type": "scatter"
           }
          ],
          "scatter3d": [
           {
            "line": {
             "colorbar": {
              "outlinewidth": 0,
              "ticks": ""
             }
            },
            "marker": {
             "colorbar": {
              "outlinewidth": 0,
              "ticks": ""
             }
            },
            "type": "scatter3d"
           }
          ],
          "scattercarpet": [
           {
            "marker": {
             "colorbar": {
              "outlinewidth": 0,
              "ticks": ""
             }
            },
            "type": "scattercarpet"
           }
          ],
          "scattergeo": [
           {
            "marker": {
             "colorbar": {
              "outlinewidth": 0,
              "ticks": ""
             }
            },
            "type": "scattergeo"
           }
          ],
          "scattergl": [
           {
            "marker": {
             "line": {
              "color": "#283442"
             }
            },
            "type": "scattergl"
           }
          ],
          "scattermap": [
           {
            "marker": {
             "colorbar": {
              "outlinewidth": 0,
              "ticks": ""
             }
            },
            "type": "scattermap"
           }
          ],
          "scattermapbox": [
           {
            "marker": {
             "colorbar": {
              "outlinewidth": 0,
              "ticks": ""
             }
            },
            "type": "scattermapbox"
           }
          ],
          "scatterpolar": [
           {
            "marker": {
             "colorbar": {
              "outlinewidth": 0,
              "ticks": ""
             }
            },
            "type": "scatterpolar"
           }
          ],
          "scatterpolargl": [
           {
            "marker": {
             "colorbar": {
              "outlinewidth": 0,
              "ticks": ""
             }
            },
            "type": "scatterpolargl"
           }
          ],
          "scatterternary": [
           {
            "marker": {
             "colorbar": {
              "outlinewidth": 0,
              "ticks": ""
             }
            },
            "type": "scatterternary"
           }
          ],
          "surface": [
           {
            "colorbar": {
             "outlinewidth": 0,
             "ticks": ""
            },
            "colorscale": [
             [
              0,
              "#0d0887"
             ],
             [
              0.1111111111111111,
              "#46039f"
             ],
             [
              0.2222222222222222,
              "#7201a8"
             ],
             [
              0.3333333333333333,
              "#9c179e"
             ],
             [
              0.4444444444444444,
              "#bd3786"
             ],
             [
              0.5555555555555556,
              "#d8576b"
             ],
             [
              0.6666666666666666,
              "#ed7953"
             ],
             [
              0.7777777777777778,
              "#fb9f3a"
             ],
             [
              0.8888888888888888,
              "#fdca26"
             ],
             [
              1,
              "#f0f921"
             ]
            ],
            "type": "surface"
           }
          ],
          "table": [
           {
            "cells": {
             "fill": {
              "color": "#506784"
             },
             "line": {
              "color": "rgb(17,17,17)"
             }
            },
            "header": {
             "fill": {
              "color": "#2a3f5f"
             },
             "line": {
              "color": "rgb(17,17,17)"
             }
            },
            "type": "table"
           }
          ]
         },
         "layout": {
          "annotationdefaults": {
           "arrowcolor": "#f2f5fa",
           "arrowhead": 0,
           "arrowwidth": 1
          },
          "autotypenumbers": "strict",
          "coloraxis": {
           "colorbar": {
            "outlinewidth": 0,
            "ticks": ""
           }
          },
          "colorscale": {
           "diverging": [
            [
             0,
             "#8e0152"
            ],
            [
             0.1,
             "#c51b7d"
            ],
            [
             0.2,
             "#de77ae"
            ],
            [
             0.3,
             "#f1b6da"
            ],
            [
             0.4,
             "#fde0ef"
            ],
            [
             0.5,
             "#f7f7f7"
            ],
            [
             0.6,
             "#e6f5d0"
            ],
            [
             0.7,
             "#b8e186"
            ],
            [
             0.8,
             "#7fbc41"
            ],
            [
             0.9,
             "#4d9221"
            ],
            [
             1,
             "#276419"
            ]
           ],
           "sequential": [
            [
             0,
             "#0d0887"
            ],
            [
             0.1111111111111111,
             "#46039f"
            ],
            [
             0.2222222222222222,
             "#7201a8"
            ],
            [
             0.3333333333333333,
             "#9c179e"
            ],
            [
             0.4444444444444444,
             "#bd3786"
            ],
            [
             0.5555555555555556,
             "#d8576b"
            ],
            [
             0.6666666666666666,
             "#ed7953"
            ],
            [
             0.7777777777777778,
             "#fb9f3a"
            ],
            [
             0.8888888888888888,
             "#fdca26"
            ],
            [
             1,
             "#f0f921"
            ]
           ],
           "sequentialminus": [
            [
             0,
             "#0d0887"
            ],
            [
             0.1111111111111111,
             "#46039f"
            ],
            [
             0.2222222222222222,
             "#7201a8"
            ],
            [
             0.3333333333333333,
             "#9c179e"
            ],
            [
             0.4444444444444444,
             "#bd3786"
            ],
            [
             0.5555555555555556,
             "#d8576b"
            ],
            [
             0.6666666666666666,
             "#ed7953"
            ],
            [
             0.7777777777777778,
             "#fb9f3a"
            ],
            [
             0.8888888888888888,
             "#fdca26"
            ],
            [
             1,
             "#f0f921"
            ]
           ]
          },
          "colorway": [
           "#636efa",
           "#EF553B",
           "#00cc96",
           "#ab63fa",
           "#FFA15A",
           "#19d3f3",
           "#FF6692",
           "#B6E880",
           "#FF97FF",
           "#FECB52"
          ],
          "font": {
           "color": "#f2f5fa"
          },
          "geo": {
           "bgcolor": "rgb(17,17,17)",
           "lakecolor": "rgb(17,17,17)",
           "landcolor": "rgb(17,17,17)",
           "showlakes": true,
           "showland": true,
           "subunitcolor": "#506784"
          },
          "hoverlabel": {
           "align": "left"
          },
          "hovermode": "closest",
          "mapbox": {
           "style": "dark"
          },
          "paper_bgcolor": "rgb(17,17,17)",
          "plot_bgcolor": "rgb(17,17,17)",
          "polar": {
           "angularaxis": {
            "gridcolor": "#506784",
            "linecolor": "#506784",
            "ticks": ""
           },
           "bgcolor": "rgb(17,17,17)",
           "radialaxis": {
            "gridcolor": "#506784",
            "linecolor": "#506784",
            "ticks": ""
           }
          },
          "scene": {
           "xaxis": {
            "backgroundcolor": "rgb(17,17,17)",
            "gridcolor": "#506784",
            "gridwidth": 2,
            "linecolor": "#506784",
            "showbackground": true,
            "ticks": "",
            "zerolinecolor": "#C8D4E3"
           },
           "yaxis": {
            "backgroundcolor": "rgb(17,17,17)",
            "gridcolor": "#506784",
            "gridwidth": 2,
            "linecolor": "#506784",
            "showbackground": true,
            "ticks": "",
            "zerolinecolor": "#C8D4E3"
           },
           "zaxis": {
            "backgroundcolor": "rgb(17,17,17)",
            "gridcolor": "#506784",
            "gridwidth": 2,
            "linecolor": "#506784",
            "showbackground": true,
            "ticks": "",
            "zerolinecolor": "#C8D4E3"
           }
          },
          "shapedefaults": {
           "line": {
            "color": "#f2f5fa"
           }
          },
          "sliderdefaults": {
           "bgcolor": "#C8D4E3",
           "bordercolor": "rgb(17,17,17)",
           "borderwidth": 1,
           "tickwidth": 0
          },
          "ternary": {
           "aaxis": {
            "gridcolor": "#506784",
            "linecolor": "#506784",
            "ticks": ""
           },
           "baxis": {
            "gridcolor": "#506784",
            "linecolor": "#506784",
            "ticks": ""
           },
           "bgcolor": "rgb(17,17,17)",
           "caxis": {
            "gridcolor": "#506784",
            "linecolor": "#506784",
            "ticks": ""
           }
          },
          "title": {
           "x": 0.05
          },
          "updatemenudefaults": {
           "bgcolor": "#506784",
           "borderwidth": 0
          },
          "xaxis": {
           "automargin": true,
           "gridcolor": "#283442",
           "linecolor": "#506784",
           "ticks": "",
           "title": {
            "standoff": 15
           },
           "zerolinecolor": "#283442",
           "zerolinewidth": 2
          },
          "yaxis": {
           "automargin": true,
           "gridcolor": "#283442",
           "linecolor": "#506784",
           "ticks": "",
           "title": {
            "standoff": 15
           },
           "zerolinecolor": "#283442",
           "zerolinewidth": 2
          }
         }
        },
        "title": {
         "text": "Net Flow - Daily"
        },
        "xaxis": {
         "anchor": "y",
         "domain": [
          0,
          1
         ],
         "title": {
          "text": "date"
         }
        },
        "yaxis": {
         "anchor": "x",
         "domain": [
          0,
          1
         ],
         "title": {
          "text": "value"
         }
        }
       }
      }
     },
     "metadata": {},
     "output_type": "display_data"
    }
   ],
   "source": [
    "net_flow = df.groupby('date').apply(lambda df: (df['buy']*df['price']).sum() - (df['sell']*df['price']).sum())\n",
    "net_flow.plot(title='Net Flow - Daily')"
   ]
  },
  {
   "cell_type": "code",
   "execution_count": 125,
   "id": "cd050485",
   "metadata": {},
   "outputs": [],
   "source": [
    "daily_stock_traded = df.groupby('date')['ticker'].count()"
   ]
  },
  {
   "cell_type": "code",
   "execution_count": 126,
   "id": "6eebcfb7",
   "metadata": {},
   "outputs": [
    {
     "data": {
      "application/vnd.plotly.v1+json": {
       "config": {
        "plotlyServerURL": "https://plot.ly"
       },
       "data": [
        {
         "bingroup": "x",
         "hovertemplate": "variable=ticker<br>value=%{x}<br>count=%{y}<extra></extra>",
         "legendgroup": "ticker",
         "marker": {
          "color": "#636efa",
          "pattern": {
           "shape": ""
          }
         },
         "name": "ticker",
         "orientation": "v",
         "showlegend": true,
         "type": "histogram",
         "x": {
          "bdata": "AwMDAwMDAwMDBgYFBgUGAQYGBgYGBgIGBgYFBQUBAgYGBgYGBgYGBQUGBgYGBQUFBAMGBwEGAwYFBgYGBgYGBQYGBgYGBgcHBwcHBwcHCQEIAQcHBwQHAQgEBwgIAQcIBwcHBwoJCAgBAgQJBAkDCAgICAgICAcICAoCAQELCgsLCwsLCwsKCwsLCwsLCwsLCwsLCwgKAwsLAwsLCwsLCgsLCwsKCwsLCwsMCwsLCwsJCQoLCwsLCwsLCwsLCwsLCwgICgQPDQ0NDRgNDA4ODg4RDQ4BDg4NDQ0NDQ0KDA0NDQ0NDAsMDAwNDQ0MDQ0NDQ0NDQwNDQ0NDQ0NDA0NDA0NDQ0NDQ0NDQ0NDA0NDA0MDQ0NDQwNDQ0NDQ0BDA4NDQEBDQ0ODgENDg4ODg4ODg0NDg4ODg4ODg4ODgQODQ0NDQwNDQoNDw0MDQ0NDg4=",
          "dtype": "i1"
         },
         "xaxis": "x",
         "yaxis": "y"
        }
       ],
       "layout": {
        "barmode": "relative",
        "legend": {
         "title": {
          "text": "variable"
         },
         "tracegroupgap": 0
        },
        "margin": {
         "t": 60
        },
        "template": {
         "data": {
          "bar": [
           {
            "error_x": {
             "color": "#f2f5fa"
            },
            "error_y": {
             "color": "#f2f5fa"
            },
            "marker": {
             "line": {
              "color": "rgb(17,17,17)",
              "width": 0.5
             },
             "pattern": {
              "fillmode": "overlay",
              "size": 10,
              "solidity": 0.2
             }
            },
            "type": "bar"
           }
          ],
          "barpolar": [
           {
            "marker": {
             "line": {
              "color": "rgb(17,17,17)",
              "width": 0.5
             },
             "pattern": {
              "fillmode": "overlay",
              "size": 10,
              "solidity": 0.2
             }
            },
            "type": "barpolar"
           }
          ],
          "carpet": [
           {
            "aaxis": {
             "endlinecolor": "#A2B1C6",
             "gridcolor": "#506784",
             "linecolor": "#506784",
             "minorgridcolor": "#506784",
             "startlinecolor": "#A2B1C6"
            },
            "baxis": {
             "endlinecolor": "#A2B1C6",
             "gridcolor": "#506784",
             "linecolor": "#506784",
             "minorgridcolor": "#506784",
             "startlinecolor": "#A2B1C6"
            },
            "type": "carpet"
           }
          ],
          "choropleth": [
           {
            "colorbar": {
             "outlinewidth": 0,
             "ticks": ""
            },
            "type": "choropleth"
           }
          ],
          "contour": [
           {
            "colorbar": {
             "outlinewidth": 0,
             "ticks": ""
            },
            "colorscale": [
             [
              0,
              "#0d0887"
             ],
             [
              0.1111111111111111,
              "#46039f"
             ],
             [
              0.2222222222222222,
              "#7201a8"
             ],
             [
              0.3333333333333333,
              "#9c179e"
             ],
             [
              0.4444444444444444,
              "#bd3786"
             ],
             [
              0.5555555555555556,
              "#d8576b"
             ],
             [
              0.6666666666666666,
              "#ed7953"
             ],
             [
              0.7777777777777778,
              "#fb9f3a"
             ],
             [
              0.8888888888888888,
              "#fdca26"
             ],
             [
              1,
              "#f0f921"
             ]
            ],
            "type": "contour"
           }
          ],
          "contourcarpet": [
           {
            "colorbar": {
             "outlinewidth": 0,
             "ticks": ""
            },
            "type": "contourcarpet"
           }
          ],
          "heatmap": [
           {
            "colorbar": {
             "outlinewidth": 0,
             "ticks": ""
            },
            "colorscale": [
             [
              0,
              "#0d0887"
             ],
             [
              0.1111111111111111,
              "#46039f"
             ],
             [
              0.2222222222222222,
              "#7201a8"
             ],
             [
              0.3333333333333333,
              "#9c179e"
             ],
             [
              0.4444444444444444,
              "#bd3786"
             ],
             [
              0.5555555555555556,
              "#d8576b"
             ],
             [
              0.6666666666666666,
              "#ed7953"
             ],
             [
              0.7777777777777778,
              "#fb9f3a"
             ],
             [
              0.8888888888888888,
              "#fdca26"
             ],
             [
              1,
              "#f0f921"
             ]
            ],
            "type": "heatmap"
           }
          ],
          "histogram": [
           {
            "marker": {
             "pattern": {
              "fillmode": "overlay",
              "size": 10,
              "solidity": 0.2
             }
            },
            "type": "histogram"
           }
          ],
          "histogram2d": [
           {
            "colorbar": {
             "outlinewidth": 0,
             "ticks": ""
            },
            "colorscale": [
             [
              0,
              "#0d0887"
             ],
             [
              0.1111111111111111,
              "#46039f"
             ],
             [
              0.2222222222222222,
              "#7201a8"
             ],
             [
              0.3333333333333333,
              "#9c179e"
             ],
             [
              0.4444444444444444,
              "#bd3786"
             ],
             [
              0.5555555555555556,
              "#d8576b"
             ],
             [
              0.6666666666666666,
              "#ed7953"
             ],
             [
              0.7777777777777778,
              "#fb9f3a"
             ],
             [
              0.8888888888888888,
              "#fdca26"
             ],
             [
              1,
              "#f0f921"
             ]
            ],
            "type": "histogram2d"
           }
          ],
          "histogram2dcontour": [
           {
            "colorbar": {
             "outlinewidth": 0,
             "ticks": ""
            },
            "colorscale": [
             [
              0,
              "#0d0887"
             ],
             [
              0.1111111111111111,
              "#46039f"
             ],
             [
              0.2222222222222222,
              "#7201a8"
             ],
             [
              0.3333333333333333,
              "#9c179e"
             ],
             [
              0.4444444444444444,
              "#bd3786"
             ],
             [
              0.5555555555555556,
              "#d8576b"
             ],
             [
              0.6666666666666666,
              "#ed7953"
             ],
             [
              0.7777777777777778,
              "#fb9f3a"
             ],
             [
              0.8888888888888888,
              "#fdca26"
             ],
             [
              1,
              "#f0f921"
             ]
            ],
            "type": "histogram2dcontour"
           }
          ],
          "mesh3d": [
           {
            "colorbar": {
             "outlinewidth": 0,
             "ticks": ""
            },
            "type": "mesh3d"
           }
          ],
          "parcoords": [
           {
            "line": {
             "colorbar": {
              "outlinewidth": 0,
              "ticks": ""
             }
            },
            "type": "parcoords"
           }
          ],
          "pie": [
           {
            "automargin": true,
            "type": "pie"
           }
          ],
          "scatter": [
           {
            "marker": {
             "line": {
              "color": "#283442"
             }
            },
            "type": "scatter"
           }
          ],
          "scatter3d": [
           {
            "line": {
             "colorbar": {
              "outlinewidth": 0,
              "ticks": ""
             }
            },
            "marker": {
             "colorbar": {
              "outlinewidth": 0,
              "ticks": ""
             }
            },
            "type": "scatter3d"
           }
          ],
          "scattercarpet": [
           {
            "marker": {
             "colorbar": {
              "outlinewidth": 0,
              "ticks": ""
             }
            },
            "type": "scattercarpet"
           }
          ],
          "scattergeo": [
           {
            "marker": {
             "colorbar": {
              "outlinewidth": 0,
              "ticks": ""
             }
            },
            "type": "scattergeo"
           }
          ],
          "scattergl": [
           {
            "marker": {
             "line": {
              "color": "#283442"
             }
            },
            "type": "scattergl"
           }
          ],
          "scattermap": [
           {
            "marker": {
             "colorbar": {
              "outlinewidth": 0,
              "ticks": ""
             }
            },
            "type": "scattermap"
           }
          ],
          "scattermapbox": [
           {
            "marker": {
             "colorbar": {
              "outlinewidth": 0,
              "ticks": ""
             }
            },
            "type": "scattermapbox"
           }
          ],
          "scatterpolar": [
           {
            "marker": {
             "colorbar": {
              "outlinewidth": 0,
              "ticks": ""
             }
            },
            "type": "scatterpolar"
           }
          ],
          "scatterpolargl": [
           {
            "marker": {
             "colorbar": {
              "outlinewidth": 0,
              "ticks": ""
             }
            },
            "type": "scatterpolargl"
           }
          ],
          "scatterternary": [
           {
            "marker": {
             "colorbar": {
              "outlinewidth": 0,
              "ticks": ""
             }
            },
            "type": "scatterternary"
           }
          ],
          "surface": [
           {
            "colorbar": {
             "outlinewidth": 0,
             "ticks": ""
            },
            "colorscale": [
             [
              0,
              "#0d0887"
             ],
             [
              0.1111111111111111,
              "#46039f"
             ],
             [
              0.2222222222222222,
              "#7201a8"
             ],
             [
              0.3333333333333333,
              "#9c179e"
             ],
             [
              0.4444444444444444,
              "#bd3786"
             ],
             [
              0.5555555555555556,
              "#d8576b"
             ],
             [
              0.6666666666666666,
              "#ed7953"
             ],
             [
              0.7777777777777778,
              "#fb9f3a"
             ],
             [
              0.8888888888888888,
              "#fdca26"
             ],
             [
              1,
              "#f0f921"
             ]
            ],
            "type": "surface"
           }
          ],
          "table": [
           {
            "cells": {
             "fill": {
              "color": "#506784"
             },
             "line": {
              "color": "rgb(17,17,17)"
             }
            },
            "header": {
             "fill": {
              "color": "#2a3f5f"
             },
             "line": {
              "color": "rgb(17,17,17)"
             }
            },
            "type": "table"
           }
          ]
         },
         "layout": {
          "annotationdefaults": {
           "arrowcolor": "#f2f5fa",
           "arrowhead": 0,
           "arrowwidth": 1
          },
          "autotypenumbers": "strict",
          "coloraxis": {
           "colorbar": {
            "outlinewidth": 0,
            "ticks": ""
           }
          },
          "colorscale": {
           "diverging": [
            [
             0,
             "#8e0152"
            ],
            [
             0.1,
             "#c51b7d"
            ],
            [
             0.2,
             "#de77ae"
            ],
            [
             0.3,
             "#f1b6da"
            ],
            [
             0.4,
             "#fde0ef"
            ],
            [
             0.5,
             "#f7f7f7"
            ],
            [
             0.6,
             "#e6f5d0"
            ],
            [
             0.7,
             "#b8e186"
            ],
            [
             0.8,
             "#7fbc41"
            ],
            [
             0.9,
             "#4d9221"
            ],
            [
             1,
             "#276419"
            ]
           ],
           "sequential": [
            [
             0,
             "#0d0887"
            ],
            [
             0.1111111111111111,
             "#46039f"
            ],
            [
             0.2222222222222222,
             "#7201a8"
            ],
            [
             0.3333333333333333,
             "#9c179e"
            ],
            [
             0.4444444444444444,
             "#bd3786"
            ],
            [
             0.5555555555555556,
             "#d8576b"
            ],
            [
             0.6666666666666666,
             "#ed7953"
            ],
            [
             0.7777777777777778,
             "#fb9f3a"
            ],
            [
             0.8888888888888888,
             "#fdca26"
            ],
            [
             1,
             "#f0f921"
            ]
           ],
           "sequentialminus": [
            [
             0,
             "#0d0887"
            ],
            [
             0.1111111111111111,
             "#46039f"
            ],
            [
             0.2222222222222222,
             "#7201a8"
            ],
            [
             0.3333333333333333,
             "#9c179e"
            ],
            [
             0.4444444444444444,
             "#bd3786"
            ],
            [
             0.5555555555555556,
             "#d8576b"
            ],
            [
             0.6666666666666666,
             "#ed7953"
            ],
            [
             0.7777777777777778,
             "#fb9f3a"
            ],
            [
             0.8888888888888888,
             "#fdca26"
            ],
            [
             1,
             "#f0f921"
            ]
           ]
          },
          "colorway": [
           "#636efa",
           "#EF553B",
           "#00cc96",
           "#ab63fa",
           "#FFA15A",
           "#19d3f3",
           "#FF6692",
           "#B6E880",
           "#FF97FF",
           "#FECB52"
          ],
          "font": {
           "color": "#f2f5fa"
          },
          "geo": {
           "bgcolor": "rgb(17,17,17)",
           "lakecolor": "rgb(17,17,17)",
           "landcolor": "rgb(17,17,17)",
           "showlakes": true,
           "showland": true,
           "subunitcolor": "#506784"
          },
          "hoverlabel": {
           "align": "left"
          },
          "hovermode": "closest",
          "mapbox": {
           "style": "dark"
          },
          "paper_bgcolor": "rgb(17,17,17)",
          "plot_bgcolor": "rgb(17,17,17)",
          "polar": {
           "angularaxis": {
            "gridcolor": "#506784",
            "linecolor": "#506784",
            "ticks": ""
           },
           "bgcolor": "rgb(17,17,17)",
           "radialaxis": {
            "gridcolor": "#506784",
            "linecolor": "#506784",
            "ticks": ""
           }
          },
          "scene": {
           "xaxis": {
            "backgroundcolor": "rgb(17,17,17)",
            "gridcolor": "#506784",
            "gridwidth": 2,
            "linecolor": "#506784",
            "showbackground": true,
            "ticks": "",
            "zerolinecolor": "#C8D4E3"
           },
           "yaxis": {
            "backgroundcolor": "rgb(17,17,17)",
            "gridcolor": "#506784",
            "gridwidth": 2,
            "linecolor": "#506784",
            "showbackground": true,
            "ticks": "",
            "zerolinecolor": "#C8D4E3"
           },
           "zaxis": {
            "backgroundcolor": "rgb(17,17,17)",
            "gridcolor": "#506784",
            "gridwidth": 2,
            "linecolor": "#506784",
            "showbackground": true,
            "ticks": "",
            "zerolinecolor": "#C8D4E3"
           }
          },
          "shapedefaults": {
           "line": {
            "color": "#f2f5fa"
           }
          },
          "sliderdefaults": {
           "bgcolor": "#C8D4E3",
           "bordercolor": "rgb(17,17,17)",
           "borderwidth": 1,
           "tickwidth": 0
          },
          "ternary": {
           "aaxis": {
            "gridcolor": "#506784",
            "linecolor": "#506784",
            "ticks": ""
           },
           "baxis": {
            "gridcolor": "#506784",
            "linecolor": "#506784",
            "ticks": ""
           },
           "bgcolor": "rgb(17,17,17)",
           "caxis": {
            "gridcolor": "#506784",
            "linecolor": "#506784",
            "ticks": ""
           }
          },
          "title": {
           "x": 0.05
          },
          "updatemenudefaults": {
           "bgcolor": "#506784",
           "borderwidth": 0
          },
          "xaxis": {
           "automargin": true,
           "gridcolor": "#283442",
           "linecolor": "#506784",
           "ticks": "",
           "title": {
            "standoff": 15
           },
           "zerolinecolor": "#283442",
           "zerolinewidth": 2
          },
          "yaxis": {
           "automargin": true,
           "gridcolor": "#283442",
           "linecolor": "#506784",
           "ticks": "",
           "title": {
            "standoff": 15
           },
           "zerolinecolor": "#283442",
           "zerolinewidth": 2
          }
         }
        },
        "xaxis": {
         "anchor": "y",
         "domain": [
          0,
          1
         ],
         "title": {
          "text": "value"
         }
        },
        "yaxis": {
         "anchor": "x",
         "domain": [
          0,
          1
         ],
         "title": {
          "text": "count"
         }
        }
       }
      }
     },
     "metadata": {},
     "output_type": "display_data"
    }
   ],
   "source": [
    "daily_stock_traded.hist()"
   ]
  },
  {
   "cell_type": "code",
   "execution_count": 129,
   "id": "f2af7968",
   "metadata": {},
   "outputs": [
    {
     "data": {
      "application/vnd.microsoft.datawrangler.viewer.v0+json": {
       "columns": [
        {
         "name": "index",
         "rawType": "object",
         "type": "string"
        },
        {
         "name": "ticker",
         "rawType": "float64",
         "type": "float"
        }
       ],
       "ref": "1ba26e0c-6235-49ab-b94a-28b316c0f825",
       "rows": [
        [
         "count",
         "335.0"
        ],
        [
         "mean",
         "9.543283582089552"
        ],
        [
         "std",
         "3.9256268381030606"
        ],
        [
         "min",
         "1.0"
        ],
        [
         "25%",
         "6.0"
        ],
        [
         "50%",
         "11.0"
        ],
        [
         "75%",
         "13.0"
        ],
        [
         "max",
         "24.0"
        ]
       ],
       "shape": {
        "columns": 1,
        "rows": 8
       }
      },
      "text/plain": [
       "count   335.000\n",
       "mean      9.543\n",
       "std       3.926\n",
       "min       1.000\n",
       "25%       6.000\n",
       "50%      11.000\n",
       "75%      13.000\n",
       "max      24.000\n",
       "Name: ticker, dtype: float64"
      ]
     },
     "execution_count": 129,
     "metadata": {},
     "output_type": "execute_result"
    }
   ],
   "source": [
    "daily_stock_traded.describe()"
   ]
  },
  {
   "cell_type": "code",
   "execution_count": 130,
   "id": "e38ddc12",
   "metadata": {},
   "outputs": [
    {
     "data": {
      "application/vnd.plotly.v1+json": {
       "config": {
        "plotlyServerURL": "https://plot.ly"
       },
       "data": [
        {
         "bingroup": "x",
         "hovertemplate": "variable=0<br>value=%{x}<br>count=%{y}<extra></extra>",
         "legendgroup": "0",
         "marker": {
          "color": "#636efa",
          "pattern": {
           "shape": ""
          }
         },
         "name": "0",
         "orientation": "v",
         "showlegend": true,
         "type": "histogram",
         "x": {
          "bdata": "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",
          "dtype": "f8"
         },
         "xaxis": "x",
         "yaxis": "y"
        }
       ],
       "layout": {
        "barmode": "relative",
        "legend": {
         "title": {
          "text": "variable"
         },
         "tracegroupgap": 0
        },
        "margin": {
         "t": 60
        },
        "template": {
         "data": {
          "bar": [
           {
            "error_x": {
             "color": "#f2f5fa"
            },
            "error_y": {
             "color": "#f2f5fa"
            },
            "marker": {
             "line": {
              "color": "rgb(17,17,17)",
              "width": 0.5
             },
             "pattern": {
              "fillmode": "overlay",
              "size": 10,
              "solidity": 0.2
             }
            },
            "type": "bar"
           }
          ],
          "barpolar": [
           {
            "marker": {
             "line": {
              "color": "rgb(17,17,17)",
              "width": 0.5
             },
             "pattern": {
              "fillmode": "overlay",
              "size": 10,
              "solidity": 0.2
             }
            },
            "type": "barpolar"
           }
          ],
          "carpet": [
           {
            "aaxis": {
             "endlinecolor": "#A2B1C6",
             "gridcolor": "#506784",
             "linecolor": "#506784",
             "minorgridcolor": "#506784",
             "startlinecolor": "#A2B1C6"
            },
            "baxis": {
             "endlinecolor": "#A2B1C6",
             "gridcolor": "#506784",
             "linecolor": "#506784",
             "minorgridcolor": "#506784",
             "startlinecolor": "#A2B1C6"
            },
            "type": "carpet"
           }
          ],
          "choropleth": [
           {
            "colorbar": {
             "outlinewidth": 0,
             "ticks": ""
            },
            "type": "choropleth"
           }
          ],
          "contour": [
           {
            "colorbar": {
             "outlinewidth": 0,
             "ticks": ""
            },
            "colorscale": [
             [
              0,
              "#0d0887"
             ],
             [
              0.1111111111111111,
              "#46039f"
             ],
             [
              0.2222222222222222,
              "#7201a8"
             ],
             [
              0.3333333333333333,
              "#9c179e"
             ],
             [
              0.4444444444444444,
              "#bd3786"
             ],
             [
              0.5555555555555556,
              "#d8576b"
             ],
             [
              0.6666666666666666,
              "#ed7953"
             ],
             [
              0.7777777777777778,
              "#fb9f3a"
             ],
             [
              0.8888888888888888,
              "#fdca26"
             ],
             [
              1,
              "#f0f921"
             ]
            ],
            "type": "contour"
           }
          ],
          "contourcarpet": [
           {
            "colorbar": {
             "outlinewidth": 0,
             "ticks": ""
            },
            "type": "contourcarpet"
           }
          ],
          "heatmap": [
           {
            "colorbar": {
             "outlinewidth": 0,
             "ticks": ""
            },
            "colorscale": [
             [
              0,
              "#0d0887"
             ],
             [
              0.1111111111111111,
              "#46039f"
             ],
             [
              0.2222222222222222,
              "#7201a8"
             ],
             [
              0.3333333333333333,
              "#9c179e"
             ],
             [
              0.4444444444444444,
              "#bd3786"
             ],
             [
              0.5555555555555556,
              "#d8576b"
             ],
             [
              0.6666666666666666,
              "#ed7953"
             ],
             [
              0.7777777777777778,
              "#fb9f3a"
             ],
             [
              0.8888888888888888,
              "#fdca26"
             ],
             [
              1,
              "#f0f921"
             ]
            ],
            "type": "heatmap"
           }
          ],
          "histogram": [
           {
            "marker": {
             "pattern": {
              "fillmode": "overlay",
              "size": 10,
              "solidity": 0.2
             }
            },
            "type": "histogram"
           }
          ],
          "histogram2d": [
           {
            "colorbar": {
             "outlinewidth": 0,
             "ticks": ""
            },
            "colorscale": [
             [
              0,
              "#0d0887"
             ],
             [
              0.1111111111111111,
              "#46039f"
             ],
             [
              0.2222222222222222,
              "#7201a8"
             ],
             [
              0.3333333333333333,
              "#9c179e"
             ],
             [
              0.4444444444444444,
              "#bd3786"
             ],
             [
              0.5555555555555556,
              "#d8576b"
             ],
             [
              0.6666666666666666,
              "#ed7953"
             ],
             [
              0.7777777777777778,
              "#fb9f3a"
             ],
             [
              0.8888888888888888,
              "#fdca26"
             ],
             [
              1,
              "#f0f921"
             ]
            ],
            "type": "histogram2d"
           }
          ],
          "histogram2dcontour": [
           {
            "colorbar": {
             "outlinewidth": 0,
             "ticks": ""
            },
            "colorscale": [
             [
              0,
              "#0d0887"
             ],
             [
              0.1111111111111111,
              "#46039f"
             ],
             [
              0.2222222222222222,
              "#7201a8"
             ],
             [
              0.3333333333333333,
              "#9c179e"
             ],
             [
              0.4444444444444444,
              "#bd3786"
             ],
             [
              0.5555555555555556,
              "#d8576b"
             ],
             [
              0.6666666666666666,
              "#ed7953"
             ],
             [
              0.7777777777777778,
              "#fb9f3a"
             ],
             [
              0.8888888888888888,
              "#fdca26"
             ],
             [
              1,
              "#f0f921"
             ]
            ],
            "type": "histogram2dcontour"
           }
          ],
          "mesh3d": [
           {
            "colorbar": {
             "outlinewidth": 0,
             "ticks": ""
            },
            "type": "mesh3d"
           }
          ],
          "parcoords": [
           {
            "line": {
             "colorbar": {
              "outlinewidth": 0,
              "ticks": ""
             }
            },
            "type": "parcoords"
           }
          ],
          "pie": [
           {
            "automargin": true,
            "type": "pie"
           }
          ],
          "scatter": [
           {
            "marker": {
             "line": {
              "color": "#283442"
             }
            },
            "type": "scatter"
           }
          ],
          "scatter3d": [
           {
            "line": {
             "colorbar": {
              "outlinewidth": 0,
              "ticks": ""
             }
            },
            "marker": {
             "colorbar": {
              "outlinewidth": 0,
              "ticks": ""
             }
            },
            "type": "scatter3d"
           }
          ],
          "scattercarpet": [
           {
            "marker": {
             "colorbar": {
              "outlinewidth": 0,
              "ticks": ""
             }
            },
            "type": "scattercarpet"
           }
          ],
          "scattergeo": [
           {
            "marker": {
             "colorbar": {
              "outlinewidth": 0,
              "ticks": ""
             }
            },
            "type": "scattergeo"
           }
          ],
          "scattergl": [
           {
            "marker": {
             "line": {
              "color": "#283442"
             }
            },
            "type": "scattergl"
           }
          ],
          "scattermap": [
           {
            "marker": {
             "colorbar": {
              "outlinewidth": 0,
              "ticks": ""
             }
            },
            "type": "scattermap"
           }
          ],
          "scattermapbox": [
           {
            "marker": {
             "colorbar": {
              "outlinewidth": 0,
              "ticks": ""
             }
            },
            "type": "scattermapbox"
           }
          ],
          "scatterpolar": [
           {
            "marker": {
             "colorbar": {
              "outlinewidth": 0,
              "ticks": ""
             }
            },
            "type": "scatterpolar"
           }
          ],
          "scatterpolargl": [
           {
            "marker": {
             "colorbar": {
              "outlinewidth": 0,
              "ticks": ""
             }
            },
            "type": "scatterpolargl"
           }
          ],
          "scatterternary": [
           {
            "marker": {
             "colorbar": {
              "outlinewidth": 0,
              "ticks": ""
             }
            },
            "type": "scatterternary"
           }
          ],
          "surface": [
           {
            "colorbar": {
             "outlinewidth": 0,
             "ticks": ""
            },
            "colorscale": [
             [
              0,
              "#0d0887"
             ],
             [
              0.1111111111111111,
              "#46039f"
             ],
             [
              0.2222222222222222,
              "#7201a8"
             ],
             [
              0.3333333333333333,
              "#9c179e"
             ],
             [
              0.4444444444444444,
              "#bd3786"
             ],
             [
              0.5555555555555556,
              "#d8576b"
             ],
             [
              0.6666666666666666,
              "#ed7953"
             ],
             [
              0.7777777777777778,
              "#fb9f3a"
             ],
             [
              0.8888888888888888,
              "#fdca26"
             ],
             [
              1,
              "#f0f921"
             ]
            ],
            "type": "surface"
           }
          ],
          "table": [
           {
            "cells": {
             "fill": {
              "color": "#506784"
             },
             "line": {
              "color": "rgb(17,17,17)"
             }
            },
            "header": {
             "fill": {
              "color": "#2a3f5f"
             },
             "line": {
              "color": "rgb(17,17,17)"
             }
            },
            "type": "table"
           }
          ]
         },
         "layout": {
          "annotationdefaults": {
           "arrowcolor": "#f2f5fa",
           "arrowhead": 0,
           "arrowwidth": 1
          },
          "autotypenumbers": "strict",
          "coloraxis": {
           "colorbar": {
            "outlinewidth": 0,
            "ticks": ""
           }
          },
          "colorscale": {
           "diverging": [
            [
             0,
             "#8e0152"
            ],
            [
             0.1,
             "#c51b7d"
            ],
            [
             0.2,
             "#de77ae"
            ],
            [
             0.3,
             "#f1b6da"
            ],
            [
             0.4,
             "#fde0ef"
            ],
            [
             0.5,
             "#f7f7f7"
            ],
            [
             0.6,
             "#e6f5d0"
            ],
            [
             0.7,
             "#b8e186"
            ],
            [
             0.8,
             "#7fbc41"
            ],
            [
             0.9,
             "#4d9221"
            ],
            [
             1,
             "#276419"
            ]
           ],
           "sequential": [
            [
             0,
             "#0d0887"
            ],
            [
             0.1111111111111111,
             "#46039f"
            ],
            [
             0.2222222222222222,
             "#7201a8"
            ],
            [
             0.3333333333333333,
             "#9c179e"
            ],
            [
             0.4444444444444444,
             "#bd3786"
            ],
            [
             0.5555555555555556,
             "#d8576b"
            ],
            [
             0.6666666666666666,
             "#ed7953"
            ],
            [
             0.7777777777777778,
             "#fb9f3a"
            ],
            [
             0.8888888888888888,
             "#fdca26"
            ],
            [
             1,
             "#f0f921"
            ]
           ],
           "sequentialminus": [
            [
             0,
             "#0d0887"
            ],
            [
             0.1111111111111111,
             "#46039f"
            ],
            [
             0.2222222222222222,
             "#7201a8"
            ],
            [
             0.3333333333333333,
             "#9c179e"
            ],
            [
             0.4444444444444444,
             "#bd3786"
            ],
            [
             0.5555555555555556,
             "#d8576b"
            ],
            [
             0.6666666666666666,
             "#ed7953"
            ],
            [
             0.7777777777777778,
             "#fb9f3a"
            ],
            [
             0.8888888888888888,
             "#fdca26"
            ],
            [
             1,
             "#f0f921"
            ]
           ]
          },
          "colorway": [
           "#636efa",
           "#EF553B",
           "#00cc96",
           "#ab63fa",
           "#FFA15A",
           "#19d3f3",
           "#FF6692",
           "#B6E880",
           "#FF97FF",
           "#FECB52"
          ],
          "font": {
           "color": "#f2f5fa"
          },
          "geo": {
           "bgcolor": "rgb(17,17,17)",
           "lakecolor": "rgb(17,17,17)",
           "landcolor": "rgb(17,17,17)",
           "showlakes": true,
           "showland": true,
           "subunitcolor": "#506784"
          },
          "hoverlabel": {
           "align": "left"
          },
          "hovermode": "closest",
          "mapbox": {
           "style": "dark"
          },
          "paper_bgcolor": "rgb(17,17,17)",
          "plot_bgcolor": "rgb(17,17,17)",
          "polar": {
           "angularaxis": {
            "gridcolor": "#506784",
            "linecolor": "#506784",
            "ticks": ""
           },
           "bgcolor": "rgb(17,17,17)",
           "radialaxis": {
            "gridcolor": "#506784",
            "linecolor": "#506784",
            "ticks": ""
           }
          },
          "scene": {
           "xaxis": {
            "backgroundcolor": "rgb(17,17,17)",
            "gridcolor": "#506784",
            "gridwidth": 2,
            "linecolor": "#506784",
            "showbackground": true,
            "ticks": "",
            "zerolinecolor": "#C8D4E3"
           },
           "yaxis": {
            "backgroundcolor": "rgb(17,17,17)",
            "gridcolor": "#506784",
            "gridwidth": 2,
            "linecolor": "#506784",
            "showbackground": true,
            "ticks": "",
            "zerolinecolor": "#C8D4E3"
           },
           "zaxis": {
            "backgroundcolor": "rgb(17,17,17)",
            "gridcolor": "#506784",
            "gridwidth": 2,
            "linecolor": "#506784",
            "showbackground": true,
            "ticks": "",
            "zerolinecolor": "#C8D4E3"
           }
          },
          "shapedefaults": {
           "line": {
            "color": "#f2f5fa"
           }
          },
          "sliderdefaults": {
           "bgcolor": "#C8D4E3",
           "bordercolor": "rgb(17,17,17)",
           "borderwidth": 1,
           "tickwidth": 0
          },
          "ternary": {
           "aaxis": {
            "gridcolor": "#506784",
            "linecolor": "#506784",
            "ticks": ""
           },
           "baxis": {
            "gridcolor": "#506784",
            "linecolor": "#506784",
            "ticks": ""
           },
           "bgcolor": "rgb(17,17,17)",
           "caxis": {
            "gridcolor": "#506784",
            "linecolor": "#506784",
            "ticks": ""
           }
          },
          "title": {
           "x": 0.05
          },
          "updatemenudefaults": {
           "bgcolor": "#506784",
           "borderwidth": 0
          },
          "xaxis": {
           "automargin": true,
           "gridcolor": "#283442",
           "linecolor": "#506784",
           "ticks": "",
           "title": {
            "standoff": 15
           },
           "zerolinecolor": "#283442",
           "zerolinewidth": 2
          },
          "yaxis": {
           "automargin": true,
           "gridcolor": "#283442",
           "linecolor": "#506784",
           "ticks": "",
           "title": {
            "standoff": 15
           },
           "zerolinecolor": "#283442",
           "zerolinewidth": 2
          }
         }
        },
        "xaxis": {
         "anchor": "y",
         "domain": [
          0,
          1
         ],
         "title": {
          "text": "value"
         }
        },
        "yaxis": {
         "anchor": "x",
         "domain": [
          0,
          1
         ],
         "title": {
          "text": "count"
         }
        }
       }
      }
     },
     "metadata": {},
     "output_type": "display_data"
    }
   ],
   "source": [
    "net_flow.hist()"
   ]
  },
  {
   "cell_type": "code",
   "execution_count": 131,
   "id": "917e9873",
   "metadata": {},
   "outputs": [],
   "source": [
    "dates = [\n",
    "    \"2024-09-04\",\n",
    "    \"2024-09-05\",\n",
    "    \"2024-09-06\",\n",
    "    \"2024-09-09\",\n",
    "    \"2024-09-10\",\n",
    "    \"2024-09-11\",\n",
    "    \"2024-09-12\",\n",
    "    \"2024-09-13\",\n",
    "    \"2024-09-16\",\n",
    "    \"2024-09-17\",\n",
    "    \"2024-09-18\",\n",
    "    \"2024-09-19\",\n",
    "    \"2024-09-20\",\n",
    "    \"2024-09-23\",\n",
    "    \"2024-09-24\",\n",
    "    \"2024-09-25\",\n",
    "    \"2024-09-26\",\n",
    "    \"2024-09-27\",\n",
    "    \"2024-09-30\",\n",
    "    \"2025-07-28\"\n",
    "]"
   ]
  },
  {
   "cell_type": "markdown",
   "id": "875b6978",
   "metadata": {},
   "source": [
    "### Primary Flow Summary"
   ]
  },
  {
   "cell_type": "code",
   "execution_count": 132,
   "id": "bc830bfe",
   "metadata": {},
   "outputs": [],
   "source": [
    "import numpy as np\n",
    "import pandas as pd\n",
    "import dask.dataframe as dd\n",
    "\n",
    "def compute_numlot_summary(similarities=[10, 15, 20, 25, 30, 35, 40], hpd_threshold=0.75):\n",
    "    records = []\n",
    "\n",
    "    for sim_thresh in similarities:\n",
    "        lot_df = (\n",
    "            dd.read_csv(f'../data/lot_data/based_on_real_transaction/{sim_thresh}/*.csv')\n",
    "            .drop_duplicates(subset=['ts', 'stock', 'side', 'num_lot'])\n",
    "            .reset_index(drop=True)\n",
    "            .compute()\n",
    "        )\n",
    "\n",
    "        q = lot_df['num_lot'].quantile([0.001, 0.999])\n",
    "        q001, q999 = float(q.loc[0.001]), float(q.loc[0.999])\n",
    "        print(f'Confidence Interval [0.1%, 99.9%] for {sim_thresh}% similarity: ({q001:.6g}, {q999:.6g})')\n",
    "\n",
    "        num_lot = lot_df.loc[lot_df['num_lot'].between(q001, q999), 'num_lot']\n",
    "        min_lot, max_lot = float(num_lot.min()), float(num_lot.max())\n",
    "        bins = np.logspace(np.log10(min_lot), np.log10(max_lot), 10)\n",
    "        num_lot_log_bin = pd.cut(num_lot, bins)\n",
    "        vc = num_lot_log_bin.value_counts().sort_index()\n",
    "\n",
    "        print('Numlot Log-binned num_lot')\n",
    "        print(vc.to_string())\n",
    "\n",
    "        total = vc.sum()\n",
    "        best_range = (None, None)\n",
    "        best_count = 0\n",
    "        min_width = np.inf\n",
    "\n",
    "        for i in range(len(vc)):\n",
    "            for j in range(i, len(vc)):\n",
    "                subset_count = vc.iloc[i:j+1].sum()\n",
    "                portion = subset_count / total\n",
    "                if portion >= hpd_threshold:\n",
    "                    width = bins[j+1] - bins[i]\n",
    "                    if width < min_width:\n",
    "                        min_width = width\n",
    "                        best_range = (bins[i], bins[j+1])\n",
    "                        best_count = subset_count\n",
    "                    break\n",
    "\n",
    "        if best_range[0] is not None:\n",
    "            lower, upper = best_range\n",
    "            print(\n",
    "                f'Range of bins containing >={hpd_threshold*100:.0f}% of data: '\n",
    "                f'({lower:.6g}, {upper:.6g}) '\n",
    "                f'with {best_count:,} observations '\n",
    "                f'(~{best_count/total*100:.2f}% of total)'\n",
    "            )\n",
    "            records.append({\n",
    "                \"similarity\": sim_thresh,\n",
    "                \"lower_bound\": lower,\n",
    "                \"upper_bound\": upper,\n",
    "                \"obs_in_range\": int(best_count),\n",
    "                \"total_obs\": int(total)\n",
    "            })\n",
    "        else:\n",
    "            print(f'No {hpd_threshold*100:.0f}% cumulative range found.')\n",
    "            records.append({\n",
    "                \"similarity\": sim_thresh,\n",
    "                \"lower_bound\": np.nan,\n",
    "                \"upper_bound\": np.nan,\n",
    "                \"obs_in_range\": 0,\n",
    "                \"total_obs\": int(total)\n",
    "            })\n",
    "\n",
    "        print(f'Total observations in distribution: {total:,}\\n')\n",
    "\n",
    "    summary_df = pd.DataFrame(records)\n",
    "    return summary_df\n"
   ]
  },
  {
   "cell_type": "code",
   "execution_count": 133,
   "id": "330ddfeb",
   "metadata": {},
   "outputs": [
    {
     "name": "stdout",
     "output_type": "stream",
     "text": [
      "Confidence Interval [0.1%, 99.9%] for 10% similarity: (0.038713, 3.48627)\n",
      "Numlot Log-binned num_lot\n",
      "num_lot\n",
      "(0.042, 0.0686]     222\n",
      "(0.0686, 0.112]     635\n",
      "(0.112, 0.183]      548\n",
      "(0.183, 0.299]     1118\n",
      "(0.299, 0.489]     1036\n",
      "(0.489, 0.799]      660\n",
      "(0.799, 1.305]      287\n",
      "(1.305, 2.133]      105\n",
      "(2.133, 3.484]       33\n",
      "Range of bins containing >=80% of data: (0.0686209, 0.798902) with 3,997 observations (~86.07% of total)\n",
      "Total observations in distribution: 4,644\n",
      "\n",
      "Confidence Interval [0.1%, 99.9%] for 15% similarity: (0.0305, 3.88918)\n",
      "Numlot Log-binned num_lot\n",
      "num_lot\n",
      "(0.0305, 0.0521]      21\n",
      "(0.0521, 0.0889]    1553\n",
      "(0.0889, 0.152]     2175\n",
      "(0.152, 0.259]       930\n",
      "(0.259, 0.443]       974\n",
      "(0.443, 0.756]       827\n",
      "(0.756, 1.291]       362\n",
      "(1.291, 2.204]       119\n",
      "(2.204, 3.763]        35\n",
      "Range of bins containing >=80% of data: (0.0520787, 0.442693) with 5,632 observations (~80.50% of total)\n",
      "Total observations in distribution: 6,996\n",
      "\n",
      "Confidence Interval [0.1%, 99.9%] for 20% similarity: (0.0417, 2.0588)\n",
      "Numlot Log-binned num_lot\n",
      "num_lot\n",
      "(0.0417, 0.0643]     825\n",
      "(0.0643, 0.0992]    2671\n",
      "(0.0992, 0.153]     3016\n",
      "(0.153, 0.236]      1462\n",
      "(0.236, 0.364]      1270\n",
      "(0.364, 0.561]       906\n",
      "(0.561, 0.866]       856\n",
      "(0.866, 1.335]       243\n",
      "(1.335, 2.059]        78\n",
      "Range of bins containing >=80% of data: (0.0417, 0.363879) with 9,244 observations (~81.61% of total)\n",
      "Total observations in distribution: 11,327\n",
      "\n",
      "Confidence Interval [0.1%, 99.9%] for 25% similarity: (0.0294, 2.5)\n",
      "Numlot Log-binned num_lot\n",
      "num_lot\n",
      "(0.0294, 0.0482]    1082\n",
      "(0.0482, 0.0789]    3307\n",
      "(0.0789, 0.129]     4452\n",
      "(0.129, 0.212]      4586\n",
      "(0.212, 0.347]      3445\n",
      "(0.347, 0.569]      2115\n",
      "(0.569, 0.931]      1736\n",
      "(0.931, 1.526]       575\n",
      "(1.526, 2.5]         118\n",
      "Range of bins containing >=80% of data: (0.0481667, 0.568516) with 17,905 observations (~83.61% of total)\n",
      "Total observations in distribution: 21,416\n",
      "\n",
      "Confidence Interval [0.1%, 99.9%] for 30% similarity: (0.0282, 2.9126)\n",
      "Numlot Log-binned num_lot\n",
      "num_lot\n",
      "(0.0282, 0.0472]    2634\n",
      "(0.0472, 0.079]     4473\n",
      "(0.079, 0.132]      6846\n",
      "(0.132, 0.222]      6993\n",
      "(0.222, 0.371]      5763\n",
      "(0.371, 0.621]      3679\n",
      "(0.621, 1.039]      2475\n",
      "(1.039, 1.74]        848\n",
      "(1.74, 2.913]        206\n",
      "Range of bins containing >=80% of data: (0.0472096, 0.620779) with 27,754 observations (~81.83% of total)\n",
      "Total observations in distribution: 33,917\n",
      "\n",
      "Confidence Interval [0.1%, 99.9%] for 35% similarity: (0.027, 3.5714)\n",
      "Numlot Log-binned num_lot\n",
      "num_lot\n",
      "(0.027, 0.0465]      3910\n",
      "(0.0465, 0.0799]     6607\n",
      "(0.0799, 0.138]     11230\n",
      "(0.138, 0.237]      10186\n",
      "(0.237, 0.407]       8458\n",
      "(0.407, 0.701]       5784\n",
      "(0.701, 1.206]       3108\n",
      "(1.206, 2.075]       1063\n",
      "(2.075, 3.571]        240\n",
      "Range of bins containing >=80% of data: (0.0464604, 0.700939) with 42,265 observations (~83.55% of total)\n",
      "Total observations in distribution: 50,586\n",
      "\n",
      "Confidence Interval [0.1%, 99.9%] for 40% similarity: (0.027, 4.35579)\n",
      "Numlot Log-binned num_lot\n",
      "num_lot\n",
      "(0.027, 0.0475]      4705\n",
      "(0.0475, 0.0835]     9512\n",
      "(0.0835, 0.147]     15253\n",
      "(0.147, 0.258]      14244\n",
      "(0.258, 0.454]      11364\n",
      "(0.454, 0.799]       7830\n",
      "(0.799, 1.406]       3988\n",
      "(1.406, 2.472]       1187\n",
      "(2.472, 4.348]        266\n",
      "Range of bins containing >=80% of data: (0.027, 0.454383) with 55,078 observations (~80.58% of total)\n",
      "Total observations in distribution: 68,349\n",
      "\n"
     ]
    }
   ],
   "source": [
    "summary_df = compute_numlot_summary(hpd_threshold=0.8)"
   ]
  },
  {
   "cell_type": "code",
   "execution_count": 134,
   "id": "c105461e",
   "metadata": {},
   "outputs": [
    {
     "data": {
      "application/vnd.microsoft.datawrangler.viewer.v0+json": {
       "columns": [
        {
         "name": "index",
         "rawType": "int64",
         "type": "integer"
        },
        {
         "name": "similarity",
         "rawType": "int64",
         "type": "integer"
        },
        {
         "name": "lower_bound",
         "rawType": "float64",
         "type": "float"
        },
        {
         "name": "upper_bound",
         "rawType": "float64",
         "type": "float"
        },
        {
         "name": "obs_in_range",
         "rawType": "int64",
         "type": "integer"
        },
        {
         "name": "total_obs",
         "rawType": "int64",
         "type": "integer"
        }
       ],
       "ref": "2ad8aa5f-66a6-4fd0-bef5-3d98fb434f22",
       "rows": [
        [
         "0",
         "10",
         "0.06862093820636044",
         "0.7989019062293033",
         "3997",
         "4644"
        ],
        [
         "1",
         "15",
         "0.05207874345545655",
         "0.4426934825556262",
         "5632",
         "6996"
        ],
        [
         "2",
         "20",
         "0.04170000000000001",
         "0.36387919410887276",
         "9244",
         "11327"
        ],
        [
         "3",
         "25",
         "0.048166658294519285",
         "0.5685156825702969",
         "17905",
         "21416"
        ],
        [
         "4",
         "30",
         "0.04720960996611037",
         "0.6207788797984155",
         "27754",
         "33917"
        ],
        [
         "5",
         "35",
         "0.046460425042375963",
         "0.700939042388216",
         "42265",
         "50586"
        ],
        [
         "6",
         "40",
         "0.027000000000000003",
         "0.45438348550926844",
         "55078",
         "68349"
        ]
       ],
       "shape": {
        "columns": 5,
        "rows": 7
       }
      },
      "text/html": [
       "<div>\n",
       "<style scoped>\n",
       "    .dataframe tbody tr th:only-of-type {\n",
       "        vertical-align: middle;\n",
       "    }\n",
       "\n",
       "    .dataframe tbody tr th {\n",
       "        vertical-align: top;\n",
       "    }\n",
       "\n",
       "    .dataframe thead th {\n",
       "        text-align: right;\n",
       "    }\n",
       "</style>\n",
       "<table border=\"1\" class=\"dataframe\">\n",
       "  <thead>\n",
       "    <tr style=\"text-align: right;\">\n",
       "      <th></th>\n",
       "      <th>similarity</th>\n",
       "      <th>lower_bound</th>\n",
       "      <th>upper_bound</th>\n",
       "      <th>obs_in_range</th>\n",
       "      <th>total_obs</th>\n",
       "    </tr>\n",
       "  </thead>\n",
       "  <tbody>\n",
       "    <tr>\n",
       "      <th>0</th>\n",
       "      <td>10</td>\n",
       "      <td>0.069</td>\n",
       "      <td>0.799</td>\n",
       "      <td>3997</td>\n",
       "      <td>4644</td>\n",
       "    </tr>\n",
       "    <tr>\n",
       "      <th>1</th>\n",
       "      <td>15</td>\n",
       "      <td>0.052</td>\n",
       "      <td>0.443</td>\n",
       "      <td>5632</td>\n",
       "      <td>6996</td>\n",
       "    </tr>\n",
       "    <tr>\n",
       "      <th>2</th>\n",
       "      <td>20</td>\n",
       "      <td>0.042</td>\n",
       "      <td>0.364</td>\n",
       "      <td>9244</td>\n",
       "      <td>11327</td>\n",
       "    </tr>\n",
       "    <tr>\n",
       "      <th>3</th>\n",
       "      <td>25</td>\n",
       "      <td>0.048</td>\n",
       "      <td>0.569</td>\n",
       "      <td>17905</td>\n",
       "      <td>21416</td>\n",
       "    </tr>\n",
       "    <tr>\n",
       "      <th>4</th>\n",
       "      <td>30</td>\n",
       "      <td>0.047</td>\n",
       "      <td>0.621</td>\n",
       "      <td>27754</td>\n",
       "      <td>33917</td>\n",
       "    </tr>\n",
       "    <tr>\n",
       "      <th>5</th>\n",
       "      <td>35</td>\n",
       "      <td>0.046</td>\n",
       "      <td>0.701</td>\n",
       "      <td>42265</td>\n",
       "      <td>50586</td>\n",
       "    </tr>\n",
       "    <tr>\n",
       "      <th>6</th>\n",
       "      <td>40</td>\n",
       "      <td>0.027</td>\n",
       "      <td>0.454</td>\n",
       "      <td>55078</td>\n",
       "      <td>68349</td>\n",
       "    </tr>\n",
       "  </tbody>\n",
       "</table>\n",
       "</div>"
      ],
      "text/plain": [
       "   similarity  lower_bound  upper_bound  obs_in_range  total_obs\n",
       "0          10        0.069        0.799          3997       4644\n",
       "1          15        0.052        0.443          5632       6996\n",
       "2          20        0.042        0.364          9244      11327\n",
       "3          25        0.048        0.569         17905      21416\n",
       "4          30        0.047        0.621         27754      33917\n",
       "5          35        0.046        0.701         42265      50586\n",
       "6          40        0.027        0.454         55078      68349"
      ]
     },
     "execution_count": 134,
     "metadata": {},
     "output_type": "execute_result"
    }
   ],
   "source": [
    "summary_df"
   ]
  },
  {
   "cell_type": "code",
   "execution_count": 135,
   "id": "288e0942",
   "metadata": {},
   "outputs": [
    {
     "data": {
      "application/vnd.microsoft.datawrangler.viewer.v0+json": {
       "columns": [
        {
         "name": "index",
         "rawType": "object",
         "type": "string"
        },
        {
         "name": "0",
         "rawType": "float64",
         "type": "float"
        }
       ],
       "ref": "8f394575-b435-4983-b0f3-50a4dd2e64ed",
       "rows": [
        [
         "lower_bound",
         "0.027000000000000003"
        ],
        [
         "upper_bound",
         "0.7989019062293033"
        ]
       ],
       "shape": {
        "columns": 1,
        "rows": 2
       }
      },
      "text/plain": [
       "lower_bound   0.027\n",
       "upper_bound   0.799\n",
       "dtype: float64"
      ]
     },
     "execution_count": 135,
     "metadata": {},
     "output_type": "execute_result"
    }
   ],
   "source": [
    "summary_df[['lower_bound', 'upper_bound']].agg({\n",
    "    \"lower_bound\": \"min\",\n",
    "    \"upper_bound\": \"max\",\n",
    "}\n",
    ")"
   ]
  },
  {
   "cell_type": "code",
   "execution_count": 138,
   "id": "e9c1f35c",
   "metadata": {},
   "outputs": [],
   "source": [
    "import numpy as np\n",
    "import pandas as pd\n",
    "import dask.dataframe as dd\n",
    "import plotly.express as px\n",
    "\n",
    "def compute_numlot_summary_and_plot(similarities=[10, 15, 20, 25, 30, 35, 40], hpd_threshold=0.75):\n",
    "    records = []\n",
    "    plot_records = []\n",
    "\n",
    "    for sim_thresh in similarities:\n",
    "        lot_df = (\n",
    "            dd.read_csv(f'../data/lot_data/based_on_real_transaction/{sim_thresh}/*.csv')\n",
    "            .drop_duplicates(subset=['ts', 'stock', 'side', 'num_lot'])\n",
    "            .reset_index(drop=True)\n",
    "            .compute()\n",
    "        )\n",
    "\n",
    "        q = lot_df['num_lot'].quantile([0.001, 0.999])\n",
    "        q001, q999 = float(q.loc[0.001]), float(q.loc[0.999])\n",
    "        num_lot = lot_df.loc[lot_df['num_lot'].between(q001, q999), 'num_lot']\n",
    "\n",
    "        min_lot, max_lot = float(num_lot.min()), float(num_lot.max())\n",
    "        bins = np.logspace(np.log10(min_lot), np.log10(max_lot), 10)\n",
    "        num_lot_log_bin = pd.cut(num_lot, bins)\n",
    "        vc = num_lot_log_bin.value_counts().sort_index()\n",
    "\n",
    "        # Lưu dữ liệu cho biểu đồ\n",
    "        for interval, count in vc.items():\n",
    "            plot_records.append({\n",
    "                'similarity': sim_thresh,\n",
    "                'bin_left': interval.left,\n",
    "                'bin_right': interval.right,\n",
    "                'count': count,\n",
    "                'bin_label': f\"({interval.left:.3g}, {interval.right:.3g}]\"\n",
    "            })\n",
    "\n",
    "        # Phần summary (HPD range)\n",
    "        total = vc.sum()\n",
    "        best_range = (None, None)\n",
    "        best_count = 0\n",
    "        min_width = np.inf\n",
    "\n",
    "        for i in range(len(vc)):\n",
    "            for j in range(i, len(vc)):\n",
    "                subset_count = vc.iloc[i:j+1].sum()\n",
    "                portion = subset_count / total\n",
    "                if portion >= hpd_threshold:\n",
    "                    width = bins[j+1] - bins[i]\n",
    "                    if width < min_width:\n",
    "                        min_width = width\n",
    "                        best_range = (bins[i], bins[j+1])\n",
    "                        best_count = subset_count\n",
    "                    break\n",
    "\n",
    "        if best_range[0] is not None:\n",
    "            lower, upper = best_range\n",
    "            records.append({\n",
    "                \"similarity\": sim_thresh,\n",
    "                \"lower_bound\": lower,\n",
    "                \"upper_bound\": upper,\n",
    "                \"obs_in_range\": int(best_count),\n",
    "                \"total_obs\": int(total)\n",
    "            })\n",
    "\n",
    "    summary_df = pd.DataFrame(records)\n",
    "    plot_df = pd.DataFrame(plot_records)\n",
    "\n",
    "    # Vẽ plotly: biểu đồ cột cho từng similarity\n",
    "    fig = px.bar(\n",
    "        plot_df,\n",
    "        x=\"bin_label\",\n",
    "        y=\"count\",\n",
    "        color=\"similarity\",\n",
    "        barmode=\"group\",\n",
    "        title=\"Distribution of num_lot (log-binned) by Similarity\",\n",
    "        labels={\"bin_label\": \"num_lot bin (log scale)\", \"count\": \"Count\"}\n",
    "    )\n",
    "    fig.update_xaxes(tickangle=45)\n",
    "    fig.show()\n",
    "\n",
    "    return summary_df, plot_df\n"
   ]
  },
  {
   "cell_type": "code",
   "execution_count": 141,
   "id": "de9328f0",
   "metadata": {},
   "outputs": [
    {
     "data": {
      "application/vnd.plotly.v1+json": {
       "config": {
        "plotlyServerURL": "https://plot.ly"
       },
       "data": [
        {
         "alignmentgroup": "True",
         "hovertemplate": "num_lot bin (log scale)=%{x}<br>Count=%{y}<br>similarity=%{marker.color}<extra></extra>",
         "legendgroup": "",
         "marker": {
          "color": {
           "bdata": "CgoKCgoKCgoKDw8PDw8PDw8PFBQUFBQUFBQUGRkZGRkZGRkZHh4eHh4eHh4eIyMjIyMjIyMjKCgoKCgoKCgo",
           "dtype": "i1"
          },
          "coloraxis": "coloraxis",
          "pattern": {
           "shape": ""
          }
         },
         "name": "",
         "offsetgroup": "",
         "orientation": "v",
         "showlegend": false,
         "textposition": "auto",
         "type": "bar",
         "x": [
          "(0.042, 0.0686]",
          "(0.0686, 0.112]",
          "(0.112, 0.183]",
          "(0.183, 0.299]",
          "(0.299, 0.489]",
          "(0.489, 0.799]",
          "(0.799, 1.3]",
          "(1.3, 2.13]",
          "(2.13, 3.48]",
          "(0.0305, 0.0521]",
          "(0.0521, 0.0889]",
          "(0.0889, 0.152]",
          "(0.152, 0.259]",
          "(0.259, 0.443]",
          "(0.443, 0.756]",
          "(0.756, 1.29]",
          "(1.29, 2.2]",
          "(2.2, 3.76]",
          "(0.0417, 0.0643]",
          "(0.0643, 0.0992]",
          "(0.0992, 0.153]",
          "(0.153, 0.236]",
          "(0.236, 0.364]",
          "(0.364, 0.561]",
          "(0.561, 0.866]",
          "(0.866, 1.33]",
          "(1.33, 2.06]",
          "(0.0294, 0.0482]",
          "(0.0482, 0.0789]",
          "(0.0789, 0.129]",
          "(0.129, 0.212]",
          "(0.212, 0.347]",
          "(0.347, 0.569]",
          "(0.569, 0.931]",
          "(0.931, 1.53]",
          "(1.53, 2.5]",
          "(0.0282, 0.0472]",
          "(0.0472, 0.079]",
          "(0.079, 0.132]",
          "(0.132, 0.222]",
          "(0.222, 0.371]",
          "(0.371, 0.621]",
          "(0.621, 1.04]",
          "(1.04, 1.74]",
          "(1.74, 2.91]",
          "(0.027, 0.0465]",
          "(0.0465, 0.0799]",
          "(0.0799, 0.138]",
          "(0.138, 0.237]",
          "(0.237, 0.407]",
          "(0.407, 0.701]",
          "(0.701, 1.21]",
          "(1.21, 2.08]",
          "(2.08, 3.57]",
          "(0.027, 0.0475]",
          "(0.0475, 0.0835]",
          "(0.0835, 0.147]",
          "(0.147, 0.258]",
          "(0.258, 0.454]",
          "(0.454, 0.799]",
          "(0.799, 1.41]",
          "(1.41, 2.47]",
          "(2.47, 4.35]"
         ],
         "xaxis": "x",
         "y": {
          "bdata": "3gB7AiQCXgQMBJQCHwFpACEAFQARBn8IogPOAzsDagF3ACMAOQNvCsgLtgX2BIoDWAPzAE4AOgTrDGQR6hF1DUMIyAY/AnYASgp5Eb4aURuDFl8OqwlQA84ARg/PGd4ryicKIZgWJAwnBPAAYRIoJZU7pDdkLJYelA+jBAoB",
          "dtype": "i2"
         },
         "yaxis": "y"
        }
       ],
       "layout": {
        "barmode": "group",
        "coloraxis": {
         "colorbar": {
          "title": {
           "text": "similarity"
          }
         },
         "colorscale": [
          [
           0,
           "#0d0887"
          ],
          [
           0.1111111111111111,
           "#46039f"
          ],
          [
           0.2222222222222222,
           "#7201a8"
          ],
          [
           0.3333333333333333,
           "#9c179e"
          ],
          [
           0.4444444444444444,
           "#bd3786"
          ],
          [
           0.5555555555555556,
           "#d8576b"
          ],
          [
           0.6666666666666666,
           "#ed7953"
          ],
          [
           0.7777777777777778,
           "#fb9f3a"
          ],
          [
           0.8888888888888888,
           "#fdca26"
          ],
          [
           1,
           "#f0f921"
          ]
         ]
        },
        "legend": {
         "tracegroupgap": 0
        },
        "template": {
         "data": {
          "bar": [
           {
            "error_x": {
             "color": "#f2f5fa"
            },
            "error_y": {
             "color": "#f2f5fa"
            },
            "marker": {
             "line": {
              "color": "rgb(17,17,17)",
              "width": 0.5
             },
             "pattern": {
              "fillmode": "overlay",
              "size": 10,
              "solidity": 0.2
             }
            },
            "type": "bar"
           }
          ],
          "barpolar": [
           {
            "marker": {
             "line": {
              "color": "rgb(17,17,17)",
              "width": 0.5
             },
             "pattern": {
              "fillmode": "overlay",
              "size": 10,
              "solidity": 0.2
             }
            },
            "type": "barpolar"
           }
          ],
          "carpet": [
           {
            "aaxis": {
             "endlinecolor": "#A2B1C6",
             "gridcolor": "#506784",
             "linecolor": "#506784",
             "minorgridcolor": "#506784",
             "startlinecolor": "#A2B1C6"
            },
            "baxis": {
             "endlinecolor": "#A2B1C6",
             "gridcolor": "#506784",
             "linecolor": "#506784",
             "minorgridcolor": "#506784",
             "startlinecolor": "#A2B1C6"
            },
            "type": "carpet"
           }
          ],
          "choropleth": [
           {
            "colorbar": {
             "outlinewidth": 0,
             "ticks": ""
            },
            "type": "choropleth"
           }
          ],
          "contour": [
           {
            "colorbar": {
             "outlinewidth": 0,
             "ticks": ""
            },
            "colorscale": [
             [
              0,
              "#0d0887"
             ],
             [
              0.1111111111111111,
              "#46039f"
             ],
             [
              0.2222222222222222,
              "#7201a8"
             ],
             [
              0.3333333333333333,
              "#9c179e"
             ],
             [
              0.4444444444444444,
              "#bd3786"
             ],
             [
              0.5555555555555556,
              "#d8576b"
             ],
             [
              0.6666666666666666,
              "#ed7953"
             ],
             [
              0.7777777777777778,
              "#fb9f3a"
             ],
             [
              0.8888888888888888,
              "#fdca26"
             ],
             [
              1,
              "#f0f921"
             ]
            ],
            "type": "contour"
           }
          ],
          "contourcarpet": [
           {
            "colorbar": {
             "outlinewidth": 0,
             "ticks": ""
            },
            "type": "contourcarpet"
           }
          ],
          "heatmap": [
           {
            "colorbar": {
             "outlinewidth": 0,
             "ticks": ""
            },
            "colorscale": [
             [
              0,
              "#0d0887"
             ],
             [
              0.1111111111111111,
              "#46039f"
             ],
             [
              0.2222222222222222,
              "#7201a8"
             ],
             [
              0.3333333333333333,
              "#9c179e"
             ],
             [
              0.4444444444444444,
              "#bd3786"
             ],
             [
              0.5555555555555556,
              "#d8576b"
             ],
             [
              0.6666666666666666,
              "#ed7953"
             ],
             [
              0.7777777777777778,
              "#fb9f3a"
             ],
             [
              0.8888888888888888,
              "#fdca26"
             ],
             [
              1,
              "#f0f921"
             ]
            ],
            "type": "heatmap"
           }
          ],
          "histogram": [
           {
            "marker": {
             "pattern": {
              "fillmode": "overlay",
              "size": 10,
              "solidity": 0.2
             }
            },
            "type": "histogram"
           }
          ],
          "histogram2d": [
           {
            "colorbar": {
             "outlinewidth": 0,
             "ticks": ""
            },
            "colorscale": [
             [
              0,
              "#0d0887"
             ],
             [
              0.1111111111111111,
              "#46039f"
             ],
             [
              0.2222222222222222,
              "#7201a8"
             ],
             [
              0.3333333333333333,
              "#9c179e"
             ],
             [
              0.4444444444444444,
              "#bd3786"
             ],
             [
              0.5555555555555556,
              "#d8576b"
             ],
             [
              0.6666666666666666,
              "#ed7953"
             ],
             [
              0.7777777777777778,
              "#fb9f3a"
             ],
             [
              0.8888888888888888,
              "#fdca26"
             ],
             [
              1,
              "#f0f921"
             ]
            ],
            "type": "histogram2d"
           }
          ],
          "histogram2dcontour": [
           {
            "colorbar": {
             "outlinewidth": 0,
             "ticks": ""
            },
            "colorscale": [
             [
              0,
              "#0d0887"
             ],
             [
              0.1111111111111111,
              "#46039f"
             ],
             [
              0.2222222222222222,
              "#7201a8"
             ],
             [
              0.3333333333333333,
              "#9c179e"
             ],
             [
              0.4444444444444444,
              "#bd3786"
             ],
             [
              0.5555555555555556,
              "#d8576b"
             ],
             [
              0.6666666666666666,
              "#ed7953"
             ],
             [
              0.7777777777777778,
              "#fb9f3a"
             ],
             [
              0.8888888888888888,
              "#fdca26"
             ],
             [
              1,
              "#f0f921"
             ]
            ],
            "type": "histogram2dcontour"
           }
          ],
          "mesh3d": [
           {
            "colorbar": {
             "outlinewidth": 0,
             "ticks": ""
            },
            "type": "mesh3d"
           }
          ],
          "parcoords": [
           {
            "line": {
             "colorbar": {
              "outlinewidth": 0,
              "ticks": ""
             }
            },
            "type": "parcoords"
           }
          ],
          "pie": [
           {
            "automargin": true,
            "type": "pie"
           }
          ],
          "scatter": [
           {
            "marker": {
             "line": {
              "color": "#283442"
             }
            },
            "type": "scatter"
           }
          ],
          "scatter3d": [
           {
            "line": {
             "colorbar": {
              "outlinewidth": 0,
              "ticks": ""
             }
            },
            "marker": {
             "colorbar": {
              "outlinewidth": 0,
              "ticks": ""
             }
            },
            "type": "scatter3d"
           }
          ],
          "scattercarpet": [
           {
            "marker": {
             "colorbar": {
              "outlinewidth": 0,
              "ticks": ""
             }
            },
            "type": "scattercarpet"
           }
          ],
          "scattergeo": [
           {
            "marker": {
             "colorbar": {
              "outlinewidth": 0,
              "ticks": ""
             }
            },
            "type": "scattergeo"
           }
          ],
          "scattergl": [
           {
            "marker": {
             "line": {
              "color": "#283442"
             }
            },
            "type": "scattergl"
           }
          ],
          "scattermap": [
           {
            "marker": {
             "colorbar": {
              "outlinewidth": 0,
              "ticks": ""
             }
            },
            "type": "scattermap"
           }
          ],
          "scattermapbox": [
           {
            "marker": {
             "colorbar": {
              "outlinewidth": 0,
              "ticks": ""
             }
            },
            "type": "scattermapbox"
           }
          ],
          "scatterpolar": [
           {
            "marker": {
             "colorbar": {
              "outlinewidth": 0,
              "ticks": ""
             }
            },
            "type": "scatterpolar"
           }
          ],
          "scatterpolargl": [
           {
            "marker": {
             "colorbar": {
              "outlinewidth": 0,
              "ticks": ""
             }
            },
            "type": "scatterpolargl"
           }
          ],
          "scatterternary": [
           {
            "marker": {
             "colorbar": {
              "outlinewidth": 0,
              "ticks": ""
             }
            },
            "type": "scatterternary"
           }
          ],
          "surface": [
           {
            "colorbar": {
             "outlinewidth": 0,
             "ticks": ""
            },
            "colorscale": [
             [
              0,
              "#0d0887"
             ],
             [
              0.1111111111111111,
              "#46039f"
             ],
             [
              0.2222222222222222,
              "#7201a8"
             ],
             [
              0.3333333333333333,
              "#9c179e"
             ],
             [
              0.4444444444444444,
              "#bd3786"
             ],
             [
              0.5555555555555556,
              "#d8576b"
             ],
             [
              0.6666666666666666,
              "#ed7953"
             ],
             [
              0.7777777777777778,
              "#fb9f3a"
             ],
             [
              0.8888888888888888,
              "#fdca26"
             ],
             [
              1,
              "#f0f921"
             ]
            ],
            "type": "surface"
           }
          ],
          "table": [
           {
            "cells": {
             "fill": {
              "color": "#506784"
             },
             "line": {
              "color": "rgb(17,17,17)"
             }
            },
            "header": {
             "fill": {
              "color": "#2a3f5f"
             },
             "line": {
              "color": "rgb(17,17,17)"
             }
            },
            "type": "table"
           }
          ]
         },
         "layout": {
          "annotationdefaults": {
           "arrowcolor": "#f2f5fa",
           "arrowhead": 0,
           "arrowwidth": 1
          },
          "autotypenumbers": "strict",
          "coloraxis": {
           "colorbar": {
            "outlinewidth": 0,
            "ticks": ""
           }
          },
          "colorscale": {
           "diverging": [
            [
             0,
             "#8e0152"
            ],
            [
             0.1,
             "#c51b7d"
            ],
            [
             0.2,
             "#de77ae"
            ],
            [
             0.3,
             "#f1b6da"
            ],
            [
             0.4,
             "#fde0ef"
            ],
            [
             0.5,
             "#f7f7f7"
            ],
            [
             0.6,
             "#e6f5d0"
            ],
            [
             0.7,
             "#b8e186"
            ],
            [
             0.8,
             "#7fbc41"
            ],
            [
             0.9,
             "#4d9221"
            ],
            [
             1,
             "#276419"
            ]
           ],
           "sequential": [
            [
             0,
             "#0d0887"
            ],
            [
             0.1111111111111111,
             "#46039f"
            ],
            [
             0.2222222222222222,
             "#7201a8"
            ],
            [
             0.3333333333333333,
             "#9c179e"
            ],
            [
             0.4444444444444444,
             "#bd3786"
            ],
            [
             0.5555555555555556,
             "#d8576b"
            ],
            [
             0.6666666666666666,
             "#ed7953"
            ],
            [
             0.7777777777777778,
             "#fb9f3a"
            ],
            [
             0.8888888888888888,
             "#fdca26"
            ],
            [
             1,
             "#f0f921"
            ]
           ],
           "sequentialminus": [
            [
             0,
             "#0d0887"
            ],
            [
             0.1111111111111111,
             "#46039f"
            ],
            [
             0.2222222222222222,
             "#7201a8"
            ],
            [
             0.3333333333333333,
             "#9c179e"
            ],
            [
             0.4444444444444444,
             "#bd3786"
            ],
            [
             0.5555555555555556,
             "#d8576b"
            ],
            [
             0.6666666666666666,
             "#ed7953"
            ],
            [
             0.7777777777777778,
             "#fb9f3a"
            ],
            [
             0.8888888888888888,
             "#fdca26"
            ],
            [
             1,
             "#f0f921"
            ]
           ]
          },
          "colorway": [
           "#636efa",
           "#EF553B",
           "#00cc96",
           "#ab63fa",
           "#FFA15A",
           "#19d3f3",
           "#FF6692",
           "#B6E880",
           "#FF97FF",
           "#FECB52"
          ],
          "font": {
           "color": "#f2f5fa"
          },
          "geo": {
           "bgcolor": "rgb(17,17,17)",
           "lakecolor": "rgb(17,17,17)",
           "landcolor": "rgb(17,17,17)",
           "showlakes": true,
           "showland": true,
           "subunitcolor": "#506784"
          },
          "hoverlabel": {
           "align": "left"
          },
          "hovermode": "closest",
          "mapbox": {
           "style": "dark"
          },
          "paper_bgcolor": "rgb(17,17,17)",
          "plot_bgcolor": "rgb(17,17,17)",
          "polar": {
           "angularaxis": {
            "gridcolor": "#506784",
            "linecolor": "#506784",
            "ticks": ""
           },
           "bgcolor": "rgb(17,17,17)",
           "radialaxis": {
            "gridcolor": "#506784",
            "linecolor": "#506784",
            "ticks": ""
           }
          },
          "scene": {
           "xaxis": {
            "backgroundcolor": "rgb(17,17,17)",
            "gridcolor": "#506784",
            "gridwidth": 2,
            "linecolor": "#506784",
            "showbackground": true,
            "ticks": "",
            "zerolinecolor": "#C8D4E3"
           },
           "yaxis": {
            "backgroundcolor": "rgb(17,17,17)",
            "gridcolor": "#506784",
            "gridwidth": 2,
            "linecolor": "#506784",
            "showbackground": true,
            "ticks": "",
            "zerolinecolor": "#C8D4E3"
           },
           "zaxis": {
            "backgroundcolor": "rgb(17,17,17)",
            "gridcolor": "#506784",
            "gridwidth": 2,
            "linecolor": "#506784",
            "showbackground": true,
            "ticks": "",
            "zerolinecolor": "#C8D4E3"
           }
          },
          "shapedefaults": {
           "line": {
            "color": "#f2f5fa"
           }
          },
          "sliderdefaults": {
           "bgcolor": "#C8D4E3",
           "bordercolor": "rgb(17,17,17)",
           "borderwidth": 1,
           "tickwidth": 0
          },
          "ternary": {
           "aaxis": {
            "gridcolor": "#506784",
            "linecolor": "#506784",
            "ticks": ""
           },
           "baxis": {
            "gridcolor": "#506784",
            "linecolor": "#506784",
            "ticks": ""
           },
           "bgcolor": "rgb(17,17,17)",
           "caxis": {
            "gridcolor": "#506784",
            "linecolor": "#506784",
            "ticks": ""
           }
          },
          "title": {
           "x": 0.05
          },
          "updatemenudefaults": {
           "bgcolor": "#506784",
           "borderwidth": 0
          },
          "xaxis": {
           "automargin": true,
           "gridcolor": "#283442",
           "linecolor": "#506784",
           "ticks": "",
           "title": {
            "standoff": 15
           },
           "zerolinecolor": "#283442",
           "zerolinewidth": 2
          },
          "yaxis": {
           "automargin": true,
           "gridcolor": "#283442",
           "linecolor": "#506784",
           "ticks": "",
           "title": {
            "standoff": 15
           },
           "zerolinecolor": "#283442",
           "zerolinewidth": 2
          }
         }
        },
        "title": {
         "text": "Distribution of num_lot (log-binned) by Similarity"
        },
        "xaxis": {
         "anchor": "y",
         "domain": [
          0,
          1
         ],
         "tickangle": 45,
         "title": {
          "text": "num_lot bin (log scale)"
         }
        },
        "yaxis": {
         "anchor": "x",
         "domain": [
          0,
          1
         ],
         "title": {
          "text": "Count"
         }
        }
       }
      }
     },
     "metadata": {},
     "output_type": "display_data"
    }
   ],
   "source": [
    "summary_df, plot_df = compute_numlot_summary_and_plot()"
   ]
  },
  {
   "cell_type": "markdown",
   "id": "e8cbbf8d",
   "metadata": {},
   "source": [
    "### Tuning Results Visualization"
   ]
  },
  {
   "cell_type": "code",
   "execution_count": 145,
   "id": "00c2735a",
   "metadata": {},
   "outputs": [
    {
     "data": {
      "application/vnd.microsoft.datawrangler.viewer.v0+json": {
       "columns": [
        {
         "name": "index",
         "rawType": "int64",
         "type": "integer"
        },
        {
         "name": "Date",
         "rawType": "object",
         "type": "string"
        },
        {
         "name": "predicted",
         "rawType": "float64",
         "type": "float"
        },
        {
         "name": "true",
         "rawType": "float64",
         "type": "float"
        }
       ],
       "ref": "d34c5c21-e2d8-493b-8e8b-018923ce47bf",
       "rows": [
        [
         "0",
         "2024-09-04",
         "-82518870000.0",
         "-34391885051.0"
        ],
        [
         "1",
         "2024-09-05",
         "-70422695000.0",
         "-104535149830.0"
        ],
        [
         "2",
         "2024-09-06",
         "-10121365000.0",
         "-17501589923.0"
        ],
        [
         "3",
         "2024-09-09",
         "-87224330000.0",
         "-85565450065.0"
        ],
        [
         "5",
         "2024-09-11",
         "-1491150000.0",
         "-40393990139.0"
        ],
        [
         "6",
         "2024-09-12",
         "45171620000.0",
         "-29149839929.0"
        ],
        [
         "7",
         "2024-09-13",
         "-8553230000.0",
         "-24180755064.0"
        ],
        [
         "8",
         "2024-09-16",
         "-6638535000.0",
         "-9390455041.0"
        ],
        [
         "9",
         "2024-09-18",
         "-30815925000.0",
         "-215812299827.0"
        ],
        [
         "11",
         "2024-09-20",
         "-637340000.0",
         "30945295200.0"
        ],
        [
         "12",
         "2024-09-23",
         "9970740000.0",
         "153022381934.0"
        ],
        [
         "14",
         "2024-09-25",
         "-48506130000.0",
         "-43560775052.0"
        ],
        [
         "17",
         "2024-09-30",
         "-6566210000.0",
         "-57269289947.0"
        ]
       ],
       "shape": {
        "columns": 3,
        "rows": 13
       }
      },
      "text/html": [
       "<div>\n",
       "<style scoped>\n",
       "    .dataframe tbody tr th:only-of-type {\n",
       "        vertical-align: middle;\n",
       "    }\n",
       "\n",
       "    .dataframe tbody tr th {\n",
       "        vertical-align: top;\n",
       "    }\n",
       "\n",
       "    .dataframe thead th {\n",
       "        text-align: right;\n",
       "    }\n",
       "</style>\n",
       "<table border=\"1\" class=\"dataframe\">\n",
       "  <thead>\n",
       "    <tr style=\"text-align: right;\">\n",
       "      <th></th>\n",
       "      <th>Date</th>\n",
       "      <th>predicted</th>\n",
       "      <th>true</th>\n",
       "    </tr>\n",
       "  </thead>\n",
       "  <tbody>\n",
       "    <tr>\n",
       "      <th>0</th>\n",
       "      <td>2024-09-04</td>\n",
       "      <td>-82518870000.000</td>\n",
       "      <td>-34391885051.000</td>\n",
       "    </tr>\n",
       "    <tr>\n",
       "      <th>1</th>\n",
       "      <td>2024-09-05</td>\n",
       "      <td>-70422695000.000</td>\n",
       "      <td>-104535149830.000</td>\n",
       "    </tr>\n",
       "    <tr>\n",
       "      <th>2</th>\n",
       "      <td>2024-09-06</td>\n",
       "      <td>-10121365000.000</td>\n",
       "      <td>-17501589923.000</td>\n",
       "    </tr>\n",
       "    <tr>\n",
       "      <th>3</th>\n",
       "      <td>2024-09-09</td>\n",
       "      <td>-87224330000.000</td>\n",
       "      <td>-85565450065.000</td>\n",
       "    </tr>\n",
       "    <tr>\n",
       "      <th>5</th>\n",
       "      <td>2024-09-11</td>\n",
       "      <td>-1491150000.000</td>\n",
       "      <td>-40393990139.000</td>\n",
       "    </tr>\n",
       "    <tr>\n",
       "      <th>6</th>\n",
       "      <td>2024-09-12</td>\n",
       "      <td>45171620000.000</td>\n",
       "      <td>-29149839929.000</td>\n",
       "    </tr>\n",
       "    <tr>\n",
       "      <th>7</th>\n",
       "      <td>2024-09-13</td>\n",
       "      <td>-8553230000.000</td>\n",
       "      <td>-24180755064.000</td>\n",
       "    </tr>\n",
       "    <tr>\n",
       "      <th>8</th>\n",
       "      <td>2024-09-16</td>\n",
       "      <td>-6638535000.000</td>\n",
       "      <td>-9390455041.000</td>\n",
       "    </tr>\n",
       "    <tr>\n",
       "      <th>9</th>\n",
       "      <td>2024-09-18</td>\n",
       "      <td>-30815925000.000</td>\n",
       "      <td>-215812299827.000</td>\n",
       "    </tr>\n",
       "    <tr>\n",
       "      <th>11</th>\n",
       "      <td>2024-09-20</td>\n",
       "      <td>-637340000.000</td>\n",
       "      <td>30945295200.000</td>\n",
       "    </tr>\n",
       "    <tr>\n",
       "      <th>12</th>\n",
       "      <td>2024-09-23</td>\n",
       "      <td>9970740000.000</td>\n",
       "      <td>153022381934.000</td>\n",
       "    </tr>\n",
       "    <tr>\n",
       "      <th>14</th>\n",
       "      <td>2024-09-25</td>\n",
       "      <td>-48506130000.000</td>\n",
       "      <td>-43560775052.000</td>\n",
       "    </tr>\n",
       "    <tr>\n",
       "      <th>17</th>\n",
       "      <td>2024-09-30</td>\n",
       "      <td>-6566210000.000</td>\n",
       "      <td>-57269289947.000</td>\n",
       "    </tr>\n",
       "  </tbody>\n",
       "</table>\n",
       "</div>"
      ],
      "text/plain": [
       "          Date        predicted              true\n",
       "0   2024-09-04 -82518870000.000  -34391885051.000\n",
       "1   2024-09-05 -70422695000.000 -104535149830.000\n",
       "2   2024-09-06 -10121365000.000  -17501589923.000\n",
       "3   2024-09-09 -87224330000.000  -85565450065.000\n",
       "5   2024-09-11  -1491150000.000  -40393990139.000\n",
       "6   2024-09-12  45171620000.000  -29149839929.000\n",
       "7   2024-09-13  -8553230000.000  -24180755064.000\n",
       "8   2024-09-16  -6638535000.000   -9390455041.000\n",
       "9   2024-09-18 -30815925000.000 -215812299827.000\n",
       "11  2024-09-20   -637340000.000   30945295200.000\n",
       "12  2024-09-23   9970740000.000  153022381934.000\n",
       "14  2024-09-25 -48506130000.000  -43560775052.000\n",
       "17  2024-09-30  -6566210000.000  -57269289947.000"
      ]
     },
     "metadata": {},
     "output_type": "display_data"
    },
    {
     "data": {
      "application/vnd.plotly.v1+json": {
       "config": {
        "plotlyServerURL": "https://plot.ly"
       },
       "data": [
        {
         "hovertemplate": "variable=predicted<br>Date=%{x}<br>value=%{y}<extra></extra>",
         "legendgroup": "predicted",
         "line": {
          "color": "#636efa",
          "dash": "solid"
         },
         "marker": {
          "symbol": "circle"
         },
         "mode": "lines",
         "name": "predicted",
         "orientation": "v",
         "showlegend": true,
         "type": "scatter",
         "x": [
          "2024-09-04",
          "2024-09-05",
          "2024-09-06",
          "2024-09-09",
          "2024-09-11",
          "2024-09-12",
          "2024-09-13",
          "2024-09-16",
          "2024-09-18",
          "2024-09-20",
          "2024-09-23",
          "2024-09-25",
          "2024-09-30"
         ],
         "xaxis": "x",
         "y": {
          "bdata": "AADwB4I2M8IAAFgMhWUwwgAAQDA+2gLCAAAQp/lONMIAAAAsSTjWwQAAQHHgCCVCAAAA6/7c/8EAAIAVALv4wQAAIMwWsxzCAAAAsIT+wsEAAABZa5ICQgAAoJxhlibCAAAAnQZ2+ME=",
          "dtype": "f8"
         },
         "yaxis": "y"
        },
        {
         "hovertemplate": "variable=true<br>Date=%{x}<br>value=%{y}<extra></extra>",
         "legendgroup": "true",
         "line": {
          "color": "#EF553B",
          "dash": "solid"
         },
         "marker": {
          "symbol": "circle"
         },
         "mode": "lines",
         "name": "true",
         "orientation": "v",
         "showlegend": true,
         "type": "scatter",
         "x": [
          "2024-09-04",
          "2024-09-05",
          "2024-09-06",
          "2024-09-09",
          "2024-09-11",
          "2024-09-12",
          "2024-09-13",
          "2024-09-16",
          "2024-09-18",
          "2024-09-20",
          "2024-09-23",
          "2024-09-25",
          "2024-09-30"
         ],
         "xaxis": "x",
         "y": {
          "bdata": "AAD2CdUDIMIAAAbNx1Y4wgAAjEa0TBDCAABRJxnsM8IAAPa/Vs8iwgAA5AjdJRvCAADgKSSFFsIAAAjIt30BwgCAGS61H0nCAACA7e7RHEIAALcfbNBBQgAAGFvZSCTCAAC2BwirKsI=",
          "dtype": "f8"
         },
         "yaxis": "y"
        }
       ],
       "layout": {
        "legend": {
         "title": {
          "text": "variable"
         },
         "tracegroupgap": 0
        },
        "template": {
         "data": {
          "bar": [
           {
            "error_x": {
             "color": "#f2f5fa"
            },
            "error_y": {
             "color": "#f2f5fa"
            },
            "marker": {
             "line": {
              "color": "rgb(17,17,17)",
              "width": 0.5
             },
             "pattern": {
              "fillmode": "overlay",
              "size": 10,
              "solidity": 0.2
             }
            },
            "type": "bar"
           }
          ],
          "barpolar": [
           {
            "marker": {
             "line": {
              "color": "rgb(17,17,17)",
              "width": 0.5
             },
             "pattern": {
              "fillmode": "overlay",
              "size": 10,
              "solidity": 0.2
             }
            },
            "type": "barpolar"
           }
          ],
          "carpet": [
           {
            "aaxis": {
             "endlinecolor": "#A2B1C6",
             "gridcolor": "#506784",
             "linecolor": "#506784",
             "minorgridcolor": "#506784",
             "startlinecolor": "#A2B1C6"
            },
            "baxis": {
             "endlinecolor": "#A2B1C6",
             "gridcolor": "#506784",
             "linecolor": "#506784",
             "minorgridcolor": "#506784",
             "startlinecolor": "#A2B1C6"
            },
            "type": "carpet"
           }
          ],
          "choropleth": [
           {
            "colorbar": {
             "outlinewidth": 0,
             "ticks": ""
            },
            "type": "choropleth"
           }
          ],
          "contour": [
           {
            "colorbar": {
             "outlinewidth": 0,
             "ticks": ""
            },
            "colorscale": [
             [
              0,
              "#0d0887"
             ],
             [
              0.1111111111111111,
              "#46039f"
             ],
             [
              0.2222222222222222,
              "#7201a8"
             ],
             [
              0.3333333333333333,
              "#9c179e"
             ],
             [
              0.4444444444444444,
              "#bd3786"
             ],
             [
              0.5555555555555556,
              "#d8576b"
             ],
             [
              0.6666666666666666,
              "#ed7953"
             ],
             [
              0.7777777777777778,
              "#fb9f3a"
             ],
             [
              0.8888888888888888,
              "#fdca26"
             ],
             [
              1,
              "#f0f921"
             ]
            ],
            "type": "contour"
           }
          ],
          "contourcarpet": [
           {
            "colorbar": {
             "outlinewidth": 0,
             "ticks": ""
            },
            "type": "contourcarpet"
           }
          ],
          "heatmap": [
           {
            "colorbar": {
             "outlinewidth": 0,
             "ticks": ""
            },
            "colorscale": [
             [
              0,
              "#0d0887"
             ],
             [
              0.1111111111111111,
              "#46039f"
             ],
             [
              0.2222222222222222,
              "#7201a8"
             ],
             [
              0.3333333333333333,
              "#9c179e"
             ],
             [
              0.4444444444444444,
              "#bd3786"
             ],
             [
              0.5555555555555556,
              "#d8576b"
             ],
             [
              0.6666666666666666,
              "#ed7953"
             ],
             [
              0.7777777777777778,
              "#fb9f3a"
             ],
             [
              0.8888888888888888,
              "#fdca26"
             ],
             [
              1,
              "#f0f921"
             ]
            ],
            "type": "heatmap"
           }
          ],
          "histogram": [
           {
            "marker": {
             "pattern": {
              "fillmode": "overlay",
              "size": 10,
              "solidity": 0.2
             }
            },
            "type": "histogram"
           }
          ],
          "histogram2d": [
           {
            "colorbar": {
             "outlinewidth": 0,
             "ticks": ""
            },
            "colorscale": [
             [
              0,
              "#0d0887"
             ],
             [
              0.1111111111111111,
              "#46039f"
             ],
             [
              0.2222222222222222,
              "#7201a8"
             ],
             [
              0.3333333333333333,
              "#9c179e"
             ],
             [
              0.4444444444444444,
              "#bd3786"
             ],
             [
              0.5555555555555556,
              "#d8576b"
             ],
             [
              0.6666666666666666,
              "#ed7953"
             ],
             [
              0.7777777777777778,
              "#fb9f3a"
             ],
             [
              0.8888888888888888,
              "#fdca26"
             ],
             [
              1,
              "#f0f921"
             ]
            ],
            "type": "histogram2d"
           }
          ],
          "histogram2dcontour": [
           {
            "colorbar": {
             "outlinewidth": 0,
             "ticks": ""
            },
            "colorscale": [
             [
              0,
              "#0d0887"
             ],
             [
              0.1111111111111111,
              "#46039f"
             ],
             [
              0.2222222222222222,
              "#7201a8"
             ],
             [
              0.3333333333333333,
              "#9c179e"
             ],
             [
              0.4444444444444444,
              "#bd3786"
             ],
             [
              0.5555555555555556,
              "#d8576b"
             ],
             [
              0.6666666666666666,
              "#ed7953"
             ],
             [
              0.7777777777777778,
              "#fb9f3a"
             ],
             [
              0.8888888888888888,
              "#fdca26"
             ],
             [
              1,
              "#f0f921"
             ]
            ],
            "type": "histogram2dcontour"
           }
          ],
          "mesh3d": [
           {
            "colorbar": {
             "outlinewidth": 0,
             "ticks": ""
            },
            "type": "mesh3d"
           }
          ],
          "parcoords": [
           {
            "line": {
             "colorbar": {
              "outlinewidth": 0,
              "ticks": ""
             }
            },
            "type": "parcoords"
           }
          ],
          "pie": [
           {
            "automargin": true,
            "type": "pie"
           }
          ],
          "scatter": [
           {
            "marker": {
             "line": {
              "color": "#283442"
             }
            },
            "type": "scatter"
           }
          ],
          "scatter3d": [
           {
            "line": {
             "colorbar": {
              "outlinewidth": 0,
              "ticks": ""
             }
            },
            "marker": {
             "colorbar": {
              "outlinewidth": 0,
              "ticks": ""
             }
            },
            "type": "scatter3d"
           }
          ],
          "scattercarpet": [
           {
            "marker": {
             "colorbar": {
              "outlinewidth": 0,
              "ticks": ""
             }
            },
            "type": "scattercarpet"
           }
          ],
          "scattergeo": [
           {
            "marker": {
             "colorbar": {
              "outlinewidth": 0,
              "ticks": ""
             }
            },
            "type": "scattergeo"
           }
          ],
          "scattergl": [
           {
            "marker": {
             "line": {
              "color": "#283442"
             }
            },
            "type": "scattergl"
           }
          ],
          "scattermap": [
           {
            "marker": {
             "colorbar": {
              "outlinewidth": 0,
              "ticks": ""
             }
            },
            "type": "scattermap"
           }
          ],
          "scattermapbox": [
           {
            "marker": {
             "colorbar": {
              "outlinewidth": 0,
              "ticks": ""
             }
            },
            "type": "scattermapbox"
           }
          ],
          "scatterpolar": [
           {
            "marker": {
             "colorbar": {
              "outlinewidth": 0,
              "ticks": ""
             }
            },
            "type": "scatterpolar"
           }
          ],
          "scatterpolargl": [
           {
            "marker": {
             "colorbar": {
              "outlinewidth": 0,
              "ticks": ""
             }
            },
            "type": "scatterpolargl"
           }
          ],
          "scatterternary": [
           {
            "marker": {
             "colorbar": {
              "outlinewidth": 0,
              "ticks": ""
             }
            },
            "type": "scatterternary"
           }
          ],
          "surface": [
           {
            "colorbar": {
             "outlinewidth": 0,
             "ticks": ""
            },
            "colorscale": [
             [
              0,
              "#0d0887"
             ],
             [
              0.1111111111111111,
              "#46039f"
             ],
             [
              0.2222222222222222,
              "#7201a8"
             ],
             [
              0.3333333333333333,
              "#9c179e"
             ],
             [
              0.4444444444444444,
              "#bd3786"
             ],
             [
              0.5555555555555556,
              "#d8576b"
             ],
             [
              0.6666666666666666,
              "#ed7953"
             ],
             [
              0.7777777777777778,
              "#fb9f3a"
             ],
             [
              0.8888888888888888,
              "#fdca26"
             ],
             [
              1,
              "#f0f921"
             ]
            ],
            "type": "surface"
           }
          ],
          "table": [
           {
            "cells": {
             "fill": {
              "color": "#506784"
             },
             "line": {
              "color": "rgb(17,17,17)"
             }
            },
            "header": {
             "fill": {
              "color": "#2a3f5f"
             },
             "line": {
              "color": "rgb(17,17,17)"
             }
            },
            "type": "table"
           }
          ]
         },
         "layout": {
          "annotationdefaults": {
           "arrowcolor": "#f2f5fa",
           "arrowhead": 0,
           "arrowwidth": 1
          },
          "autotypenumbers": "strict",
          "coloraxis": {
           "colorbar": {
            "outlinewidth": 0,
            "ticks": ""
           }
          },
          "colorscale": {
           "diverging": [
            [
             0,
             "#8e0152"
            ],
            [
             0.1,
             "#c51b7d"
            ],
            [
             0.2,
             "#de77ae"
            ],
            [
             0.3,
             "#f1b6da"
            ],
            [
             0.4,
             "#fde0ef"
            ],
            [
             0.5,
             "#f7f7f7"
            ],
            [
             0.6,
             "#e6f5d0"
            ],
            [
             0.7,
             "#b8e186"
            ],
            [
             0.8,
             "#7fbc41"
            ],
            [
             0.9,
             "#4d9221"
            ],
            [
             1,
             "#276419"
            ]
           ],
           "sequential": [
            [
             0,
             "#0d0887"
            ],
            [
             0.1111111111111111,
             "#46039f"
            ],
            [
             0.2222222222222222,
             "#7201a8"
            ],
            [
             0.3333333333333333,
             "#9c179e"
            ],
            [
             0.4444444444444444,
             "#bd3786"
            ],
            [
             0.5555555555555556,
             "#d8576b"
            ],
            [
             0.6666666666666666,
             "#ed7953"
            ],
            [
             0.7777777777777778,
             "#fb9f3a"
            ],
            [
             0.8888888888888888,
             "#fdca26"
            ],
            [
             1,
             "#f0f921"
            ]
           ],
           "sequentialminus": [
            [
             0,
             "#0d0887"
            ],
            [
             0.1111111111111111,
             "#46039f"
            ],
            [
             0.2222222222222222,
             "#7201a8"
            ],
            [
             0.3333333333333333,
             "#9c179e"
            ],
            [
             0.4444444444444444,
             "#bd3786"
            ],
            [
             0.5555555555555556,
             "#d8576b"
            ],
            [
             0.6666666666666666,
             "#ed7953"
            ],
            [
             0.7777777777777778,
             "#fb9f3a"
            ],
            [
             0.8888888888888888,
             "#fdca26"
            ],
            [
             1,
             "#f0f921"
            ]
           ]
          },
          "colorway": [
           "#636efa",
           "#EF553B",
           "#00cc96",
           "#ab63fa",
           "#FFA15A",
           "#19d3f3",
           "#FF6692",
           "#B6E880",
           "#FF97FF",
           "#FECB52"
          ],
          "font": {
           "color": "#f2f5fa"
          },
          "geo": {
           "bgcolor": "rgb(17,17,17)",
           "lakecolor": "rgb(17,17,17)",
           "landcolor": "rgb(17,17,17)",
           "showlakes": true,
           "showland": true,
           "subunitcolor": "#506784"
          },
          "hoverlabel": {
           "align": "left"
          },
          "hovermode": "closest",
          "mapbox": {
           "style": "dark"
          },
          "paper_bgcolor": "rgb(17,17,17)",
          "plot_bgcolor": "rgb(17,17,17)",
          "polar": {
           "angularaxis": {
            "gridcolor": "#506784",
            "linecolor": "#506784",
            "ticks": ""
           },
           "bgcolor": "rgb(17,17,17)",
           "radialaxis": {
            "gridcolor": "#506784",
            "linecolor": "#506784",
            "ticks": ""
           }
          },
          "scene": {
           "xaxis": {
            "backgroundcolor": "rgb(17,17,17)",
            "gridcolor": "#506784",
            "gridwidth": 2,
            "linecolor": "#506784",
            "showbackground": true,
            "ticks": "",
            "zerolinecolor": "#C8D4E3"
           },
           "yaxis": {
            "backgroundcolor": "rgb(17,17,17)",
            "gridcolor": "#506784",
            "gridwidth": 2,
            "linecolor": "#506784",
            "showbackground": true,
            "ticks": "",
            "zerolinecolor": "#C8D4E3"
           },
           "zaxis": {
            "backgroundcolor": "rgb(17,17,17)",
            "gridcolor": "#506784",
            "gridwidth": 2,
            "linecolor": "#506784",
            "showbackground": true,
            "ticks": "",
            "zerolinecolor": "#C8D4E3"
           }
          },
          "shapedefaults": {
           "line": {
            "color": "#f2f5fa"
           }
          },
          "sliderdefaults": {
           "bgcolor": "#C8D4E3",
           "bordercolor": "rgb(17,17,17)",
           "borderwidth": 1,
           "tickwidth": 0
          },
          "ternary": {
           "aaxis": {
            "gridcolor": "#506784",
            "linecolor": "#506784",
            "ticks": ""
           },
           "baxis": {
            "gridcolor": "#506784",
            "linecolor": "#506784",
            "ticks": ""
           },
           "bgcolor": "rgb(17,17,17)",
           "caxis": {
            "gridcolor": "#506784",
            "linecolor": "#506784",
            "ticks": ""
           }
          },
          "title": {
           "x": 0.05
          },
          "updatemenudefaults": {
           "bgcolor": "#506784",
           "borderwidth": 0
          },
          "xaxis": {
           "automargin": true,
           "gridcolor": "#283442",
           "linecolor": "#506784",
           "ticks": "",
           "title": {
            "standoff": 15
           },
           "zerolinecolor": "#283442",
           "zerolinewidth": 2
          },
          "yaxis": {
           "automargin": true,
           "gridcolor": "#283442",
           "linecolor": "#506784",
           "ticks": "",
           "title": {
            "standoff": 15
           },
           "zerolinecolor": "#283442",
           "zerolinewidth": 2
          }
         }
        },
        "title": {
         "text": "Fubon Flow Detection - True vs. Predicted (ver3)"
        },
        "xaxis": {
         "anchor": "y",
         "domain": [
          0,
          1
         ],
         "title": {
          "text": "Date"
         }
        },
        "yaxis": {
         "anchor": "x",
         "domain": [
          0,
          1
         ],
         "title": {
          "text": "value"
         }
        }
       }
      }
     },
     "metadata": {},
     "output_type": "display_data"
    }
   ],
   "source": [
    "import pandas as pd\n",
    "import os\n",
    "\n",
    "def compare_fubon_flows(folder_name):\n",
    "    # Base paths\n",
    "    base_path = \"../results\"\n",
    "    actual_data_path = \"../data/transaction_data.csv\"\n",
    "    result_folder = os.path.join(base_path, folder_name)\n",
    "\n",
    "    # Fixed date list\n",
    "    dates = [ \"2024-09-04\", \"2024-09-05\", \"2024-09-06\", \"2024-09-09\", \"2024-09-10\", \"2024-09-11\", \"2024-09-12\", \"2024-09-13\", \"2024-09-16\", \"2024-09-18\", \"2024-09-19\", \"2024-09-20\", \"2024-09-23\", \"2024-09-24\", \"2024-09-25\", \"2024-09-26\", \"2024-09-27\", \"2024-09-30\", \"2025-07-28\"]\n",
    "\n",
    "    # Load actual transaction data\n",
    "    df_actual = pd.read_csv(actual_data_path)\n",
    "    records = []\n",
    "\n",
    "    for date in dates:\n",
    "        try:\n",
    "            file_path = os.path.join(result_folder, f\"{date}.csv\")\n",
    "\n",
    "            # Check if result file exists\n",
    "            if not os.path.exists(file_path):\n",
    "                print(f\"⚠️ Missing file for date: {date}\")\n",
    "                records.append({'Date': date, 'predicted': None, 'true': None})\n",
    "                continue\n",
    "\n",
    "            # Load predicted data\n",
    "            tmp = pd.read_csv(file_path)\n",
    "            predicted_value = tmp['arbit_value'].sum() - tmp['unwind_value'].sum()\n",
    "\n",
    "            # Extract actual data\n",
    "            actual_rows = df_actual.query(f'Date == \"{date}\"')\n",
    "            actual_value = actual_rows['primary_flow_vnd'].iloc[0] if not actual_rows.empty else None\n",
    "\n",
    "            records.append({'Date': date, 'predicted': predicted_value, 'true': actual_value})\n",
    "\n",
    "        except Exception as e:\n",
    "            print(f\"⚠️ {date}: {e}\")\n",
    "            records.append({'Date': date, 'predicted': None, 'true': None})\n",
    "\n",
    "    df_result = pd.DataFrame(records)\n",
    "    df_clean = df_result.dropna()\n",
    "\n",
    "    # Display and plot\n",
    "    display(df_clean)\n",
    "    plot = df_clean.set_index('Date').plot(title=f'Fubon Flow Detection - True vs. Predicted ({folder_name})')\n",
    "\n",
    "    return df_clean, plot\n",
    "\n",
    "\n",
    "df_result, plot = compare_fubon_flows(\"ver3\")\n",
    "plot.show()"
   ]
  },
  {
   "cell_type": "code",
   "execution_count": 146,
   "id": "e5de7a00",
   "metadata": {},
   "outputs": [
    {
     "data": {
      "application/vnd.microsoft.datawrangler.viewer.v0+json": {
       "columns": [
        {
         "name": "index",
         "rawType": "int64",
         "type": "integer"
        },
        {
         "name": "Date",
         "rawType": "object",
         "type": "string"
        },
        {
         "name": "predicted",
         "rawType": "float64",
         "type": "float"
        },
        {
         "name": "true",
         "rawType": "float64",
         "type": "float"
        }
       ],
       "ref": "72ffb076-85bc-4bb5-9f42-f4f50177e104",
       "rows": [
        [
         "0",
         "2024-09-04",
         "-89674375000.0",
         "-34391885051.0"
        ],
        [
         "1",
         "2024-09-05",
         "-116086565000.0",
         "-104535149830.0"
        ],
        [
         "2",
         "2024-09-06",
         "9070380000.0",
         "-17501589923.0"
        ],
        [
         "3",
         "2024-09-09",
         "-107651815000.0",
         "-85565450065.0"
        ],
        [
         "5",
         "2024-09-11",
         "-20809690000.0",
         "-40393990139.0"
        ],
        [
         "6",
         "2024-09-12",
         "50180870000.0",
         "-29149839929.0"
        ],
        [
         "7",
         "2024-09-13",
         "-3872100000.0",
         "-24180755064.0"
        ],
        [
         "8",
         "2024-09-16",
         "-13921335000.0",
         "-9390455041.0"
        ],
        [
         "9",
         "2024-09-18",
         "-39447715000.0",
         "-215812299827.0"
        ],
        [
         "11",
         "2024-09-20",
         "-14906255000.0",
         "30945295200.0"
        ],
        [
         "12",
         "2024-09-23",
         "19615905000.0",
         "153022381934.0"
        ],
        [
         "14",
         "2024-09-25",
         "-43070195000.0",
         "-43560775052.0"
        ],
        [
         "17",
         "2024-09-30",
         "-14123785000.0",
         "-57269289947.0"
        ]
       ],
       "shape": {
        "columns": 3,
        "rows": 13
       }
      },
      "text/html": [
       "<div>\n",
       "<style scoped>\n",
       "    .dataframe tbody tr th:only-of-type {\n",
       "        vertical-align: middle;\n",
       "    }\n",
       "\n",
       "    .dataframe tbody tr th {\n",
       "        vertical-align: top;\n",
       "    }\n",
       "\n",
       "    .dataframe thead th {\n",
       "        text-align: right;\n",
       "    }\n",
       "</style>\n",
       "<table border=\"1\" class=\"dataframe\">\n",
       "  <thead>\n",
       "    <tr style=\"text-align: right;\">\n",
       "      <th></th>\n",
       "      <th>Date</th>\n",
       "      <th>predicted</th>\n",
       "      <th>true</th>\n",
       "    </tr>\n",
       "  </thead>\n",
       "  <tbody>\n",
       "    <tr>\n",
       "      <th>0</th>\n",
       "      <td>2024-09-04</td>\n",
       "      <td>-89674375000.000</td>\n",
       "      <td>-34391885051.000</td>\n",
       "    </tr>\n",
       "    <tr>\n",
       "      <th>1</th>\n",
       "      <td>2024-09-05</td>\n",
       "      <td>-116086565000.000</td>\n",
       "      <td>-104535149830.000</td>\n",
       "    </tr>\n",
       "    <tr>\n",
       "      <th>2</th>\n",
       "      <td>2024-09-06</td>\n",
       "      <td>9070380000.000</td>\n",
       "      <td>-17501589923.000</td>\n",
       "    </tr>\n",
       "    <tr>\n",
       "      <th>3</th>\n",
       "      <td>2024-09-09</td>\n",
       "      <td>-107651815000.000</td>\n",
       "      <td>-85565450065.000</td>\n",
       "    </tr>\n",
       "    <tr>\n",
       "      <th>5</th>\n",
       "      <td>2024-09-11</td>\n",
       "      <td>-20809690000.000</td>\n",
       "      <td>-40393990139.000</td>\n",
       "    </tr>\n",
       "    <tr>\n",
       "      <th>6</th>\n",
       "      <td>2024-09-12</td>\n",
       "      <td>50180870000.000</td>\n",
       "      <td>-29149839929.000</td>\n",
       "    </tr>\n",
       "    <tr>\n",
       "      <th>7</th>\n",
       "      <td>2024-09-13</td>\n",
       "      <td>-3872100000.000</td>\n",
       "      <td>-24180755064.000</td>\n",
       "    </tr>\n",
       "    <tr>\n",
       "      <th>8</th>\n",
       "      <td>2024-09-16</td>\n",
       "      <td>-13921335000.000</td>\n",
       "      <td>-9390455041.000</td>\n",
       "    </tr>\n",
       "    <tr>\n",
       "      <th>9</th>\n",
       "      <td>2024-09-18</td>\n",
       "      <td>-39447715000.000</td>\n",
       "      <td>-215812299827.000</td>\n",
       "    </tr>\n",
       "    <tr>\n",
       "      <th>11</th>\n",
       "      <td>2024-09-20</td>\n",
       "      <td>-14906255000.000</td>\n",
       "      <td>30945295200.000</td>\n",
       "    </tr>\n",
       "    <tr>\n",
       "      <th>12</th>\n",
       "      <td>2024-09-23</td>\n",
       "      <td>19615905000.000</td>\n",
       "      <td>153022381934.000</td>\n",
       "    </tr>\n",
       "    <tr>\n",
       "      <th>14</th>\n",
       "      <td>2024-09-25</td>\n",
       "      <td>-43070195000.000</td>\n",
       "      <td>-43560775052.000</td>\n",
       "    </tr>\n",
       "    <tr>\n",
       "      <th>17</th>\n",
       "      <td>2024-09-30</td>\n",
       "      <td>-14123785000.000</td>\n",
       "      <td>-57269289947.000</td>\n",
       "    </tr>\n",
       "  </tbody>\n",
       "</table>\n",
       "</div>"
      ],
      "text/plain": [
       "          Date         predicted              true\n",
       "0   2024-09-04  -89674375000.000  -34391885051.000\n",
       "1   2024-09-05 -116086565000.000 -104535149830.000\n",
       "2   2024-09-06    9070380000.000  -17501589923.000\n",
       "3   2024-09-09 -107651815000.000  -85565450065.000\n",
       "5   2024-09-11  -20809690000.000  -40393990139.000\n",
       "6   2024-09-12   50180870000.000  -29149839929.000\n",
       "7   2024-09-13   -3872100000.000  -24180755064.000\n",
       "8   2024-09-16  -13921335000.000   -9390455041.000\n",
       "9   2024-09-18  -39447715000.000 -215812299827.000\n",
       "11  2024-09-20  -14906255000.000   30945295200.000\n",
       "12  2024-09-23   19615905000.000  153022381934.000\n",
       "14  2024-09-25  -43070195000.000  -43560775052.000\n",
       "17  2024-09-30  -14123785000.000  -57269289947.000"
      ]
     },
     "metadata": {},
     "output_type": "display_data"
    },
    {
     "data": {
      "application/vnd.plotly.v1+json": {
       "config": {
        "plotlyServerURL": "https://plot.ly"
       },
       "data": [
        {
         "hovertemplate": "variable=predicted<br>Date=%{x}<br>value=%{y}<extra></extra>",
         "legendgroup": "predicted",
         "line": {
          "color": "#636efa",
          "dash": "solid"
         },
         "marker": {
          "symbol": "circle"
         },
         "mode": "lines",
         "name": "predicted",
         "orientation": "v",
         "showlegend": true,
         "type": "scatter",
         "x": [
          "2024-09-04",
          "2024-09-05",
          "2024-09-06",
          "2024-09-09",
          "2024-09-11",
          "2024-09-12",
          "2024-09-13",
          "2024-09-16",
          "2024-09-18",
          "2024-09-20",
          "2024-09-23",
          "2024-09-25",
          "2024-09-30"
         ],
         "xaxis": "x",
         "y": {
          "bdata": "AABYXwLhNMIAAIhoTAc7wgAAAB8Y5QBCAABYVowQOcIAAECuamETwgAA4J4GXidCAAAA1HHZ7MEAAMC2Ne4JwgAAcLmIXiLCAADANNvDC8IAAKDTy0QSQgAAcApeDiTCAABA2b5OCsI=",
          "dtype": "f8"
         },
         "yaxis": "y"
        },
        {
         "hovertemplate": "variable=true<br>Date=%{x}<br>value=%{y}<extra></extra>",
         "legendgroup": "true",
         "line": {
          "color": "#EF553B",
          "dash": "solid"
         },
         "marker": {
          "symbol": "circle"
         },
         "mode": "lines",
         "name": "true",
         "orientation": "v",
         "showlegend": true,
         "type": "scatter",
         "x": [
          "2024-09-04",
          "2024-09-05",
          "2024-09-06",
          "2024-09-09",
          "2024-09-11",
          "2024-09-12",
          "2024-09-13",
          "2024-09-16",
          "2024-09-18",
          "2024-09-20",
          "2024-09-23",
          "2024-09-25",
          "2024-09-30"
         ],
         "xaxis": "x",
         "y": {
          "bdata": "AAD2CdUDIMIAAAbNx1Y4wgAAjEa0TBDCAABRJxnsM8IAAPa/Vs8iwgAA5AjdJRvCAADgKSSFFsIAAAjIt30BwgCAGS61H0nCAACA7e7RHEIAALcfbNBBQgAAGFvZSCTCAAC2BwirKsI=",
          "dtype": "f8"
         },
         "yaxis": "y"
        }
       ],
       "layout": {
        "legend": {
         "title": {
          "text": "variable"
         },
         "tracegroupgap": 0
        },
        "template": {
         "data": {
          "bar": [
           {
            "error_x": {
             "color": "#f2f5fa"
            },
            "error_y": {
             "color": "#f2f5fa"
            },
            "marker": {
             "line": {
              "color": "rgb(17,17,17)",
              "width": 0.5
             },
             "pattern": {
              "fillmode": "overlay",
              "size": 10,
              "solidity": 0.2
             }
            },
            "type": "bar"
           }
          ],
          "barpolar": [
           {
            "marker": {
             "line": {
              "color": "rgb(17,17,17)",
              "width": 0.5
             },
             "pattern": {
              "fillmode": "overlay",
              "size": 10,
              "solidity": 0.2
             }
            },
            "type": "barpolar"
           }
          ],
          "carpet": [
           {
            "aaxis": {
             "endlinecolor": "#A2B1C6",
             "gridcolor": "#506784",
             "linecolor": "#506784",
             "minorgridcolor": "#506784",
             "startlinecolor": "#A2B1C6"
            },
            "baxis": {
             "endlinecolor": "#A2B1C6",
             "gridcolor": "#506784",
             "linecolor": "#506784",
             "minorgridcolor": "#506784",
             "startlinecolor": "#A2B1C6"
            },
            "type": "carpet"
           }
          ],
          "choropleth": [
           {
            "colorbar": {
             "outlinewidth": 0,
             "ticks": ""
            },
            "type": "choropleth"
           }
          ],
          "contour": [
           {
            "colorbar": {
             "outlinewidth": 0,
             "ticks": ""
            },
            "colorscale": [
             [
              0,
              "#0d0887"
             ],
             [
              0.1111111111111111,
              "#46039f"
             ],
             [
              0.2222222222222222,
              "#7201a8"
             ],
             [
              0.3333333333333333,
              "#9c179e"
             ],
             [
              0.4444444444444444,
              "#bd3786"
             ],
             [
              0.5555555555555556,
              "#d8576b"
             ],
             [
              0.6666666666666666,
              "#ed7953"
             ],
             [
              0.7777777777777778,
              "#fb9f3a"
             ],
             [
              0.8888888888888888,
              "#fdca26"
             ],
             [
              1,
              "#f0f921"
             ]
            ],
            "type": "contour"
           }
          ],
          "contourcarpet": [
           {
            "colorbar": {
             "outlinewidth": 0,
             "ticks": ""
            },
            "type": "contourcarpet"
           }
          ],
          "heatmap": [
           {
            "colorbar": {
             "outlinewidth": 0,
             "ticks": ""
            },
            "colorscale": [
             [
              0,
              "#0d0887"
             ],
             [
              0.1111111111111111,
              "#46039f"
             ],
             [
              0.2222222222222222,
              "#7201a8"
             ],
             [
              0.3333333333333333,
              "#9c179e"
             ],
             [
              0.4444444444444444,
              "#bd3786"
             ],
             [
              0.5555555555555556,
              "#d8576b"
             ],
             [
              0.6666666666666666,
              "#ed7953"
             ],
             [
              0.7777777777777778,
              "#fb9f3a"
             ],
             [
              0.8888888888888888,
              "#fdca26"
             ],
             [
              1,
              "#f0f921"
             ]
            ],
            "type": "heatmap"
           }
          ],
          "histogram": [
           {
            "marker": {
             "pattern": {
              "fillmode": "overlay",
              "size": 10,
              "solidity": 0.2
             }
            },
            "type": "histogram"
           }
          ],
          "histogram2d": [
           {
            "colorbar": {
             "outlinewidth": 0,
             "ticks": ""
            },
            "colorscale": [
             [
              0,
              "#0d0887"
             ],
             [
              0.1111111111111111,
              "#46039f"
             ],
             [
              0.2222222222222222,
              "#7201a8"
             ],
             [
              0.3333333333333333,
              "#9c179e"
             ],
             [
              0.4444444444444444,
              "#bd3786"
             ],
             [
              0.5555555555555556,
              "#d8576b"
             ],
             [
              0.6666666666666666,
              "#ed7953"
             ],
             [
              0.7777777777777778,
              "#fb9f3a"
             ],
             [
              0.8888888888888888,
              "#fdca26"
             ],
             [
              1,
              "#f0f921"
             ]
            ],
            "type": "histogram2d"
           }
          ],
          "histogram2dcontour": [
           {
            "colorbar": {
             "outlinewidth": 0,
             "ticks": ""
            },
            "colorscale": [
             [
              0,
              "#0d0887"
             ],
             [
              0.1111111111111111,
              "#46039f"
             ],
             [
              0.2222222222222222,
              "#7201a8"
             ],
             [
              0.3333333333333333,
              "#9c179e"
             ],
             [
              0.4444444444444444,
              "#bd3786"
             ],
             [
              0.5555555555555556,
              "#d8576b"
             ],
             [
              0.6666666666666666,
              "#ed7953"
             ],
             [
              0.7777777777777778,
              "#fb9f3a"
             ],
             [
              0.8888888888888888,
              "#fdca26"
             ],
             [
              1,
              "#f0f921"
             ]
            ],
            "type": "histogram2dcontour"
           }
          ],
          "mesh3d": [
           {
            "colorbar": {
             "outlinewidth": 0,
             "ticks": ""
            },
            "type": "mesh3d"
           }
          ],
          "parcoords": [
           {
            "line": {
             "colorbar": {
              "outlinewidth": 0,
              "ticks": ""
             }
            },
            "type": "parcoords"
           }
          ],
          "pie": [
           {
            "automargin": true,
            "type": "pie"
           }
          ],
          "scatter": [
           {
            "marker": {
             "line": {
              "color": "#283442"
             }
            },
            "type": "scatter"
           }
          ],
          "scatter3d": [
           {
            "line": {
             "colorbar": {
              "outlinewidth": 0,
              "ticks": ""
             }
            },
            "marker": {
             "colorbar": {
              "outlinewidth": 0,
              "ticks": ""
             }
            },
            "type": "scatter3d"
           }
          ],
          "scattercarpet": [
           {
            "marker": {
             "colorbar": {
              "outlinewidth": 0,
              "ticks": ""
             }
            },
            "type": "scattercarpet"
           }
          ],
          "scattergeo": [
           {
            "marker": {
             "colorbar": {
              "outlinewidth": 0,
              "ticks": ""
             }
            },
            "type": "scattergeo"
           }
          ],
          "scattergl": [
           {
            "marker": {
             "line": {
              "color": "#283442"
             }
            },
            "type": "scattergl"
           }
          ],
          "scattermap": [
           {
            "marker": {
             "colorbar": {
              "outlinewidth": 0,
              "ticks": ""
             }
            },
            "type": "scattermap"
           }
          ],
          "scattermapbox": [
           {
            "marker": {
             "colorbar": {
              "outlinewidth": 0,
              "ticks": ""
             }
            },
            "type": "scattermapbox"
           }
          ],
          "scatterpolar": [
           {
            "marker": {
             "colorbar": {
              "outlinewidth": 0,
              "ticks": ""
             }
            },
            "type": "scatterpolar"
           }
          ],
          "scatterpolargl": [
           {
            "marker": {
             "colorbar": {
              "outlinewidth": 0,
              "ticks": ""
             }
            },
            "type": "scatterpolargl"
           }
          ],
          "scatterternary": [
           {
            "marker": {
             "colorbar": {
              "outlinewidth": 0,
              "ticks": ""
             }
            },
            "type": "scatterternary"
           }
          ],
          "surface": [
           {
            "colorbar": {
             "outlinewidth": 0,
             "ticks": ""
            },
            "colorscale": [
             [
              0,
              "#0d0887"
             ],
             [
              0.1111111111111111,
              "#46039f"
             ],
             [
              0.2222222222222222,
              "#7201a8"
             ],
             [
              0.3333333333333333,
              "#9c179e"
             ],
             [
              0.4444444444444444,
              "#bd3786"
             ],
             [
              0.5555555555555556,
              "#d8576b"
             ],
             [
              0.6666666666666666,
              "#ed7953"
             ],
             [
              0.7777777777777778,
              "#fb9f3a"
             ],
             [
              0.8888888888888888,
              "#fdca26"
             ],
             [
              1,
              "#f0f921"
             ]
            ],
            "type": "surface"
           }
          ],
          "table": [
           {
            "cells": {
             "fill": {
              "color": "#506784"
             },
             "line": {
              "color": "rgb(17,17,17)"
             }
            },
            "header": {
             "fill": {
              "color": "#2a3f5f"
             },
             "line": {
              "color": "rgb(17,17,17)"
             }
            },
            "type": "table"
           }
          ]
         },
         "layout": {
          "annotationdefaults": {
           "arrowcolor": "#f2f5fa",
           "arrowhead": 0,
           "arrowwidth": 1
          },
          "autotypenumbers": "strict",
          "coloraxis": {
           "colorbar": {
            "outlinewidth": 0,
            "ticks": ""
           }
          },
          "colorscale": {
           "diverging": [
            [
             0,
             "#8e0152"
            ],
            [
             0.1,
             "#c51b7d"
            ],
            [
             0.2,
             "#de77ae"
            ],
            [
             0.3,
             "#f1b6da"
            ],
            [
             0.4,
             "#fde0ef"
            ],
            [
             0.5,
             "#f7f7f7"
            ],
            [
             0.6,
             "#e6f5d0"
            ],
            [
             0.7,
             "#b8e186"
            ],
            [
             0.8,
             "#7fbc41"
            ],
            [
             0.9,
             "#4d9221"
            ],
            [
             1,
             "#276419"
            ]
           ],
           "sequential": [
            [
             0,
             "#0d0887"
            ],
            [
             0.1111111111111111,
             "#46039f"
            ],
            [
             0.2222222222222222,
             "#7201a8"
            ],
            [
             0.3333333333333333,
             "#9c179e"
            ],
            [
             0.4444444444444444,
             "#bd3786"
            ],
            [
             0.5555555555555556,
             "#d8576b"
            ],
            [
             0.6666666666666666,
             "#ed7953"
            ],
            [
             0.7777777777777778,
             "#fb9f3a"
            ],
            [
             0.8888888888888888,
             "#fdca26"
            ],
            [
             1,
             "#f0f921"
            ]
           ],
           "sequentialminus": [
            [
             0,
             "#0d0887"
            ],
            [
             0.1111111111111111,
             "#46039f"
            ],
            [
             0.2222222222222222,
             "#7201a8"
            ],
            [
             0.3333333333333333,
             "#9c179e"
            ],
            [
             0.4444444444444444,
             "#bd3786"
            ],
            [
             0.5555555555555556,
             "#d8576b"
            ],
            [
             0.6666666666666666,
             "#ed7953"
            ],
            [
             0.7777777777777778,
             "#fb9f3a"
            ],
            [
             0.8888888888888888,
             "#fdca26"
            ],
            [
             1,
             "#f0f921"
            ]
           ]
          },
          "colorway": [
           "#636efa",
           "#EF553B",
           "#00cc96",
           "#ab63fa",
           "#FFA15A",
           "#19d3f3",
           "#FF6692",
           "#B6E880",
           "#FF97FF",
           "#FECB52"
          ],
          "font": {
           "color": "#f2f5fa"
          },
          "geo": {
           "bgcolor": "rgb(17,17,17)",
           "lakecolor": "rgb(17,17,17)",
           "landcolor": "rgb(17,17,17)",
           "showlakes": true,
           "showland": true,
           "subunitcolor": "#506784"
          },
          "hoverlabel": {
           "align": "left"
          },
          "hovermode": "closest",
          "mapbox": {
           "style": "dark"
          },
          "paper_bgcolor": "rgb(17,17,17)",
          "plot_bgcolor": "rgb(17,17,17)",
          "polar": {
           "angularaxis": {
            "gridcolor": "#506784",
            "linecolor": "#506784",
            "ticks": ""
           },
           "bgcolor": "rgb(17,17,17)",
           "radialaxis": {
            "gridcolor": "#506784",
            "linecolor": "#506784",
            "ticks": ""
           }
          },
          "scene": {
           "xaxis": {
            "backgroundcolor": "rgb(17,17,17)",
            "gridcolor": "#506784",
            "gridwidth": 2,
            "linecolor": "#506784",
            "showbackground": true,
            "ticks": "",
            "zerolinecolor": "#C8D4E3"
           },
           "yaxis": {
            "backgroundcolor": "rgb(17,17,17)",
            "gridcolor": "#506784",
            "gridwidth": 2,
            "linecolor": "#506784",
            "showbackground": true,
            "ticks": "",
            "zerolinecolor": "#C8D4E3"
           },
           "zaxis": {
            "backgroundcolor": "rgb(17,17,17)",
            "gridcolor": "#506784",
            "gridwidth": 2,
            "linecolor": "#506784",
            "showbackground": true,
            "ticks": "",
            "zerolinecolor": "#C8D4E3"
           }
          },
          "shapedefaults": {
           "line": {
            "color": "#f2f5fa"
           }
          },
          "sliderdefaults": {
           "bgcolor": "#C8D4E3",
           "bordercolor": "rgb(17,17,17)",
           "borderwidth": 1,
           "tickwidth": 0
          },
          "ternary": {
           "aaxis": {
            "gridcolor": "#506784",
            "linecolor": "#506784",
            "ticks": ""
           },
           "baxis": {
            "gridcolor": "#506784",
            "linecolor": "#506784",
            "ticks": ""
           },
           "bgcolor": "rgb(17,17,17)",
           "caxis": {
            "gridcolor": "#506784",
            "linecolor": "#506784",
            "ticks": ""
           }
          },
          "title": {
           "x": 0.05
          },
          "updatemenudefaults": {
           "bgcolor": "#506784",
           "borderwidth": 0
          },
          "xaxis": {
           "automargin": true,
           "gridcolor": "#283442",
           "linecolor": "#506784",
           "ticks": "",
           "title": {
            "standoff": 15
           },
           "zerolinecolor": "#283442",
           "zerolinewidth": 2
          },
          "yaxis": {
           "automargin": true,
           "gridcolor": "#283442",
           "linecolor": "#506784",
           "ticks": "",
           "title": {
            "standoff": 15
           },
           "zerolinecolor": "#283442",
           "zerolinewidth": 2
          }
         }
        },
        "title": {
         "text": "Fubon Flow Detection - True vs. Predicted (two_stage_optimize)"
        },
        "xaxis": {
         "anchor": "y",
         "domain": [
          0,
          1
         ],
         "title": {
          "text": "Date"
         }
        },
        "yaxis": {
         "anchor": "x",
         "domain": [
          0,
          1
         ],
         "title": {
          "text": "value"
         }
        }
       }
      }
     },
     "metadata": {},
     "output_type": "display_data"
    },
    {
     "data": {
      "text/plain": [
       "np.float64(49089336666.61539)"
      ]
     },
     "execution_count": 146,
     "metadata": {},
     "output_type": "execute_result"
    }
   ],
   "source": [
    "df_results, plot = compare_fubon_flows(\"two_stage_optimize\")\n",
    "plot.show()\n",
    "(df_result['predicted'] - df_result['true']).dropna().abs().mean()"
   ]
  },
  {
   "cell_type": "code",
   "execution_count": 147,
   "id": "ebe84e94",
   "metadata": {},
   "outputs": [
    {
     "data": {
      "application/vnd.plotly.v1+json": {
       "config": {
        "plotlyServerURL": "https://plot.ly"
       },
       "data": [
        {
         "hovertemplate": "variable=predicted<br>Date=%{x}<br>value=%{y}<extra></extra>",
         "legendgroup": "predicted",
         "line": {
          "color": "#636efa",
          "dash": "solid"
         },
         "marker": {
          "symbol": "circle"
         },
         "mode": "lines",
         "name": "predicted",
         "orientation": "v",
         "showlegend": true,
         "type": "scatter",
         "x": [
          "2024-09-04",
          "2024-09-05",
          "2024-09-06",
          "2024-09-09",
          "2024-09-11",
          "2024-09-12",
          "2024-09-13",
          "2024-09-16",
          "2024-09-18",
          "2024-09-20",
          "2024-09-23",
          "2024-09-25",
          "2024-09-30"
         ],
         "xaxis": "x",
         "y": {
          "bdata": "AACIygrBOMIAAPhXhyE7wgAAAKz9PNlBAACYS67fNcIAAEArRfAYwgAA8NBdrCZCAAAARusJ38EAAAAVOIsNwgAAAN49SCTCAAAAuOw2wMEAAEAhcY8RQgAAMJKYlSTCAABAV3A0CcI=",
          "dtype": "f8"
         },
         "yaxis": "y"
        },
        {
         "hovertemplate": "variable=true<br>Date=%{x}<br>value=%{y}<extra></extra>",
         "legendgroup": "true",
         "line": {
          "color": "#EF553B",
          "dash": "solid"
         },
         "marker": {
          "symbol": "circle"
         },
         "mode": "lines",
         "name": "true",
         "orientation": "v",
         "showlegend": true,
         "type": "scatter",
         "x": [
          "2024-09-04",
          "2024-09-05",
          "2024-09-06",
          "2024-09-09",
          "2024-09-11",
          "2024-09-12",
          "2024-09-13",
          "2024-09-16",
          "2024-09-18",
          "2024-09-20",
          "2024-09-23",
          "2024-09-25",
          "2024-09-30"
         ],
         "xaxis": "x",
         "y": {
          "bdata": "AAD2CdUDIMIAAAbNx1Y4wgAAjEa0TBDCAABRJxnsM8IAAPa/Vs8iwgAA5AjdJRvCAADgKSSFFsIAAAjIt30BwgCAGS61H0nCAACA7e7RHEIAALcfbNBBQgAAGFvZSCTCAAC2BwirKsI=",
          "dtype": "f8"
         },
         "yaxis": "y"
        }
       ],
       "layout": {
        "legend": {
         "title": {
          "text": "variable"
         },
         "tracegroupgap": 0
        },
        "template": {
         "data": {
          "bar": [
           {
            "error_x": {
             "color": "#f2f5fa"
            },
            "error_y": {
             "color": "#f2f5fa"
            },
            "marker": {
             "line": {
              "color": "rgb(17,17,17)",
              "width": 0.5
             },
             "pattern": {
              "fillmode": "overlay",
              "size": 10,
              "solidity": 0.2
             }
            },
            "type": "bar"
           }
          ],
          "barpolar": [
           {
            "marker": {
             "line": {
              "color": "rgb(17,17,17)",
              "width": 0.5
             },
             "pattern": {
              "fillmode": "overlay",
              "size": 10,
              "solidity": 0.2
             }
            },
            "type": "barpolar"
           }
          ],
          "carpet": [
           {
            "aaxis": {
             "endlinecolor": "#A2B1C6",
             "gridcolor": "#506784",
             "linecolor": "#506784",
             "minorgridcolor": "#506784",
             "startlinecolor": "#A2B1C6"
            },
            "baxis": {
             "endlinecolor": "#A2B1C6",
             "gridcolor": "#506784",
             "linecolor": "#506784",
             "minorgridcolor": "#506784",
             "startlinecolor": "#A2B1C6"
            },
            "type": "carpet"
           }
          ],
          "choropleth": [
           {
            "colorbar": {
             "outlinewidth": 0,
             "ticks": ""
            },
            "type": "choropleth"
           }
          ],
          "contour": [
           {
            "colorbar": {
             "outlinewidth": 0,
             "ticks": ""
            },
            "colorscale": [
             [
              0,
              "#0d0887"
             ],
             [
              0.1111111111111111,
              "#46039f"
             ],
             [
              0.2222222222222222,
              "#7201a8"
             ],
             [
              0.3333333333333333,
              "#9c179e"
             ],
             [
              0.4444444444444444,
              "#bd3786"
             ],
             [
              0.5555555555555556,
              "#d8576b"
             ],
             [
              0.6666666666666666,
              "#ed7953"
             ],
             [
              0.7777777777777778,
              "#fb9f3a"
             ],
             [
              0.8888888888888888,
              "#fdca26"
             ],
             [
              1,
              "#f0f921"
             ]
            ],
            "type": "contour"
           }
          ],
          "contourcarpet": [
           {
            "colorbar": {
             "outlinewidth": 0,
             "ticks": ""
            },
            "type": "contourcarpet"
           }
          ],
          "heatmap": [
           {
            "colorbar": {
             "outlinewidth": 0,
             "ticks": ""
            },
            "colorscale": [
             [
              0,
              "#0d0887"
             ],
             [
              0.1111111111111111,
              "#46039f"
             ],
             [
              0.2222222222222222,
              "#7201a8"
             ],
             [
              0.3333333333333333,
              "#9c179e"
             ],
             [
              0.4444444444444444,
              "#bd3786"
             ],
             [
              0.5555555555555556,
              "#d8576b"
             ],
             [
              0.6666666666666666,
              "#ed7953"
             ],
             [
              0.7777777777777778,
              "#fb9f3a"
             ],
             [
              0.8888888888888888,
              "#fdca26"
             ],
             [
              1,
              "#f0f921"
             ]
            ],
            "type": "heatmap"
           }
          ],
          "histogram": [
           {
            "marker": {
             "pattern": {
              "fillmode": "overlay",
              "size": 10,
              "solidity": 0.2
             }
            },
            "type": "histogram"
           }
          ],
          "histogram2d": [
           {
            "colorbar": {
             "outlinewidth": 0,
             "ticks": ""
            },
            "colorscale": [
             [
              0,
              "#0d0887"
             ],
             [
              0.1111111111111111,
              "#46039f"
             ],
             [
              0.2222222222222222,
              "#7201a8"
             ],
             [
              0.3333333333333333,
              "#9c179e"
             ],
             [
              0.4444444444444444,
              "#bd3786"
             ],
             [
              0.5555555555555556,
              "#d8576b"
             ],
             [
              0.6666666666666666,
              "#ed7953"
             ],
             [
              0.7777777777777778,
              "#fb9f3a"
             ],
             [
              0.8888888888888888,
              "#fdca26"
             ],
             [
              1,
              "#f0f921"
             ]
            ],
            "type": "histogram2d"
           }
          ],
          "histogram2dcontour": [
           {
            "colorbar": {
             "outlinewidth": 0,
             "ticks": ""
            },
            "colorscale": [
             [
              0,
              "#0d0887"
             ],
             [
              0.1111111111111111,
              "#46039f"
             ],
             [
              0.2222222222222222,
              "#7201a8"
             ],
             [
              0.3333333333333333,
              "#9c179e"
             ],
             [
              0.4444444444444444,
              "#bd3786"
             ],
             [
              0.5555555555555556,
              "#d8576b"
             ],
             [
              0.6666666666666666,
              "#ed7953"
             ],
             [
              0.7777777777777778,
              "#fb9f3a"
             ],
             [
              0.8888888888888888,
              "#fdca26"
             ],
             [
              1,
              "#f0f921"
             ]
            ],
            "type": "histogram2dcontour"
           }
          ],
          "mesh3d": [
           {
            "colorbar": {
             "outlinewidth": 0,
             "ticks": ""
            },
            "type": "mesh3d"
           }
          ],
          "parcoords": [
           {
            "line": {
             "colorbar": {
              "outlinewidth": 0,
              "ticks": ""
             }
            },
            "type": "parcoords"
           }
          ],
          "pie": [
           {
            "automargin": true,
            "type": "pie"
           }
          ],
          "scatter": [
           {
            "marker": {
             "line": {
              "color": "#283442"
             }
            },
            "type": "scatter"
           }
          ],
          "scatter3d": [
           {
            "line": {
             "colorbar": {
              "outlinewidth": 0,
              "ticks": ""
             }
            },
            "marker": {
             "colorbar": {
              "outlinewidth": 0,
              "ticks": ""
             }
            },
            "type": "scatter3d"
           }
          ],
          "scattercarpet": [
           {
            "marker": {
             "colorbar": {
              "outlinewidth": 0,
              "ticks": ""
             }
            },
            "type": "scattercarpet"
           }
          ],
          "scattergeo": [
           {
            "marker": {
             "colorbar": {
              "outlinewidth": 0,
              "ticks": ""
             }
            },
            "type": "scattergeo"
           }
          ],
          "scattergl": [
           {
            "marker": {
             "line": {
              "color": "#283442"
             }
            },
            "type": "scattergl"
           }
          ],
          "scattermap": [
           {
            "marker": {
             "colorbar": {
              "outlinewidth": 0,
              "ticks": ""
             }
            },
            "type": "scattermap"
           }
          ],
          "scattermapbox": [
           {
            "marker": {
             "colorbar": {
              "outlinewidth": 0,
              "ticks": ""
             }
            },
            "type": "scattermapbox"
           }
          ],
          "scatterpolar": [
           {
            "marker": {
             "colorbar": {
              "outlinewidth": 0,
              "ticks": ""
             }
            },
            "type": "scatterpolar"
           }
          ],
          "scatterpolargl": [
           {
            "marker": {
             "colorbar": {
              "outlinewidth": 0,
              "ticks": ""
             }
            },
            "type": "scatterpolargl"
           }
          ],
          "scatterternary": [
           {
            "marker": {
             "colorbar": {
              "outlinewidth": 0,
              "ticks": ""
             }
            },
            "type": "scatterternary"
           }
          ],
          "surface": [
           {
            "colorbar": {
             "outlinewidth": 0,
             "ticks": ""
            },
            "colorscale": [
             [
              0,
              "#0d0887"
             ],
             [
              0.1111111111111111,
              "#46039f"
             ],
             [
              0.2222222222222222,
              "#7201a8"
             ],
             [
              0.3333333333333333,
              "#9c179e"
             ],
             [
              0.4444444444444444,
              "#bd3786"
             ],
             [
              0.5555555555555556,
              "#d8576b"
             ],
             [
              0.6666666666666666,
              "#ed7953"
             ],
             [
              0.7777777777777778,
              "#fb9f3a"
             ],
             [
              0.8888888888888888,
              "#fdca26"
             ],
             [
              1,
              "#f0f921"
             ]
            ],
            "type": "surface"
           }
          ],
          "table": [
           {
            "cells": {
             "fill": {
              "color": "#506784"
             },
             "line": {
              "color": "rgb(17,17,17)"
             }
            },
            "header": {
             "fill": {
              "color": "#2a3f5f"
             },
             "line": {
              "color": "rgb(17,17,17)"
             }
            },
            "type": "table"
           }
          ]
         },
         "layout": {
          "annotationdefaults": {
           "arrowcolor": "#f2f5fa",
           "arrowhead": 0,
           "arrowwidth": 1
          },
          "autotypenumbers": "strict",
          "coloraxis": {
           "colorbar": {
            "outlinewidth": 0,
            "ticks": ""
           }
          },
          "colorscale": {
           "diverging": [
            [
             0,
             "#8e0152"
            ],
            [
             0.1,
             "#c51b7d"
            ],
            [
             0.2,
             "#de77ae"
            ],
            [
             0.3,
             "#f1b6da"
            ],
            [
             0.4,
             "#fde0ef"
            ],
            [
             0.5,
             "#f7f7f7"
            ],
            [
             0.6,
             "#e6f5d0"
            ],
            [
             0.7,
             "#b8e186"
            ],
            [
             0.8,
             "#7fbc41"
            ],
            [
             0.9,
             "#4d9221"
            ],
            [
             1,
             "#276419"
            ]
           ],
           "sequential": [
            [
             0,
             "#0d0887"
            ],
            [
             0.1111111111111111,
             "#46039f"
            ],
            [
             0.2222222222222222,
             "#7201a8"
            ],
            [
             0.3333333333333333,
             "#9c179e"
            ],
            [
             0.4444444444444444,
             "#bd3786"
            ],
            [
             0.5555555555555556,
             "#d8576b"
            ],
            [
             0.6666666666666666,
             "#ed7953"
            ],
            [
             0.7777777777777778,
             "#fb9f3a"
            ],
            [
             0.8888888888888888,
             "#fdca26"
            ],
            [
             1,
             "#f0f921"
            ]
           ],
           "sequentialminus": [
            [
             0,
             "#0d0887"
            ],
            [
             0.1111111111111111,
             "#46039f"
            ],
            [
             0.2222222222222222,
             "#7201a8"
            ],
            [
             0.3333333333333333,
             "#9c179e"
            ],
            [
             0.4444444444444444,
             "#bd3786"
            ],
            [
             0.5555555555555556,
             "#d8576b"
            ],
            [
             0.6666666666666666,
             "#ed7953"
            ],
            [
             0.7777777777777778,
             "#fb9f3a"
            ],
            [
             0.8888888888888888,
             "#fdca26"
            ],
            [
             1,
             "#f0f921"
            ]
           ]
          },
          "colorway": [
           "#636efa",
           "#EF553B",
           "#00cc96",
           "#ab63fa",
           "#FFA15A",
           "#19d3f3",
           "#FF6692",
           "#B6E880",
           "#FF97FF",
           "#FECB52"
          ],
          "font": {
           "color": "#f2f5fa"
          },
          "geo": {
           "bgcolor": "rgb(17,17,17)",
           "lakecolor": "rgb(17,17,17)",
           "landcolor": "rgb(17,17,17)",
           "showlakes": true,
           "showland": true,
           "subunitcolor": "#506784"
          },
          "hoverlabel": {
           "align": "left"
          },
          "hovermode": "closest",
          "mapbox": {
           "style": "dark"
          },
          "paper_bgcolor": "rgb(17,17,17)",
          "plot_bgcolor": "rgb(17,17,17)",
          "polar": {
           "angularaxis": {
            "gridcolor": "#506784",
            "linecolor": "#506784",
            "ticks": ""
           },
           "bgcolor": "rgb(17,17,17)",
           "radialaxis": {
            "gridcolor": "#506784",
            "linecolor": "#506784",
            "ticks": ""
           }
          },
          "scene": {
           "xaxis": {
            "backgroundcolor": "rgb(17,17,17)",
            "gridcolor": "#506784",
            "gridwidth": 2,
            "linecolor": "#506784",
            "showbackground": true,
            "ticks": "",
            "zerolinecolor": "#C8D4E3"
           },
           "yaxis": {
            "backgroundcolor": "rgb(17,17,17)",
            "gridcolor": "#506784",
            "gridwidth": 2,
            "linecolor": "#506784",
            "showbackground": true,
            "ticks": "",
            "zerolinecolor": "#C8D4E3"
           },
           "zaxis": {
            "backgroundcolor": "rgb(17,17,17)",
            "gridcolor": "#506784",
            "gridwidth": 2,
            "linecolor": "#506784",
            "showbackground": true,
            "ticks": "",
            "zerolinecolor": "#C8D4E3"
           }
          },
          "shapedefaults": {
           "line": {
            "color": "#f2f5fa"
           }
          },
          "sliderdefaults": {
           "bgcolor": "#C8D4E3",
           "bordercolor": "rgb(17,17,17)",
           "borderwidth": 1,
           "tickwidth": 0
          },
          "ternary": {
           "aaxis": {
            "gridcolor": "#506784",
            "linecolor": "#506784",
            "ticks": ""
           },
           "baxis": {
            "gridcolor": "#506784",
            "linecolor": "#506784",
            "ticks": ""
           },
           "bgcolor": "rgb(17,17,17)",
           "caxis": {
            "gridcolor": "#506784",
            "linecolor": "#506784",
            "ticks": ""
           }
          },
          "title": {
           "x": 0.05
          },
          "updatemenudefaults": {
           "bgcolor": "#506784",
           "borderwidth": 0
          },
          "xaxis": {
           "automargin": true,
           "gridcolor": "#283442",
           "linecolor": "#506784",
           "ticks": "",
           "title": {
            "standoff": 15
           },
           "zerolinecolor": "#283442",
           "zerolinewidth": 2
          },
          "yaxis": {
           "automargin": true,
           "gridcolor": "#283442",
           "linecolor": "#506784",
           "ticks": "",
           "title": {
            "standoff": 15
           },
           "zerolinecolor": "#283442",
           "zerolinewidth": 2
          }
         }
        },
        "title": {
         "text": "Fubon Flow Detection - True vs. Predicted (test_new_bucket)"
        },
        "xaxis": {
         "anchor": "y",
         "domain": [
          0,
          1
         ],
         "title": {
          "text": "Date"
         }
        },
        "yaxis": {
         "anchor": "x",
         "domain": [
          0,
          1
         ],
         "title": {
          "text": "value"
         }
        }
       }
      }
     },
     "metadata": {},
     "output_type": "display_data"
    },
    {
     "data": {
      "application/vnd.microsoft.datawrangler.viewer.v0+json": {
       "columns": [
        {
         "name": "index",
         "rawType": "int64",
         "type": "integer"
        },
        {
         "name": "Date",
         "rawType": "object",
         "type": "string"
        },
        {
         "name": "predicted",
         "rawType": "float64",
         "type": "float"
        },
        {
         "name": "true",
         "rawType": "float64",
         "type": "float"
        }
       ],
       "ref": "1909dcc9-d3d1-4be8-ac47-bdaa14d8071e",
       "rows": [
        [
         "0",
         "2024-09-04",
         "-106317925000.0",
         "-34391885051.0"
        ],
        [
         "1",
         "2024-09-05",
         "-116526635000.0",
         "-104535149830.0"
        ],
        [
         "2",
         "2024-09-06",
         "1693710000.0",
         "-17501589923.0"
        ],
        [
         "3",
         "2024-09-09",
         "-93947055000.0",
         "-85565450065.0"
        ],
        [
         "5",
         "2024-09-11",
         "-26777570000.0",
         "-40393990139.0"
        ],
        [
         "6",
         "2024-09-12",
         "48690555000.0",
         "-29149839929.0"
        ],
        [
         "7",
         "2024-09-13",
         "-2082975000.0",
         "-24180755064.0"
        ],
        [
         "8",
         "2024-09-16",
         "-15861220000.0",
         "-9390455041.0"
        ],
        [
         "9",
         "2024-09-18",
         "-43555680000.0",
         "-215812299827.0"
        ],
        [
         "11",
         "2024-09-20",
         "-544070000.0",
         "30945295200.0"
        ],
        [
         "12",
         "2024-09-23",
         "18855250000.0",
         "153022381934.0"
        ],
        [
         "14",
         "2024-09-25",
         "-44204575000.0",
         "-43560775052.0"
        ],
        [
         "17",
         "2024-09-30",
         "-13531745000.0",
         "-57269289947.0"
        ]
       ],
       "shape": {
        "columns": 3,
        "rows": 13
       }
      },
      "text/html": [
       "<div>\n",
       "<style scoped>\n",
       "    .dataframe tbody tr th:only-of-type {\n",
       "        vertical-align: middle;\n",
       "    }\n",
       "\n",
       "    .dataframe tbody tr th {\n",
       "        vertical-align: top;\n",
       "    }\n",
       "\n",
       "    .dataframe thead th {\n",
       "        text-align: right;\n",
       "    }\n",
       "</style>\n",
       "<table border=\"1\" class=\"dataframe\">\n",
       "  <thead>\n",
       "    <tr style=\"text-align: right;\">\n",
       "      <th></th>\n",
       "      <th>Date</th>\n",
       "      <th>predicted</th>\n",
       "      <th>true</th>\n",
       "    </tr>\n",
       "  </thead>\n",
       "  <tbody>\n",
       "    <tr>\n",
       "      <th>0</th>\n",
       "      <td>2024-09-04</td>\n",
       "      <td>-106317925000.000</td>\n",
       "      <td>-34391885051.000</td>\n",
       "    </tr>\n",
       "    <tr>\n",
       "      <th>1</th>\n",
       "      <td>2024-09-05</td>\n",
       "      <td>-116526635000.000</td>\n",
       "      <td>-104535149830.000</td>\n",
       "    </tr>\n",
       "    <tr>\n",
       "      <th>2</th>\n",
       "      <td>2024-09-06</td>\n",
       "      <td>1693710000.000</td>\n",
       "      <td>-17501589923.000</td>\n",
       "    </tr>\n",
       "    <tr>\n",
       "      <th>3</th>\n",
       "      <td>2024-09-09</td>\n",
       "      <td>-93947055000.000</td>\n",
       "      <td>-85565450065.000</td>\n",
       "    </tr>\n",
       "    <tr>\n",
       "      <th>5</th>\n",
       "      <td>2024-09-11</td>\n",
       "      <td>-26777570000.000</td>\n",
       "      <td>-40393990139.000</td>\n",
       "    </tr>\n",
       "    <tr>\n",
       "      <th>6</th>\n",
       "      <td>2024-09-12</td>\n",
       "      <td>48690555000.000</td>\n",
       "      <td>-29149839929.000</td>\n",
       "    </tr>\n",
       "    <tr>\n",
       "      <th>7</th>\n",
       "      <td>2024-09-13</td>\n",
       "      <td>-2082975000.000</td>\n",
       "      <td>-24180755064.000</td>\n",
       "    </tr>\n",
       "    <tr>\n",
       "      <th>8</th>\n",
       "      <td>2024-09-16</td>\n",
       "      <td>-15861220000.000</td>\n",
       "      <td>-9390455041.000</td>\n",
       "    </tr>\n",
       "    <tr>\n",
       "      <th>9</th>\n",
       "      <td>2024-09-18</td>\n",
       "      <td>-43555680000.000</td>\n",
       "      <td>-215812299827.000</td>\n",
       "    </tr>\n",
       "    <tr>\n",
       "      <th>11</th>\n",
       "      <td>2024-09-20</td>\n",
       "      <td>-544070000.000</td>\n",
       "      <td>30945295200.000</td>\n",
       "    </tr>\n",
       "    <tr>\n",
       "      <th>12</th>\n",
       "      <td>2024-09-23</td>\n",
       "      <td>18855250000.000</td>\n",
       "      <td>153022381934.000</td>\n",
       "    </tr>\n",
       "    <tr>\n",
       "      <th>14</th>\n",
       "      <td>2024-09-25</td>\n",
       "      <td>-44204575000.000</td>\n",
       "      <td>-43560775052.000</td>\n",
       "    </tr>\n",
       "    <tr>\n",
       "      <th>17</th>\n",
       "      <td>2024-09-30</td>\n",
       "      <td>-13531745000.000</td>\n",
       "      <td>-57269289947.000</td>\n",
       "    </tr>\n",
       "  </tbody>\n",
       "</table>\n",
       "</div>"
      ],
      "text/plain": [
       "          Date         predicted              true\n",
       "0   2024-09-04 -106317925000.000  -34391885051.000\n",
       "1   2024-09-05 -116526635000.000 -104535149830.000\n",
       "2   2024-09-06    1693710000.000  -17501589923.000\n",
       "3   2024-09-09  -93947055000.000  -85565450065.000\n",
       "5   2024-09-11  -26777570000.000  -40393990139.000\n",
       "6   2024-09-12   48690555000.000  -29149839929.000\n",
       "7   2024-09-13   -2082975000.000  -24180755064.000\n",
       "8   2024-09-16  -15861220000.000   -9390455041.000\n",
       "9   2024-09-18  -43555680000.000 -215812299827.000\n",
       "11  2024-09-20    -544070000.000   30945295200.000\n",
       "12  2024-09-23   18855250000.000  153022381934.000\n",
       "14  2024-09-25  -44204575000.000  -43560775052.000\n",
       "17  2024-09-30  -13531745000.000  -57269289947.000"
      ]
     },
     "metadata": {},
     "output_type": "display_data"
    },
    {
     "name": "stdout",
     "output_type": "stream",
     "text": [
      "✅ Done! len(df_results) = 13\n"
     ]
    }
   ],
   "source": [
    "from IPython.display import clear_output, display\n",
    "import time\n",
    "\n",
    "while True:\n",
    "    df_results, fig = compare_fubon_flows(\"test_new_bucket\")\n",
    "    \n",
    "    clear_output(wait=True) \n",
    "    display(fig) \n",
    "    display(df_results)\n",
    "        \n",
    "    if len(df_results) >= 13:\n",
    "        print(\"✅ Done! len(df_results) =\", len(df_results))\n",
    "        break\n",
    "    \n",
    "    time.sleep(3)\n"
   ]
  },
  {
   "cell_type": "code",
   "execution_count": 148,
   "id": "3c95a829",
   "metadata": {},
   "outputs": [
    {
     "data": {
      "application/vnd.plotly.v1+json": {
       "config": {
        "plotlyServerURL": "https://plot.ly"
       },
       "data": [
        {
         "hovertemplate": "variable=predicted<br>Date=%{x}<br>value=%{y}<extra></extra>",
         "legendgroup": "predicted",
         "line": {
          "color": "#636efa",
          "dash": "solid"
         },
         "marker": {
          "symbol": "circle"
         },
         "mode": "lines",
         "name": "predicted",
         "orientation": "v",
         "showlegend": true,
         "type": "scatter",
         "x": [
          "2024-09-04",
          "2024-09-05",
          "2024-09-06",
          "2024-09-09",
          "2024-09-11",
          "2024-09-12",
          "2024-09-13",
          "2024-09-16",
          "2024-09-18",
          "2024-09-20",
          "2024-09-23",
          "2024-09-25",
          "2024-09-30"
         ],
         "xaxis": "x",
         "y": {
          "bdata": "AACwnUhGNMIAAMCqVHU7wgAAAMchRxFCAADY+pSeMsIAAEAIZ9MIwgAAAIijBSBCAADgTMskEMIAAOCWRocawgAAMBaw2CLCAACAtf7G80EAAIAecjj7QQAAAB4iE+vBAABA0KvoBMI=",
          "dtype": "f8"
         },
         "yaxis": "y"
        },
        {
         "hovertemplate": "variable=true<br>Date=%{x}<br>value=%{y}<extra></extra>",
         "legendgroup": "true",
         "line": {
          "color": "#EF553B",
          "dash": "solid"
         },
         "marker": {
          "symbol": "circle"
         },
         "mode": "lines",
         "name": "true",
         "orientation": "v",
         "showlegend": true,
         "type": "scatter",
         "x": [
          "2024-09-04",
          "2024-09-05",
          "2024-09-06",
          "2024-09-09",
          "2024-09-11",
          "2024-09-12",
          "2024-09-13",
          "2024-09-16",
          "2024-09-18",
          "2024-09-20",
          "2024-09-23",
          "2024-09-25",
          "2024-09-30"
         ],
         "xaxis": "x",
         "y": {
          "bdata": "AAD2CdUDIMIAAAbNx1Y4wgAAjEa0TBDCAABRJxnsM8IAAPa/Vs8iwgAA5AjdJRvCAADgKSSFFsIAAAjIt30BwgCAGS61H0nCAACA7e7RHEIAALcfbNBBQgAAGFvZSCTCAAC2BwirKsI=",
          "dtype": "f8"
         },
         "yaxis": "y"
        }
       ],
       "layout": {
        "legend": {
         "title": {
          "text": "variable"
         },
         "tracegroupgap": 0
        },
        "template": {
         "data": {
          "bar": [
           {
            "error_x": {
             "color": "#f2f5fa"
            },
            "error_y": {
             "color": "#f2f5fa"
            },
            "marker": {
             "line": {
              "color": "rgb(17,17,17)",
              "width": 0.5
             },
             "pattern": {
              "fillmode": "overlay",
              "size": 10,
              "solidity": 0.2
             }
            },
            "type": "bar"
           }
          ],
          "barpolar": [
           {
            "marker": {
             "line": {
              "color": "rgb(17,17,17)",
              "width": 0.5
             },
             "pattern": {
              "fillmode": "overlay",
              "size": 10,
              "solidity": 0.2
             }
            },
            "type": "barpolar"
           }
          ],
          "carpet": [
           {
            "aaxis": {
             "endlinecolor": "#A2B1C6",
             "gridcolor": "#506784",
             "linecolor": "#506784",
             "minorgridcolor": "#506784",
             "startlinecolor": "#A2B1C6"
            },
            "baxis": {
             "endlinecolor": "#A2B1C6",
             "gridcolor": "#506784",
             "linecolor": "#506784",
             "minorgridcolor": "#506784",
             "startlinecolor": "#A2B1C6"
            },
            "type": "carpet"
           }
          ],
          "choropleth": [
           {
            "colorbar": {
             "outlinewidth": 0,
             "ticks": ""
            },
            "type": "choropleth"
           }
          ],
          "contour": [
           {
            "colorbar": {
             "outlinewidth": 0,
             "ticks": ""
            },
            "colorscale": [
             [
              0,
              "#0d0887"
             ],
             [
              0.1111111111111111,
              "#46039f"
             ],
             [
              0.2222222222222222,
              "#7201a8"
             ],
             [
              0.3333333333333333,
              "#9c179e"
             ],
             [
              0.4444444444444444,
              "#bd3786"
             ],
             [
              0.5555555555555556,
              "#d8576b"
             ],
             [
              0.6666666666666666,
              "#ed7953"
             ],
             [
              0.7777777777777778,
              "#fb9f3a"
             ],
             [
              0.8888888888888888,
              "#fdca26"
             ],
             [
              1,
              "#f0f921"
             ]
            ],
            "type": "contour"
           }
          ],
          "contourcarpet": [
           {
            "colorbar": {
             "outlinewidth": 0,
             "ticks": ""
            },
            "type": "contourcarpet"
           }
          ],
          "heatmap": [
           {
            "colorbar": {
             "outlinewidth": 0,
             "ticks": ""
            },
            "colorscale": [
             [
              0,
              "#0d0887"
             ],
             [
              0.1111111111111111,
              "#46039f"
             ],
             [
              0.2222222222222222,
              "#7201a8"
             ],
             [
              0.3333333333333333,
              "#9c179e"
             ],
             [
              0.4444444444444444,
              "#bd3786"
             ],
             [
              0.5555555555555556,
              "#d8576b"
             ],
             [
              0.6666666666666666,
              "#ed7953"
             ],
             [
              0.7777777777777778,
              "#fb9f3a"
             ],
             [
              0.8888888888888888,
              "#fdca26"
             ],
             [
              1,
              "#f0f921"
             ]
            ],
            "type": "heatmap"
           }
          ],
          "histogram": [
           {
            "marker": {
             "pattern": {
              "fillmode": "overlay",
              "size": 10,
              "solidity": 0.2
             }
            },
            "type": "histogram"
           }
          ],
          "histogram2d": [
           {
            "colorbar": {
             "outlinewidth": 0,
             "ticks": ""
            },
            "colorscale": [
             [
              0,
              "#0d0887"
             ],
             [
              0.1111111111111111,
              "#46039f"
             ],
             [
              0.2222222222222222,
              "#7201a8"
             ],
             [
              0.3333333333333333,
              "#9c179e"
             ],
             [
              0.4444444444444444,
              "#bd3786"
             ],
             [
              0.5555555555555556,
              "#d8576b"
             ],
             [
              0.6666666666666666,
              "#ed7953"
             ],
             [
              0.7777777777777778,
              "#fb9f3a"
             ],
             [
              0.8888888888888888,
              "#fdca26"
             ],
             [
              1,
              "#f0f921"
             ]
            ],
            "type": "histogram2d"
           }
          ],
          "histogram2dcontour": [
           {
            "colorbar": {
             "outlinewidth": 0,
             "ticks": ""
            },
            "colorscale": [
             [
              0,
              "#0d0887"
             ],
             [
              0.1111111111111111,
              "#46039f"
             ],
             [
              0.2222222222222222,
              "#7201a8"
             ],
             [
              0.3333333333333333,
              "#9c179e"
             ],
             [
              0.4444444444444444,
              "#bd3786"
             ],
             [
              0.5555555555555556,
              "#d8576b"
             ],
             [
              0.6666666666666666,
              "#ed7953"
             ],
             [
              0.7777777777777778,
              "#fb9f3a"
             ],
             [
              0.8888888888888888,
              "#fdca26"
             ],
             [
              1,
              "#f0f921"
             ]
            ],
            "type": "histogram2dcontour"
           }
          ],
          "mesh3d": [
           {
            "colorbar": {
             "outlinewidth": 0,
             "ticks": ""
            },
            "type": "mesh3d"
           }
          ],
          "parcoords": [
           {
            "line": {
             "colorbar": {
              "outlinewidth": 0,
              "ticks": ""
             }
            },
            "type": "parcoords"
           }
          ],
          "pie": [
           {
            "automargin": true,
            "type": "pie"
           }
          ],
          "scatter": [
           {
            "marker": {
             "line": {
              "color": "#283442"
             }
            },
            "type": "scatter"
           }
          ],
          "scatter3d": [
           {
            "line": {
             "colorbar": {
              "outlinewidth": 0,
              "ticks": ""
             }
            },
            "marker": {
             "colorbar": {
              "outlinewidth": 0,
              "ticks": ""
             }
            },
            "type": "scatter3d"
           }
          ],
          "scattercarpet": [
           {
            "marker": {
             "colorbar": {
              "outlinewidth": 0,
              "ticks": ""
             }
            },
            "type": "scattercarpet"
           }
          ],
          "scattergeo": [
           {
            "marker": {
             "colorbar": {
              "outlinewidth": 0,
              "ticks": ""
             }
            },
            "type": "scattergeo"
           }
          ],
          "scattergl": [
           {
            "marker": {
             "line": {
              "color": "#283442"
             }
            },
            "type": "scattergl"
           }
          ],
          "scattermap": [
           {
            "marker": {
             "colorbar": {
              "outlinewidth": 0,
              "ticks": ""
             }
            },
            "type": "scattermap"
           }
          ],
          "scattermapbox": [
           {
            "marker": {
             "colorbar": {
              "outlinewidth": 0,
              "ticks": ""
             }
            },
            "type": "scattermapbox"
           }
          ],
          "scatterpolar": [
           {
            "marker": {
             "colorbar": {
              "outlinewidth": 0,
              "ticks": ""
             }
            },
            "type": "scatterpolar"
           }
          ],
          "scatterpolargl": [
           {
            "marker": {
             "colorbar": {
              "outlinewidth": 0,
              "ticks": ""
             }
            },
            "type": "scatterpolargl"
           }
          ],
          "scatterternary": [
           {
            "marker": {
             "colorbar": {
              "outlinewidth": 0,
              "ticks": ""
             }
            },
            "type": "scatterternary"
           }
          ],
          "surface": [
           {
            "colorbar": {
             "outlinewidth": 0,
             "ticks": ""
            },
            "colorscale": [
             [
              0,
              "#0d0887"
             ],
             [
              0.1111111111111111,
              "#46039f"
             ],
             [
              0.2222222222222222,
              "#7201a8"
             ],
             [
              0.3333333333333333,
              "#9c179e"
             ],
             [
              0.4444444444444444,
              "#bd3786"
             ],
             [
              0.5555555555555556,
              "#d8576b"
             ],
             [
              0.6666666666666666,
              "#ed7953"
             ],
             [
              0.7777777777777778,
              "#fb9f3a"
             ],
             [
              0.8888888888888888,
              "#fdca26"
             ],
             [
              1,
              "#f0f921"
             ]
            ],
            "type": "surface"
           }
          ],
          "table": [
           {
            "cells": {
             "fill": {
              "color": "#506784"
             },
             "line": {
              "color": "rgb(17,17,17)"
             }
            },
            "header": {
             "fill": {
              "color": "#2a3f5f"
             },
             "line": {
              "color": "rgb(17,17,17)"
             }
            },
            "type": "table"
           }
          ]
         },
         "layout": {
          "annotationdefaults": {
           "arrowcolor": "#f2f5fa",
           "arrowhead": 0,
           "arrowwidth": 1
          },
          "autotypenumbers": "strict",
          "coloraxis": {
           "colorbar": {
            "outlinewidth": 0,
            "ticks": ""
           }
          },
          "colorscale": {
           "diverging": [
            [
             0,
             "#8e0152"
            ],
            [
             0.1,
             "#c51b7d"
            ],
            [
             0.2,
             "#de77ae"
            ],
            [
             0.3,
             "#f1b6da"
            ],
            [
             0.4,
             "#fde0ef"
            ],
            [
             0.5,
             "#f7f7f7"
            ],
            [
             0.6,
             "#e6f5d0"
            ],
            [
             0.7,
             "#b8e186"
            ],
            [
             0.8,
             "#7fbc41"
            ],
            [
             0.9,
             "#4d9221"
            ],
            [
             1,
             "#276419"
            ]
           ],
           "sequential": [
            [
             0,
             "#0d0887"
            ],
            [
             0.1111111111111111,
             "#46039f"
            ],
            [
             0.2222222222222222,
             "#7201a8"
            ],
            [
             0.3333333333333333,
             "#9c179e"
            ],
            [
             0.4444444444444444,
             "#bd3786"
            ],
            [
             0.5555555555555556,
             "#d8576b"
            ],
            [
             0.6666666666666666,
             "#ed7953"
            ],
            [
             0.7777777777777778,
             "#fb9f3a"
            ],
            [
             0.8888888888888888,
             "#fdca26"
            ],
            [
             1,
             "#f0f921"
            ]
           ],
           "sequentialminus": [
            [
             0,
             "#0d0887"
            ],
            [
             0.1111111111111111,
             "#46039f"
            ],
            [
             0.2222222222222222,
             "#7201a8"
            ],
            [
             0.3333333333333333,
             "#9c179e"
            ],
            [
             0.4444444444444444,
             "#bd3786"
            ],
            [
             0.5555555555555556,
             "#d8576b"
            ],
            [
             0.6666666666666666,
             "#ed7953"
            ],
            [
             0.7777777777777778,
             "#fb9f3a"
            ],
            [
             0.8888888888888888,
             "#fdca26"
            ],
            [
             1,
             "#f0f921"
            ]
           ]
          },
          "colorway": [
           "#636efa",
           "#EF553B",
           "#00cc96",
           "#ab63fa",
           "#FFA15A",
           "#19d3f3",
           "#FF6692",
           "#B6E880",
           "#FF97FF",
           "#FECB52"
          ],
          "font": {
           "color": "#f2f5fa"
          },
          "geo": {
           "bgcolor": "rgb(17,17,17)",
           "lakecolor": "rgb(17,17,17)",
           "landcolor": "rgb(17,17,17)",
           "showlakes": true,
           "showland": true,
           "subunitcolor": "#506784"
          },
          "hoverlabel": {
           "align": "left"
          },
          "hovermode": "closest",
          "mapbox": {
           "style": "dark"
          },
          "paper_bgcolor": "rgb(17,17,17)",
          "plot_bgcolor": "rgb(17,17,17)",
          "polar": {
           "angularaxis": {
            "gridcolor": "#506784",
            "linecolor": "#506784",
            "ticks": ""
           },
           "bgcolor": "rgb(17,17,17)",
           "radialaxis": {
            "gridcolor": "#506784",
            "linecolor": "#506784",
            "ticks": ""
           }
          },
          "scene": {
           "xaxis": {
            "backgroundcolor": "rgb(17,17,17)",
            "gridcolor": "#506784",
            "gridwidth": 2,
            "linecolor": "#506784",
            "showbackground": true,
            "ticks": "",
            "zerolinecolor": "#C8D4E3"
           },
           "yaxis": {
            "backgroundcolor": "rgb(17,17,17)",
            "gridcolor": "#506784",
            "gridwidth": 2,
            "linecolor": "#506784",
            "showbackground": true,
            "ticks": "",
            "zerolinecolor": "#C8D4E3"
           },
           "zaxis": {
            "backgroundcolor": "rgb(17,17,17)",
            "gridcolor": "#506784",
            "gridwidth": 2,
            "linecolor": "#506784",
            "showbackground": true,
            "ticks": "",
            "zerolinecolor": "#C8D4E3"
           }
          },
          "shapedefaults": {
           "line": {
            "color": "#f2f5fa"
           }
          },
          "sliderdefaults": {
           "bgcolor": "#C8D4E3",
           "bordercolor": "rgb(17,17,17)",
           "borderwidth": 1,
           "tickwidth": 0
          },
          "ternary": {
           "aaxis": {
            "gridcolor": "#506784",
            "linecolor": "#506784",
            "ticks": ""
           },
           "baxis": {
            "gridcolor": "#506784",
            "linecolor": "#506784",
            "ticks": ""
           },
           "bgcolor": "rgb(17,17,17)",
           "caxis": {
            "gridcolor": "#506784",
            "linecolor": "#506784",
            "ticks": ""
           }
          },
          "title": {
           "x": 0.05
          },
          "updatemenudefaults": {
           "bgcolor": "#506784",
           "borderwidth": 0
          },
          "xaxis": {
           "automargin": true,
           "gridcolor": "#283442",
           "linecolor": "#506784",
           "ticks": "",
           "title": {
            "standoff": 15
           },
           "zerolinecolor": "#283442",
           "zerolinewidth": 2
          },
          "yaxis": {
           "automargin": true,
           "gridcolor": "#283442",
           "linecolor": "#506784",
           "ticks": "",
           "title": {
            "standoff": 15
           },
           "zerolinecolor": "#283442",
           "zerolinewidth": 2
          }
         }
        },
        "title": {
         "text": "Fubon Flow Detection - True vs. Predicted (test_new_bucket_trial_1)"
        },
        "xaxis": {
         "anchor": "y",
         "domain": [
          0,
          1
         ],
         "title": {
          "text": "Date"
         }
        },
        "yaxis": {
         "anchor": "x",
         "domain": [
          0,
          1
         ],
         "title": {
          "text": "value"
         }
        }
       }
      }
     },
     "metadata": {},
     "output_type": "display_data"
    },
    {
     "data": {
      "application/vnd.microsoft.datawrangler.viewer.v0+json": {
       "columns": [
        {
         "name": "index",
         "rawType": "int64",
         "type": "integer"
        },
        {
         "name": "Date",
         "rawType": "object",
         "type": "string"
        },
        {
         "name": "predicted",
         "rawType": "float64",
         "type": "float"
        },
        {
         "name": "true",
         "rawType": "float64",
         "type": "float"
        }
       ],
       "ref": "9c96763b-b485-46d8-9f7b-4e9bd07c5d3c",
       "rows": [
        [
         "0",
         "2024-09-04",
         "-87078510000.0",
         "-34391885051.0"
        ],
        [
         "1",
         "2024-09-05",
         "-117932600000.0",
         "-104535149830.0"
        ],
        [
         "2",
         "2024-09-06",
         "18551960000.0",
         "-17501589923.0"
        ],
        [
         "3",
         "2024-09-09",
         "-79969975000.0",
         "-85565450065.0"
        ],
        [
         "5",
         "2024-09-11",
         "-13328245000.0",
         "-40393990139.0"
        ],
        [
         "6",
         "2024-09-12",
         "34407040000.0",
         "-29149839929.0"
        ],
        [
         "7",
         "2024-09-13",
         "-17334195000.0",
         "-24180755064.0"
        ],
        [
         "8",
         "2024-09-16",
         "-28484675000.0",
         "-9390455041.0"
        ],
        [
         "9",
         "2024-09-18",
         "-40472415000.0",
         "-215812299827.0"
        ],
        [
         "11",
         "2024-09-20",
         "5308935000.0",
         "30945295200.0"
        ],
        [
         "12",
         "2024-09-23",
         "7306945000.0",
         "153022381934.0"
        ],
        [
         "14",
         "2024-09-25",
         "-3633910000.0",
         "-43560775052.0"
        ],
        [
         "17",
         "2024-09-30",
         "-11225365000.0",
         "-57269289947.0"
        ]
       ],
       "shape": {
        "columns": 3,
        "rows": 13
       }
      },
      "text/html": [
       "<div>\n",
       "<style scoped>\n",
       "    .dataframe tbody tr th:only-of-type {\n",
       "        vertical-align: middle;\n",
       "    }\n",
       "\n",
       "    .dataframe tbody tr th {\n",
       "        vertical-align: top;\n",
       "    }\n",
       "\n",
       "    .dataframe thead th {\n",
       "        text-align: right;\n",
       "    }\n",
       "</style>\n",
       "<table border=\"1\" class=\"dataframe\">\n",
       "  <thead>\n",
       "    <tr style=\"text-align: right;\">\n",
       "      <th></th>\n",
       "      <th>Date</th>\n",
       "      <th>predicted</th>\n",
       "      <th>true</th>\n",
       "    </tr>\n",
       "  </thead>\n",
       "  <tbody>\n",
       "    <tr>\n",
       "      <th>0</th>\n",
       "      <td>2024-09-04</td>\n",
       "      <td>-87078510000.000</td>\n",
       "      <td>-34391885051.000</td>\n",
       "    </tr>\n",
       "    <tr>\n",
       "      <th>1</th>\n",
       "      <td>2024-09-05</td>\n",
       "      <td>-117932600000.000</td>\n",
       "      <td>-104535149830.000</td>\n",
       "    </tr>\n",
       "    <tr>\n",
       "      <th>2</th>\n",
       "      <td>2024-09-06</td>\n",
       "      <td>18551960000.000</td>\n",
       "      <td>-17501589923.000</td>\n",
       "    </tr>\n",
       "    <tr>\n",
       "      <th>3</th>\n",
       "      <td>2024-09-09</td>\n",
       "      <td>-79969975000.000</td>\n",
       "      <td>-85565450065.000</td>\n",
       "    </tr>\n",
       "    <tr>\n",
       "      <th>5</th>\n",
       "      <td>2024-09-11</td>\n",
       "      <td>-13328245000.000</td>\n",
       "      <td>-40393990139.000</td>\n",
       "    </tr>\n",
       "    <tr>\n",
       "      <th>6</th>\n",
       "      <td>2024-09-12</td>\n",
       "      <td>34407040000.000</td>\n",
       "      <td>-29149839929.000</td>\n",
       "    </tr>\n",
       "    <tr>\n",
       "      <th>7</th>\n",
       "      <td>2024-09-13</td>\n",
       "      <td>-17334195000.000</td>\n",
       "      <td>-24180755064.000</td>\n",
       "    </tr>\n",
       "    <tr>\n",
       "      <th>8</th>\n",
       "      <td>2024-09-16</td>\n",
       "      <td>-28484675000.000</td>\n",
       "      <td>-9390455041.000</td>\n",
       "    </tr>\n",
       "    <tr>\n",
       "      <th>9</th>\n",
       "      <td>2024-09-18</td>\n",
       "      <td>-40472415000.000</td>\n",
       "      <td>-215812299827.000</td>\n",
       "    </tr>\n",
       "    <tr>\n",
       "      <th>11</th>\n",
       "      <td>2024-09-20</td>\n",
       "      <td>5308935000.000</td>\n",
       "      <td>30945295200.000</td>\n",
       "    </tr>\n",
       "    <tr>\n",
       "      <th>12</th>\n",
       "      <td>2024-09-23</td>\n",
       "      <td>7306945000.000</td>\n",
       "      <td>153022381934.000</td>\n",
       "    </tr>\n",
       "    <tr>\n",
       "      <th>14</th>\n",
       "      <td>2024-09-25</td>\n",
       "      <td>-3633910000.000</td>\n",
       "      <td>-43560775052.000</td>\n",
       "    </tr>\n",
       "    <tr>\n",
       "      <th>17</th>\n",
       "      <td>2024-09-30</td>\n",
       "      <td>-11225365000.000</td>\n",
       "      <td>-57269289947.000</td>\n",
       "    </tr>\n",
       "  </tbody>\n",
       "</table>\n",
       "</div>"
      ],
      "text/plain": [
       "          Date         predicted              true\n",
       "0   2024-09-04  -87078510000.000  -34391885051.000\n",
       "1   2024-09-05 -117932600000.000 -104535149830.000\n",
       "2   2024-09-06   18551960000.000  -17501589923.000\n",
       "3   2024-09-09  -79969975000.000  -85565450065.000\n",
       "5   2024-09-11  -13328245000.000  -40393990139.000\n",
       "6   2024-09-12   34407040000.000  -29149839929.000\n",
       "7   2024-09-13  -17334195000.000  -24180755064.000\n",
       "8   2024-09-16  -28484675000.000   -9390455041.000\n",
       "9   2024-09-18  -40472415000.000 -215812299827.000\n",
       "11  2024-09-20    5308935000.000   30945295200.000\n",
       "12  2024-09-23    7306945000.000  153022381934.000\n",
       "14  2024-09-25   -3633910000.000  -43560775052.000\n",
       "17  2024-09-30  -11225365000.000  -57269289947.000"
      ]
     },
     "metadata": {},
     "output_type": "display_data"
    },
    {
     "name": "stdout",
     "output_type": "stream",
     "text": [
      "✅ Done! len(df_results) = 13\n"
     ]
    }
   ],
   "source": [
    "from IPython.display import clear_output, display\n",
    "import time\n",
    "\n",
    "while True:\n",
    "    df_results, fig = compare_fubon_flows(\"test_new_bucket_trial_1\")\n",
    "    \n",
    "    clear_output(wait=True) \n",
    "    display(fig) \n",
    "    display(df_results)\n",
    "        \n",
    "    if len(df_results) >= 13:\n",
    "        print(\"✅ Done! len(df_results) =\", len(df_results))\n",
    "        break\n",
    "    \n",
    "    time.sleep(3)\n"
   ]
  },
  {
   "cell_type": "markdown",
   "id": "50af181c",
   "metadata": {},
   "source": [
    "### Bucket Distribution Function Modeling"
   ]
  },
  {
   "cell_type": "markdown",
   "id": "12130d6c",
   "metadata": {},
   "source": [
    "#### No first_center"
   ]
  },
  {
   "cell_type": "code",
   "execution_count": 53,
   "id": "25666d91",
   "metadata": {},
   "outputs": [
    {
     "data": {
      "text/plain": [
       "{0.2: [0.1, 0.3],\n",
       " 0.4: [0.3, 0.5],\n",
       " 0.6: [0.5, 0.7],\n",
       " 0.8: [0.7, 0.9],\n",
       " 1.0: [0.9, 1.2],\n",
       " 1.4: [1.2, 1.7],\n",
       " 2.0: [1.7, 2.4],\n",
       " 2.8: [2.4, 3.4],\n",
       " 4.0: [3.4, 4.9],\n",
       " 5.8: [4.9, 6.9],\n",
       " 8.0: [6.9, 9.5],\n",
       " 11.0: [9.5, 13.5],\n",
       " 16.0: [13.5, 19.5],\n",
       " 23.0: [19.5, 28.5],\n",
       " 34.0: [28.5, 41.0],\n",
       " 48.0: [41.0, 58.5],\n",
       " 69.0: [58.5, 84.5],\n",
       " 100: [84.5, 100]}"
      ]
     },
     "execution_count": 53,
     "metadata": {},
     "output_type": "execute_result"
    }
   ],
   "source": [
    "import numpy as np\n",
    "from typing import Dict, List\n",
    "\n",
    "def generate_non_overlap_distribution(\n",
    "    start: float = 0.5,\n",
    "    stop: float = 100.0,\n",
    "    num: int = 40,\n",
    "    step: float = 0.5,\n",
    "    decimals: int = 3,\n",
    "    growth: float = 1.0,\n",
    "    int_threshold: float = 3.0,\n",
    ") -> Dict[float, List[float]]:\n",
    "    if start <= 0 or stop <= 0 or stop <= start:\n",
    "        raise ValueError(\"start and stop must be positive and stop > start.\")\n",
    "    if num < 2:\n",
    "        raise ValueError(\"num must be >= 2.\")\n",
    "    if growth <= 0:\n",
    "        raise ValueError(\"growth must be > 0.\")\n",
    "\n",
    "    t = np.linspace(0.0, 1.0, num)\n",
    "    w = t ** growth\n",
    "    log_start, log_stop = np.log(start), np.log(stop)\n",
    "    raw = np.exp(log_start + (log_stop - log_start) * w)\n",
    "    rounded = np.round(raw / step) * step\n",
    "    rounded = np.clip(rounded, start, stop)\n",
    "    lots = np.unique(rounded.astype(float))\n",
    "    lots[-1] = float(round(stop, decimals))\n",
    "\n",
    "    snapped = []\n",
    "    for v in lots:\n",
    "        if v >= int_threshold:\n",
    "            v = round(v)\n",
    "        snapped.append(float(v))\n",
    "    lots = np.array(snapped, dtype=float)\n",
    "\n",
    "    eps = 1e-9\n",
    "    filtered = []\n",
    "    last = None\n",
    "    for v in lots:\n",
    "        if last is None or v > last + eps:\n",
    "            filtered.append(v)\n",
    "            last = v\n",
    "    if filtered[-1] < stop - eps:\n",
    "        filtered.append(stop)\n",
    "\n",
    "    lots = [round(float(x), decimals) for x in filtered]\n",
    "    lots[-1] = round(stop, decimals)\n",
    "\n",
    "    distribution: Dict[float, List[float]] = {}\n",
    "    for i, lot in enumerate(lots):\n",
    "        if i == 0:\n",
    "            lower = round(start, decimals)\n",
    "            upper = round((lots[i] + lots[i+1]) / 2, decimals)\n",
    "        elif i == len(lots) - 1:\n",
    "            lower = round((lots[i-1] + lots[i]) / 2, decimals)\n",
    "            upper = round(stop, decimals)\n",
    "        else:\n",
    "            lower = round((lots[i-1] + lots[i]) / 2, decimals)\n",
    "            upper = round((lots[i] + lots[i+1]) / 2, decimals)\n",
    "        distribution[lot] = [lower, upper]\n",
    "    return distribution\n",
    "\n",
    "generate_non_overlap_distribution(\n",
    "    start=0.1,\n",
    "    stop=100,\n",
    "    num=22,\n",
    "    step=0.2,\n",
    "    decimals=3,\n",
    "    growth=1.1167,\n",
    "    int_threshold=7\n",
    ")"
   ]
  },
  {
   "cell_type": "markdown",
   "id": "6ca910d7",
   "metadata": {},
   "source": [
    "#### Add first_center"
   ]
  },
  {
   "cell_type": "code",
   "execution_count": 109,
   "id": "1da2bd6e",
   "metadata": {},
   "outputs": [
    {
     "data": {
      "text/plain": [
       "{0.25: [0.02, 0.35],\n",
       " 0.45: [0.35, 0.675],\n",
       " 0.9: [0.675, 1.125],\n",
       " 1.35: [1.125, 1.575],\n",
       " 1.8: [1.575, 2.025],\n",
       " 2.25: [2.025, 2.7],\n",
       " 3.15: [2.7, 3.375],\n",
       " 3.6: [3.375, 3.825],\n",
       " 4.05: [3.825, 4.5],\n",
       " 4.95: [4.5, 5.475],\n",
       " 6.0: [5.475, 6.5],\n",
       " 7.0: [6.5, 8.0],\n",
       " 9.0: [8.0, 10.0],\n",
       " 11.0: [10.0, 12.0],\n",
       " 13.0: [12.0, 14.5],\n",
       " 16.0: [14.5, 17.5],\n",
       " 19.0: [17.5, 21.0],\n",
       " 23.0: [21.0, 25.5],\n",
       " 28.0: [25.5, 31.5],\n",
       " 35.0: [31.5, 39.0],\n",
       " 43.0: [39.0, 47.5],\n",
       " 52.0: [47.5, 58.0],\n",
       " 64: [58.0, 64]}"
      ]
     },
     "execution_count": 109,
     "metadata": {},
     "output_type": "execute_result"
    }
   ],
   "source": [
    "import numpy as np\n",
    "from typing import Dict, List\n",
    "\n",
    "def generate_non_overlap_distribution(\n",
    "    start: float = 0.5,\n",
    "    stop: float = 100.0,\n",
    "    num: int = 40,\n",
    "    step: float = 0.5,\n",
    "    decimals: int = 3,\n",
    "    growth: float = 1.0,\n",
    "    int_threshold: float = 3.0,\n",
    "    first_center: float = None,\n",
    ") -> Dict[float, List[float]]:\n",
    "    if start <= 0 or stop <= 0 or stop <= start:\n",
    "        raise ValueError(\"start and stop must be positive and stop > start.\")\n",
    "    if num < 2:\n",
    "        raise ValueError(\"num must be >= 2.\")\n",
    "    if growth <= 0:\n",
    "        raise ValueError(\"growth must be > 0.\")\n",
    "\n",
    "    t = np.linspace(0.0, 1.0, num)\n",
    "    w = t ** growth\n",
    "    log_start, log_stop = np.log(start), np.log(stop)\n",
    "    raw = np.exp(log_start + (log_stop - log_start) * w)\n",
    "    rounded = np.round(raw / step) * step\n",
    "    rounded = np.clip(rounded, start, stop)\n",
    "    lots = np.unique(rounded.astype(float))\n",
    "    lots[-1] = float(round(stop, decimals))\n",
    "\n",
    "    snapped = []\n",
    "    for v in lots:\n",
    "        if v >= int_threshold:\n",
    "            v = round(v)\n",
    "        snapped.append(float(v))\n",
    "    lots = np.array(snapped, dtype=float)\n",
    "\n",
    "    eps = 1e-9\n",
    "    filtered = []\n",
    "    last = None\n",
    "    for v in lots:\n",
    "        if last is None or v > last + eps:\n",
    "            filtered.append(v)\n",
    "            last = v\n",
    "    if filtered[-1] < stop - eps:\n",
    "        filtered.append(stop)\n",
    "\n",
    "    if first_center is not None:\n",
    "        fc = float(max(first_center, start))\n",
    "        filtered = [x for x in filtered if x >= fc - eps]\n",
    "        if not filtered or filtered[0] > fc + eps:\n",
    "            filtered.insert(0, fc)\n",
    "        else:\n",
    "            filtered[0] = fc\n",
    "\n",
    "    lots = [round(float(x), decimals) for x in filtered]\n",
    "    lots[-1] = round(stop, decimals)\n",
    "\n",
    "    clean = []\n",
    "    last = None\n",
    "    for v in lots:\n",
    "        if last is None or v > last + eps:\n",
    "            clean.append(v)\n",
    "            last = v\n",
    "    lots = clean\n",
    "\n",
    "    distribution: Dict[float, List[float]] = {}\n",
    "    for i, lot in enumerate(lots):\n",
    "        if i == 0:\n",
    "            lower = round(start, decimals)\n",
    "            upper = round((lots[i] + lots[i+1]) / 2, decimals)\n",
    "        elif i == len(lots) - 1:\n",
    "            lower = round((lots[i-1] + lots[i]) / 2, decimals)\n",
    "            upper = round(stop, decimals)\n",
    "        else:\n",
    "            lower = round((lots[i-1] + lots[i]) / 2, decimals)\n",
    "            upper = round((lots[i] + lots[i+1]) / 2, decimals)\n",
    "        distribution[lot] = [lower, upper]\n",
    "    return distribution\n",
    "\n",
    "\n",
    "generate_non_overlap_distribution(\n",
    "    start=0.02,\n",
    "    stop=64,\n",
    "    num=56,\n",
    "    step=0.45,\n",
    "    decimals=3,\n",
    "    growth=1.4014,\n",
    "    int_threshold=5,\n",
    "    first_center=0.25\n",
    ")"
   ]
  }
 ],
 "metadata": {
  "kernelspec": {
   "display_name": "feature_env",
   "language": "python",
   "name": "python3"
  },
  "language_info": {
   "codemirror_mode": {
    "name": "ipython",
    "version": 3
   },
   "file_extension": ".py",
   "mimetype": "text/x-python",
   "name": "python",
   "nbconvert_exporter": "python",
   "pygments_lexer": "ipython3",
   "version": "3.13.7"
  }
 },
 "nbformat": 4,
 "nbformat_minor": 5
}
